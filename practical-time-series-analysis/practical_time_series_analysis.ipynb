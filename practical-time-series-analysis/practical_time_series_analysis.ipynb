{
 "cells": [
  {
   "cell_type": "markdown",
   "id": "aae0b552",
   "metadata": {},
   "source": [
    "# 2장 시계열 데이터의 발견 및 다루기"
   ]
  },
  {
   "cell_type": "markdown",
   "id": "c8425691",
   "metadata": {},
   "source": []
  }
 ],
 "metadata": {
  "language_info": {
   "name": "python"
  }
 },
 "nbformat": 4,
 "nbformat_minor": 5
}
