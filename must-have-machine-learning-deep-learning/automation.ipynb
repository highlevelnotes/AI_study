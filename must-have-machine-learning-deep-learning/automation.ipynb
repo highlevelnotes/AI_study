{
 "cells": [
  {
   "cell_type": "markdown",
   "id": "0a6037fc",
   "metadata": {},
   "source": [
    "* 캡처 및 클릭 자동화 도구"
   ]
  },
  {
   "cell_type": "code",
   "execution_count": 10,
   "id": "390b588f",
   "metadata": {},
   "outputs": [
    {
     "name": "stdout",
     "output_type": "stream",
     "text": [
      "a키를 누르면 자동화 시작, c키를 누르면 중지합니다.\n"
     ]
    },
    {
     "ename": "KeyboardInterrupt",
     "evalue": "",
     "output_type": "error",
     "traceback": [
      "\u001b[1;31m---------------------------------------------------------------------------\u001b[0m",
      "\u001b[1;31mKeyboardInterrupt\u001b[0m                         Traceback (most recent call last)",
      "\u001b[1;32m<ipython-input-10-83f24daf5cb6>\u001b[0m in \u001b[0;36m<module>\u001b[1;34m\u001b[0m\n\u001b[0;32m     35\u001b[0m         \u001b[0mprint\u001b[0m\u001b[1;33m(\u001b[0m\u001b[1;34m\"자동화가 종료되었습니다.\"\u001b[0m\u001b[1;33m)\u001b[0m\u001b[1;33m\u001b[0m\u001b[1;33m\u001b[0m\u001b[0m\n\u001b[0;32m     36\u001b[0m         \u001b[1;32mbreak\u001b[0m\u001b[1;33m\u001b[0m\u001b[1;33m\u001b[0m\u001b[0m\n\u001b[1;32m---> 37\u001b[1;33m     \u001b[0mtime\u001b[0m\u001b[1;33m.\u001b[0m\u001b[0msleep\u001b[0m\u001b[1;33m(\u001b[0m\u001b[1;36m0.1\u001b[0m\u001b[1;33m)\u001b[0m\u001b[1;33m\u001b[0m\u001b[1;33m\u001b[0m\u001b[0m\n\u001b[0m",
      "\u001b[1;31mKeyboardInterrupt\u001b[0m: "
     ]
    }
   ],
   "source": [
    "import pyautogui\n",
    "import keyboard\n",
    "import time\n",
    "import random\n",
    "\n",
    "def automate_actions():\n",
    "    while True:\n",
    "        if keyboard.is_pressed('c'):\n",
    "            print(\"자동화 중지!\")\n",
    "            break\n",
    "        # 1. Win + Shift + s 누르기\n",
    "        pyautogui.hotkey('win', 'shift', 's')\n",
    "        # 2. 3초 쉬기\n",
    "        time.sleep(3)\n",
    "        # 3. 왼쪽 클릭\n",
    "        pyautogui.click()\n",
    "        # 3-1. 랜덤하게 아주 조금 왼쪽으로 이동했다가 복귀\n",
    "        original_x, original_y = pyautogui.position()\n",
    "        offset = random.uniform(-10, -3)  # 왼쪽으로 3~10픽셀 이동\n",
    "        pyautogui.moveTo(original_x + offset, original_y, duration=0.05)\n",
    "        time.sleep(0.1)\n",
    "        pyautogui.moveTo(original_x, original_y, duration=0.05)\n",
    "        # 4. 3초 쉬기\n",
    "        time.sleep(3)\n",
    "        # 5. 왼쪽 클릭\n",
    "        pyautogui.click()\n",
    "        time.sleep(3)\n",
    "\n",
    "print(\"a키를 누르면 자동화 시작, c키를 누르면 중지합니다.\")\n",
    "\n",
    "while True:\n",
    "    if keyboard.is_pressed('a'):\n",
    "        print(\"자동화 시작!\")\n",
    "        automate_actions()\n",
    "        print(\"자동화가 종료되었습니다.\")\n",
    "        break\n",
    "    time.sleep(0.1)\n"
   ]
  },
  {
   "cell_type": "code",
   "execution_count": null,
   "id": "6cad382e",
   "metadata": {},
   "outputs": [],
   "source": [
    "ㅁ"
   ]
  }
 ],
 "metadata": {
  "kernelspec": {
   "display_name": "Python 3",
   "language": "python",
   "name": "python3"
  },
  "language_info": {
   "codemirror_mode": {
    "name": "ipython",
    "version": 3
   },
   "file_extension": ".py",
   "mimetype": "text/x-python",
   "name": "python",
   "nbconvert_exporter": "python",
   "pygments_lexer": "ipython3",
   "version": "3.11.2"
  }
 },
 "nbformat": 4,
 "nbformat_minor": 5
}
