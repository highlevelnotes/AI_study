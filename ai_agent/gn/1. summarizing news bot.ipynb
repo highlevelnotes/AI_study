{
 "cells": [
  {
   "cell_type": "code",
   "execution_count": 1,
   "id": "adf461a3",
   "metadata": {},
   "outputs": [],
   "source": [
    "from selenium import webdriver\n",
    "from webdriver_manager.chrome import ChromeDriverManager\n",
    "from selenium.webdriver.common.by import By\n",
    "\n",
    "driver = webdriver.Chrome()"
   ]
  },
  {
   "cell_type": "code",
   "execution_count": 2,
   "id": "82901e9e",
   "metadata": {},
   "outputs": [],
   "source": [
    "driver.get('https://www.naver.com')"
   ]
  },
  {
   "cell_type": "code",
   "execution_count": 4,
   "id": "efa4dc14",
   "metadata": {},
   "outputs": [],
   "source": [
    "driver.get('https://search.naver.com/search.naver?ssc=tab.news.all&where=news&sm=tab_jum&query=ChatGPT')"
   ]
  },
  {
   "cell_type": "code",
   "execution_count": 9,
   "id": "6c8c6132",
   "metadata": {},
   "outputs": [],
   "source": [
    "sel = driver.find_element(By.CLASS_NAME, 'sds-comps-text-type-headline1')"
   ]
  },
  {
   "cell_type": "code",
   "execution_count": 10,
   "id": "71c5c86e",
   "metadata": {},
   "outputs": [],
   "source": [
    "sel.click()"
   ]
  },
  {
   "cell_type": "code",
   "execution_count": 11,
   "id": "a9143b7a",
   "metadata": {},
   "outputs": [],
   "source": [
    "driver.get('https://sports.news.naver.com/index')"
   ]
  },
  {
   "cell_type": "code",
   "execution_count": null,
   "id": "e8c11480",
   "metadata": {},
   "outputs": [],
   "source": [
    "news_links = driver.find_elements(By.CLASS_NAME, '')"
   ]
  }
 ],
 "metadata": {
  "kernelspec": {
   "display_name": "Python 3",
   "language": "python",
   "name": "python3"
  },
  "language_info": {
   "codemirror_mode": {
    "name": "ipython",
    "version": 3
   },
   "file_extension": ".py",
   "mimetype": "text/x-python",
   "name": "python",
   "nbconvert_exporter": "python",
   "pygments_lexer": "ipython3",
   "version": "3.11.2"
  }
 },
 "nbformat": 4,
 "nbformat_minor": 5
}
