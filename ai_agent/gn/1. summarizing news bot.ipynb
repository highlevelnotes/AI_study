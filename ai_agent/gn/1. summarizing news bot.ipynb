{
 "cells": [
  {
   "cell_type": "code",
   "execution_count": 1,
   "id": "adf461a3",
   "metadata": {},
   "outputs": [],
   "source": [
    "from selenium import webdriver\n",
    "from webdriver_manager.chrome import ChromeDriverManager\n",
    "from selenium.webdriver.common.by import By\n",
    "\n",
    "driver = webdriver.Chrome()"
   ]
  },
  {
   "cell_type": "code",
   "execution_count": 2,
   "id": "82901e9e",
   "metadata": {},
   "outputs": [],
   "source": [
    "driver.get('https://www.naver.com')"
   ]
  },
  {
   "cell_type": "code",
   "execution_count": 3,
   "id": "efa4dc14",
   "metadata": {},
   "outputs": [],
   "source": [
    "driver.get('https://search.naver.com/search.naver?ssc=tab.news.all&where=news&sm=tab_jum&query=ChatGPT')"
   ]
  },
  {
   "cell_type": "code",
   "execution_count": 4,
   "id": "6c8c6132",
   "metadata": {},
   "outputs": [],
   "source": [
    "sel = driver.find_element(By.CLASS_NAME, 'sds-comps-text-type-headline1')"
   ]
  },
  {
   "cell_type": "code",
   "execution_count": 5,
   "id": "71c5c86e",
   "metadata": {},
   "outputs": [],
   "source": [
    "sel.click()"
   ]
  },
  {
   "cell_type": "code",
   "execution_count": 6,
   "id": "a9143b7a",
   "metadata": {},
   "outputs": [],
   "source": [
    "driver.get('https://sports.news.naver.com/index')"
   ]
  },
  {
   "cell_type": "code",
   "execution_count": 7,
   "id": "e8c11480",
   "metadata": {},
   "outputs": [],
   "source": [
    "news_links = driver.find_elements(By.CLASS_NAME, 'Home_link_title__W6Auj')"
   ]
  },
  {
   "cell_type": "code",
   "execution_count": 8,
   "id": "78c7c08d",
   "metadata": {},
   "outputs": [
    {
     "data": {
      "text/plain": [
       "[<selenium.webdriver.remote.webelement.WebElement (session=\"3b05ad731091b1916079486f3ce91ce3\", element=\"f.B0D35A4D07E9F695849F581BC9EE6585.d.360FEC0F041F916D1F9C2D065056A2D8.e.6242\")>,\n",
       " <selenium.webdriver.remote.webelement.WebElement (session=\"3b05ad731091b1916079486f3ce91ce3\", element=\"f.B0D35A4D07E9F695849F581BC9EE6585.d.360FEC0F041F916D1F9C2D065056A2D8.e.6255\")>,\n",
       " <selenium.webdriver.remote.webelement.WebElement (session=\"3b05ad731091b1916079486f3ce91ce3\", element=\"f.B0D35A4D07E9F695849F581BC9EE6585.d.360FEC0F041F916D1F9C2D065056A2D8.e.6268\")>,\n",
       " <selenium.webdriver.remote.webelement.WebElement (session=\"3b05ad731091b1916079486f3ce91ce3\", element=\"f.B0D35A4D07E9F695849F581BC9EE6585.d.360FEC0F041F916D1F9C2D065056A2D8.e.6281\")>,\n",
       " <selenium.webdriver.remote.webelement.WebElement (session=\"3b05ad731091b1916079486f3ce91ce3\", element=\"f.B0D35A4D07E9F695849F581BC9EE6585.d.360FEC0F041F916D1F9C2D065056A2D8.e.6294\")>,\n",
       " <selenium.webdriver.remote.webelement.WebElement (session=\"3b05ad731091b1916079486f3ce91ce3\", element=\"f.B0D35A4D07E9F695849F581BC9EE6585.d.360FEC0F041F916D1F9C2D065056A2D8.e.6307\")>,\n",
       " <selenium.webdriver.remote.webelement.WebElement (session=\"3b05ad731091b1916079486f3ce91ce3\", element=\"f.B0D35A4D07E9F695849F581BC9EE6585.d.360FEC0F041F916D1F9C2D065056A2D8.e.7250\")>,\n",
       " <selenium.webdriver.remote.webelement.WebElement (session=\"3b05ad731091b1916079486f3ce91ce3\", element=\"f.B0D35A4D07E9F695849F581BC9EE6585.d.360FEC0F041F916D1F9C2D065056A2D8.e.7253\")>,\n",
       " <selenium.webdriver.remote.webelement.WebElement (session=\"3b05ad731091b1916079486f3ce91ce3\", element=\"f.B0D35A4D07E9F695849F581BC9EE6585.d.360FEC0F041F916D1F9C2D065056A2D8.e.7256\")>,\n",
       " <selenium.webdriver.remote.webelement.WebElement (session=\"3b05ad731091b1916079486f3ce91ce3\", element=\"f.B0D35A4D07E9F695849F581BC9EE6585.d.360FEC0F041F916D1F9C2D065056A2D8.e.7259\")>]"
      ]
     },
     "execution_count": 8,
     "metadata": {},
     "output_type": "execute_result"
    }
   ],
   "source": [
    "news_links"
   ]
  },
  {
   "cell_type": "code",
   "execution_count": 9,
   "id": "55574f6c",
   "metadata": {},
   "outputs": [
    {
     "data": {
      "text/plain": [
       "'https://m.entertain.naver.com/article/468/0001158702'"
      ]
     },
     "execution_count": 9,
     "metadata": {},
     "output_type": "execute_result"
    }
   ],
   "source": [
    "news_links[0].get_attribute('href')"
   ]
  },
  {
   "cell_type": "code",
   "execution_count": 10,
   "id": "1a8653fc",
   "metadata": {},
   "outputs": [
    {
     "name": "stdout",
     "output_type": "stream",
     "text": [
      "오늘의  1 번째 뉴스\n",
      "https://m.entertain.naver.com/article/468/0001158702\n",
      "오늘의  2 번째 뉴스\n",
      "https://m.sports.naver.com/kfootball/article/216/0000136431\n",
      "오늘의  3 번째 뉴스\n",
      "https://m.sports.naver.com/kbaseball/article/076/0004294949\n",
      "오늘의  4 번째 뉴스\n",
      "https://m.sports.naver.com/kfootball/article/076/0004294970\n",
      "오늘의  5 번째 뉴스\n",
      "https://m.sports.naver.com/wbasketball/article/065/0000281229\n",
      "오늘의  6 번째 뉴스\n",
      "https://m.sports.naver.com/kbaseball/article/117/0003959849\n",
      "오늘의  7 번째 뉴스\n",
      "https://m.entertain.naver.com/article/468/0001158702\n",
      "오늘의  8 번째 뉴스\n",
      "https://m.sports.naver.com/kbaseball/article/117/0003960031\n",
      "오늘의  9 번째 뉴스\n",
      "https://m.sports.naver.com/kbaseball/article/241/0003449115\n",
      "오늘의  10 번째 뉴스\n",
      "https://m.sports.naver.com/wbasketball/article/065/0000281229\n"
     ]
    }
   ],
   "source": [
    "cnt = 1\n",
    "for news in news_links:\n",
    "  print('오늘의 ', cnt, '번째 뉴스')\n",
    "  print(news.get_attribute('href'))\n",
    "  cnt += 1"
   ]
  },
  {
   "cell_type": "code",
   "execution_count": 11,
   "id": "32e896c5",
   "metadata": {},
   "outputs": [
    {
     "name": "stdout",
     "output_type": "stream",
     "text": [
      "오늘의  1 번째 뉴스\n",
      "https://m.entertain.naver.com/article/468/0001158702\n",
      "오늘의  2 번째 뉴스\n",
      "https://m.sports.naver.com/kfootball/article/216/0000136431\n",
      "오늘의  3 번째 뉴스\n",
      "https://m.sports.naver.com/kbaseball/article/076/0004294949\n",
      "오늘의  4 번째 뉴스\n",
      "https://m.sports.naver.com/kfootball/article/076/0004294970\n",
      "오늘의  5 번째 뉴스\n",
      "https://m.sports.naver.com/wbasketball/article/065/0000281229\n",
      "오늘의  6 번째 뉴스\n",
      "https://m.sports.naver.com/kbaseball/article/117/0003959849\n",
      "오늘의  7 번째 뉴스\n",
      "https://m.entertain.naver.com/article/468/0001158702\n",
      "오늘의  8 번째 뉴스\n",
      "https://m.sports.naver.com/kbaseball/article/117/0003960031\n",
      "오늘의  9 번째 뉴스\n",
      "https://m.sports.naver.com/kbaseball/article/241/0003449115\n",
      "오늘의  10 번째 뉴스\n",
      "https://m.sports.naver.com/wbasketball/article/065/0000281229\n"
     ]
    }
   ],
   "source": [
    "news_list = []\n",
    "\n",
    "cnt = 1\n",
    "for news in news_links:\n",
    "  print('오늘의 ', cnt, '번째 뉴스')\n",
    "  print(news.get_attribute('href'))\n",
    "  news_list.append(news.get_attribute('href'))\n",
    "  cnt += 1"
   ]
  },
  {
   "cell_type": "code",
   "execution_count": 12,
   "id": "093b05d8",
   "metadata": {},
   "outputs": [
    {
     "data": {
      "text/plain": [
       "['https://m.entertain.naver.com/article/468/0001158702',\n",
       " 'https://m.sports.naver.com/kfootball/article/216/0000136431',\n",
       " 'https://m.sports.naver.com/kbaseball/article/076/0004294949',\n",
       " 'https://m.sports.naver.com/kfootball/article/076/0004294970',\n",
       " 'https://m.sports.naver.com/wbasketball/article/065/0000281229',\n",
       " 'https://m.sports.naver.com/kbaseball/article/117/0003959849',\n",
       " 'https://m.entertain.naver.com/article/468/0001158702',\n",
       " 'https://m.sports.naver.com/kbaseball/article/117/0003960031',\n",
       " 'https://m.sports.naver.com/kbaseball/article/241/0003449115',\n",
       " 'https://m.sports.naver.com/wbasketball/article/065/0000281229']"
      ]
     },
     "execution_count": 12,
     "metadata": {},
     "output_type": "execute_result"
    }
   ],
   "source": [
    "news_list"
   ]
  },
  {
   "cell_type": "code",
   "execution_count": 13,
   "id": "d851195d",
   "metadata": {},
   "outputs": [],
   "source": [
    "for news in news_list:\n",
    "  driver.get(news)"
   ]
  },
  {
   "cell_type": "code",
   "execution_count": 14,
   "id": "9d20afd5",
   "metadata": {},
   "outputs": [],
   "source": [
    "driver.get(news_list[0])"
   ]
  },
  {
   "cell_type": "code",
   "execution_count": 15,
   "id": "ea7eb37a",
   "metadata": {},
   "outputs": [],
   "source": [
    "news_title = driver.find_element(By.CLASS_NAME, 'ArticleHead_article_title__qh8GV')"
   ]
  },
  {
   "cell_type": "code",
   "execution_count": 16,
   "id": "3588869c",
   "metadata": {},
   "outputs": [
    {
     "data": {
      "text/plain": [
       "<selenium.webdriver.remote.webelement.WebElement (session=\"3b05ad731091b1916079486f3ce91ce3\", element=\"f.B0D35A4D07E9F695849F581BC9EE6585.d.224EEBBD312AD8A977BE85D4F0AB8730.e.26573\")>"
      ]
     },
     "execution_count": 16,
     "metadata": {},
     "output_type": "execute_result"
    }
   ],
   "source": [
    "news_title"
   ]
  },
  {
   "cell_type": "code",
   "execution_count": 17,
   "id": "b13ca0e4",
   "metadata": {},
   "outputs": [
    {
     "data": {
      "text/plain": [
       "'“하늘에서도 롯데 응원할듯”…꽃과 자이언츠를 사랑한 배우 이서이, 비보에 애도물결'"
      ]
     },
     "execution_count": 17,
     "metadata": {},
     "output_type": "execute_result"
    }
   ],
   "source": [
    "news_title.text"
   ]
  },
  {
   "cell_type": "code",
   "execution_count": 18,
   "id": "55cf3633",
   "metadata": {},
   "outputs": [
    {
     "data": {
      "text/plain": [
       "<selenium.webdriver.remote.webelement.WebElement (session=\"3b05ad731091b1916079486f3ce91ce3\", element=\"f.B0D35A4D07E9F695849F581BC9EE6585.d.224EEBBD312AD8A977BE85D4F0AB8730.e.26625\")>"
      ]
     },
     "execution_count": 18,
     "metadata": {},
     "output_type": "execute_result"
    }
   ],
   "source": [
    "driver.find_element(By.CLASS_NAME, '_article_content')"
   ]
  },
  {
   "cell_type": "code",
   "execution_count": 19,
   "id": "38f9aa01",
   "metadata": {},
   "outputs": [
    {
     "data": {
      "text/plain": [
       "'연기·플로리스트·학문까지…이서이, 다재다능했던 삶의 마지막\\n\\n사진|이서이SNS\\n\\n사진|이서이SNS\\n\\n사진|이서이SNS\\n\\n사진|이서이SNS\\n\\n[스포츠서울 | 배우근 기자] 배우 이서이의 갑작스러운 사망 소식이 전해지며 팬들과 동료 배우들의 애도가 이어지고 있다.\\n\\n특히 그의 SNS에는 생전 롯데 자이언츠 유니폼을 입고 야구장을 찾은 직관 사진이 다수 남아 있어, “하늘에서도 롯데 응원하고 있을 것 같다”는 댓글이 이어지고 있다.\\n\\n1일, 고인의 매니저는 고인의 SNS를 통해 “찬란하고 아름답고 예쁘고 착한 언니가 2025년 6월 20일 하늘나라의 별이 되어 이렇게 남깁니다”라고 이서이의 부고를 전했다.\\n\\n이어 “고인의 부고에 다들 놀라시고 상심이 크시겠지만, 언니가 좋은 곳으로 갈 수 있도록 기도 부탁드립니다”라고도 덧붙였다.\\n\\n사진|이서이SNS\\n\\n이서이는 1982년 4월 18일생으로, 한국외국어대학교에서 체코·슬로바키어를 전공하고, 부산대학교 대학원에 진학했다.\\n\\n배우로는 2013년 MBC 드라마 ‘구암 허준’으로 데뷔했다. 이후 2014년 SBS ‘청담동 스캔들’을 통해 대중의 인지도를 높였다.\\n\\n그외 ‘마담 뺑덕’, ‘상의원’, ‘더 킹’, ‘아직 사랑하고 있습니다’, ‘킬링 로맨스’ 등 다수 작품과 영화에 출연했다.\\n\\n최근작은 지난 5월 종영한 tvN 드라마 ‘이혼보험’으로, 꾸준히 활동을 이어오던 중이었기에 이번 비보는 더 큰 충격으로 다가온다.\\n\\n영화 ‘킬링 로맨스’에서는 배우 공명의 누나 역할로 등장해 강렬한 인상을 남겼고, 연극 ‘굿닥터’, ‘별난 사람들’ 등에 출연하며 입체적 연기를 보여줬다.\\n\\n이서이는 배우 활동 외에도 플로리스트로 활동하며 꽃과 식물을 사랑하는 삶을 SNS를 통해 공유해왔다.\\n\\n특히 부산 출신임을 밝히며, 롯데 자이언츠 팬임을 드러낸 게시물에서 여럿 있다. 롯데 유니폼을 입고 활짝 웃는 모습이다.\\n\\n이서이의 사망 소식이 알려진 이후, SNS와 온라인 커뮤니티를 통해 추모가 이어지고 있다.\\n\\nkenny@sportsseoul.com'"
      ]
     },
     "execution_count": 19,
     "metadata": {},
     "output_type": "execute_result"
    }
   ],
   "source": [
    "driver.find_element(By.CLASS_NAME, '_article_content').text"
   ]
  },
  {
   "cell_type": "code",
   "execution_count": 20,
   "id": "b2d6eb93",
   "metadata": {},
   "outputs": [],
   "source": [
    "news_text = driver.find_element(By.CLASS_NAME, '_article_content')"
   ]
  },
  {
   "cell_type": "code",
   "execution_count": 21,
   "id": "847a6a28",
   "metadata": {},
   "outputs": [
    {
     "name": "stdout",
     "output_type": "stream",
     "text": [
      "연기·플로리스트·학문까지…이서이, 다재다능했던 삶의 마지막\n",
      "\n",
      "사진|이서이SNS\n",
      "\n",
      "사진|이서이SNS\n",
      "\n",
      "사진|이서이SNS\n",
      "\n",
      "사진|이서이SNS\n",
      "\n",
      "[스포츠서울 | 배우근 기자] 배우 이서이의 갑작스러운 사망 소식이 전해지며 팬들과 동료 배우들의 애도가 이어지고 있다.\n",
      "\n",
      "특히 그의 SNS에는 생전 롯데 자이언츠 유니폼을 입고 야구장을 찾은 직관 사진이 다수 남아 있어, “하늘에서도 롯데 응원하고 있을 것 같다”는 댓글이 이어지고 있다.\n",
      "\n",
      "1일, 고인의 매니저는 고인의 SNS를 통해 “찬란하고 아름답고 예쁘고 착한 언니가 2025년 6월 20일 하늘나라의 별이 되어 이렇게 남깁니다”라고 이서이의 부고를 전했다.\n",
      "\n",
      "이어 “고인의 부고에 다들 놀라시고 상심이 크시겠지만, 언니가 좋은 곳으로 갈 수 있도록 기도 부탁드립니다”라고도 덧붙였다.\n",
      "\n",
      "사진|이서이SNS\n",
      "\n",
      "이서이는 1982년 4월 18일생으로, 한국외국어대학교에서 체코·슬로바키어를 전공하고, 부산대학교 대학원에 진학했다.\n",
      "\n",
      "배우로는 2013년 MBC 드라마 ‘구암 허준’으로 데뷔했다. 이후 2014년 SBS ‘청담동 스캔들’을 통해 대중의 인지도를 높였다.\n",
      "\n",
      "그외 ‘마담 뺑덕’, ‘상의원’, ‘더 킹’, ‘아직 사랑하고 있습니다’, ‘킬링 로맨스’ 등 다수 작품과 영화에 출연했다.\n",
      "\n",
      "최근작은 지난 5월 종영한 tvN 드라마 ‘이혼보험’으로, 꾸준히 활동을 이어오던 중이었기에 이번 비보는 더 큰 충격으로 다가온다.\n",
      "\n",
      "영화 ‘킬링 로맨스’에서는 배우 공명의 누나 역할로 등장해 강렬한 인상을 남겼고, 연극 ‘굿닥터’, ‘별난 사람들’ 등에 출연하며 입체적 연기를 보여줬다.\n",
      "\n",
      "이서이는 배우 활동 외에도 플로리스트로 활동하며 꽃과 식물을 사랑하는 삶을 SNS를 통해 공유해왔다.\n",
      "\n",
      "특히 부산 출신임을 밝히며, 롯데 자이언츠 팬임을 드러낸 게시물에서 여럿 있다. 롯데 유니폼을 입고 활짝 웃는 모습이다.\n",
      "\n",
      "이서이의 사망 소식이 알려진 이후, SNS와 온라인 커뮤니티를 통해 추모가 이어지고 있다.\n",
      "\n",
      "kenny@sportsseoul.com\n"
     ]
    }
   ],
   "source": [
    "print(news_text.text)"
   ]
  },
  {
   "cell_type": "code",
   "execution_count": 22,
   "id": "d82c75e9",
   "metadata": {},
   "outputs": [],
   "source": [
    "import time\n",
    "\n",
    "news_content_list = []\n",
    "for news in news_list:\n",
    "  news_content = dict()\n",
    "  driver.get(news)\n",
    "  time.sleep(2)\n",
    "\n",
    "  news_title = driver.find_element(By.CLASS_NAME, 'ArticleHead_article_title__qh8GV')\n",
    "  news_content['title'] = news_title.text\n",
    "\n",
    "  news_texts = driver.find_element(By.CLASS_NAME, '_article_content')\n",
    "  news_content['main_text'] = news_texts.text\n",
    "  news_content_list.append(news_content)"
   ]
  },
  {
   "cell_type": "code",
   "execution_count": 23,
   "id": "3ef5a736",
   "metadata": {},
   "outputs": [
    {
     "data": {
      "text/plain": [
       "[{'title': '“하늘에서도 롯데 응원할듯”…꽃과 자이언츠를 사랑한 배우 이서이, 비보에 애도물결',\n",
       "  'main_text': '연기·플로리스트·학문까지…이서이, 다재다능했던 삶의 마지막\\n\\n사진|이서이SNS\\n\\n사진|이서이SNS\\n\\n사진|이서이SNS\\n\\n사진|이서이SNS\\n\\n[스포츠서울 | 배우근 기자] 배우 이서이의 갑작스러운 사망 소식이 전해지며 팬들과 동료 배우들의 애도가 이어지고 있다.\\n\\n특히 그의 SNS에는 생전 롯데 자이언츠 유니폼을 입고 야구장을 찾은 직관 사진이 다수 남아 있어, “하늘에서도 롯데 응원하고 있을 것 같다”는 댓글이 이어지고 있다.\\n\\n1일, 고인의 매니저는 고인의 SNS를 통해 “찬란하고 아름답고 예쁘고 착한 언니가 2025년 6월 20일 하늘나라의 별이 되어 이렇게 남깁니다”라고 이서이의 부고를 전했다.\\n\\n이어 “고인의 부고에 다들 놀라시고 상심이 크시겠지만, 언니가 좋은 곳으로 갈 수 있도록 기도 부탁드립니다”라고도 덧붙였다.\\n\\n사진|이서이SNS\\n\\n이서이는 1982년 4월 18일생으로, 한국외국어대학교에서 체코·슬로바키어를 전공하고, 부산대학교 대학원에 진학했다.\\n\\n배우로는 2013년 MBC 드라마 ‘구암 허준’으로 데뷔했다. 이후 2014년 SBS ‘청담동 스캔들’을 통해 대중의 인지도를 높였다.\\n\\n그외 ‘마담 뺑덕’, ‘상의원’, ‘더 킹’, ‘아직 사랑하고 있습니다’, ‘킬링 로맨스’ 등 다수 작품과 영화에 출연했다.\\n\\n최근작은 지난 5월 종영한 tvN 드라마 ‘이혼보험’으로, 꾸준히 활동을 이어오던 중이었기에 이번 비보는 더 큰 충격으로 다가온다.\\n\\n영화 ‘킬링 로맨스’에서는 배우 공명의 누나 역할로 등장해 강렬한 인상을 남겼고, 연극 ‘굿닥터’, ‘별난 사람들’ 등에 출연하며 입체적 연기를 보여줬다.\\n\\n이서이는 배우 활동 외에도 플로리스트로 활동하며 꽃과 식물을 사랑하는 삶을 SNS를 통해 공유해왔다.\\n\\n특히 부산 출신임을 밝히며, 롯데 자이언츠 팬임을 드러낸 게시물에서 여럿 있다. 롯데 유니폼을 입고 활짝 웃는 모습이다.\\n\\n이서이의 사망 소식이 알려진 이후, SNS와 온라인 커뮤니티를 통해 추모가 이어지고 있다.\\n\\nkenny@sportsseoul.com'},\n",
       " {'title': \"'갈등 봉합' FC서울, 김기동 감독 내건 목표 향해 달린다... 상대는 '19경기 무패' 막강 전북\",\n",
       "  'main_text': '[골닷컴] 김형중 기자 = FC서울에는 시끄러운 한 주였다. 베테랑 기성용의 이적으로 팬들이 들고 일어났다. 포항스틸러스와 맞붙은 29일 갈등은 최고조에 달했다. 버스는 한 시간 넘게 막혔고 감독은 사과했다. 1일에는 구단-팬 간담회가 열렸다. 완벽히 봉합되진 않은 듯하지만 그래도 팬들의 분노는 어느 정도 누그러진 모양새다.\\n\\n이제는 전북현대를 만난다. 코리아컵 8강전이다. 홈 구장 서울월드컵경기장에서 단판 승부로 열린다.\\n\\n코리아컵은 김기동 감독이 올 시즌 개막 전 우승 공약으로 내건 대회다. 결승전이 상암벌에서 열리는데 서울이 그 무대에 있어야 한다는 게 이유였다. 8강까지 오른 만큼 두 번의 산만 넘으면 결승 무대에 설 수 있다.\\n\\n선수단을 둘러싼 분위기는 최악이었지만 경기력은 좋았다. 포항전에서 올 시즌 한 경기 최다 골인 4골을 폭발했다. 전반에만 3골을 넣은 것도 시즌 처음이었다. 더욱 고무적인 것은 공격에 포진한 외국인 선수들이 모두 골맛을 봤다는 점이다. 캡틴 제시 린가드와 윙어 루카스 실바, 스트라이커 둑스, 그리고 여름 이적생 파트리크 클리말라가 득점포에 가세했다. 올 시즌 내내 득점력 부진에 시달리던 서울의 공격에 혈이 뚫린 셈이다.\\n\\n\\n\\n수비도 여전히 단단하다. K리그1 21경기를 치르며 20실점이다. 선두 전북과 2경기 덜 치른 울산 HD에 이어 최소 실점 3위다. 각국 국가대표 김주성과 야잔이 버티는 센터백이 단단하고 측면의 김진수와 최준도 건재하다.\\n\\n물론 상대 전북이 막강하다. 코리아컵 포함 현재 19경기 무패(14승 5무) 행진을 달리고 있다. 리그에서 21경기 36득점, 16실점으로 두 부문 모두 1위다. 득점 선두 전진우와 이탈리아 폭격기 콤파뇨가 20골을 합작했고, 컨디션이 살아난 티아고도 4골로 득점 대열에 합류했다. 홍정호와 김영빈, 그리고 박진섭 등이 버티는 수비도 리그에서 8번의 클린시트 경기를 만들었다.\\n\\n\\n\\n올 시즌 맞대결 성적은 서울이 전북에 1무 1패로 열세다. 5월 홈에서 0-1로 패했고, 6월 원정에서 1-1로 비겼다. 단판 승부인 만큼 무엇보다 토너먼트에 강한 김기동 감독의 맞춤 전술과 전략이 필요하다. 그는 그동안 코리아컵에서 상대에 따른 다양한 전술 패턴으로 단기전에 강한 모습을 보여왔고, 2023년 포항 시절 우승컵을 들어 올린 바 있다.\\n\\n양 팀의 코리아컵 8강 경기는 2일 오후 7시 30분 서울월드컵경기장에서 킥오프 한다.\\n\\n사진 = 한국프로축구연맹'},\n",
       " {'title': \"'졌지만 박수갈채' 엘롯라시코 흙으로 범벅된 유니폼...끝까지 최선 다해 뛴 롯데\",\n",
       "  'main_text': '치열했던 엘롯라시코 첫 경기 롯데 유격수 전민재와 2루수 고승민은 온몸을 날려 수비를 펼쳤다.\\n9회말 1사 2루 롯데 전민재 내야 땅볼 때 런다운에 걸린 박찬형이 끝까지 포기하지 않고 3루를 향해 몸을 날렸다. 부산=박재만 기자 pjm@sportschosun.com\\n[부산=스포츠조선 박재만 기자] 졌지만 경기장을 찾은 롯데 팬들은 선수들을 향해 아낌없는 박수를 보냈다.\\n\\n2위 자리를 놓고 마지막 순간까지 치열한 승부를 펼친 엘롯라시코. 결과는 아쉬웠지만 마지막 아웃카운트가 올라가는 순간까지 유니폼에 흙이 잔뜩 묻을 정도로 최선을 다해 뛴 선수들에게 응원의 박수가 쏟아졌다.\\n\\n1일 부산 사직구장에서 열린 롯데 자이언츠와 LG 트윈스의 경기. 2대1 1점 차로 끌려가던 5회 선두 타자로 나온 전민재는 8구 승부 끝 볼넷, 정보근은 11구 승부 끝 또 볼넷을 고르며 호투를 펼치던 LG 선발 에르난데스를 강판시켰다.\\n\\n무사 1루 전민재는 한 베이스를 더 가기 위해 수차례 스타트를 끊었다 돌아오기를 반복했다. 1루 주자 전민재가 신경 쓰였던 에르난데스는 투구 중간 견제를 계속했다. 귀루하는 과정에서 이미 유니폼은 흙이 잔뜩 묻은 상태였던 전민재는 11구 승부 끝 정보근이 볼넷을 고른 순간에도 2루를 향해 몸을 던졌다.\\n\\n유니폼이 흙으로 다 젖은 상태로 끝까지 집중했던 전민재.\\n볼넷을 확인하고 걸어갈 수도 있었지만, 전민재는 혹시 모를 병살을 피하기 위해 과감하게 몸을 던졌다. 무사 1,2루 동점 찬스서 김동혁의 희생 번트가 하필 포수 박동원에게 바로 잡히며 병살타로 연결됐다. 결과는 아쉬웠지만 끈질기게 상대 선발 투수를 끝까지 물고 늘어져 출루에 성공한 전민재와 정보근의 투지는 빛났다.\\n\\nLG 선발 에르난데스를 강판시킨 롯데 정보근의 11구 승부 끝 볼넷.\\n8회 1사 이후 몸에 맞는 볼로 출루한 장두성은 2사 2루서 레이예스 안타 때 이를 악물고 달렸다. 복귀 첫 경기 안타는 생산하지 못했지만, 2루에서 홈까지 전력 질주로 만든 값진 득점이었다.\\n\\n안타가 안 나오면 몸에 맞아서라도 출루하는 장두성.\\n3대2 턱밑까지 추격에 성공한 롯데는 9회에도 LG 마무리 유영찬을 압박했다. 선두 타자 박찬형이 7구까지 가는 풀카운트 승부 끝 볼넷 출루했다. 나승엽 희생 번트로 1사 2루 동점 찬스를 만든 롯데. 전민재 잘 맞은 타구가 하필 유격수 오지환에게 잡히며 선행 주자 박찬형이 아웃됐다.\\n\\n2사 2루 유강남의 3루 선상 깊은 타구를 문보경이 잡은 뒤 1루로 정확히 송구하며 롯데는 3대2 1점 차로 패했다.\\n\\n마지막 아웃카운트가 올라가는 순간까지 최선을 다해 뛴 롯데 선수들은 2위 탈환 기회에서 1점 차로 패하자 무거운 표정으로 경기장을 나섰다.\\n\\n최선을 다했지만 엘롯라시코서 1점 차 패한 롯데 선수들은 아쉬워했다.\\n부상 복귀전 맞아서라도 출루한 장두성.\\n견제에도 과감하게 2루를 향해 몸을 날린 전민재.\\n런다운에 걸렸어도 끝까지 최선을 다한 박찬형.\\n이를 악물고 달려 득점을 올린 김동혁.\\n패했지만 팬들에게 응원의 박수받은 롯데 김태형호.'},\n",
       " {'title': '벤투도, 신태용도 아닌 깜짝 후보...인천 지도했던 안데르센, 중국 사령탑 적극 추천 \"제일 이상적인 선택\"',\n",
       "  'main_text': \"[스포츠조선 김대식 기자]K리그와 인연이 있는 욘 안데르센 감독이 중국 차기 사령탑으로 거론되고 있다.\\n\\n중국 왕이는 1일 '윈난 위쿤 감독인 안데르센은 현시점에서 가장 이상적인 선택이다. 이번 시즌 승격팀 윈난을 이끌며 놀라운 성적을 거두었고, 더 이상 소개가 필요 없을 만큼 지도자 경력이 화려하다. 그는 마인츠와 묀헨글라트바흐 등 독일 클럽에서 감독을 지낸 바 있으며, 이름값만으로도 현재의 약체 중국 대표팀과 잘 어울린다. 무엇보다 그는 중국 대표팀의 단점을 누구보다 잘 알고 있다. 수년 전 홍콩 대표팀 감독 시절 중국 대표팀을 괴롭힌 적도 있고, 지금은 중국 슈퍼리그에서 팀을 이끌고 있어 적응 시간이 필요 없다. 그는 중국 축구를 어떻게 바꿔야 할지도 잘 알고 있다'며 안데르센 감독을 차기 사령탑으로 적극적으로 추천했다.\\n안데르센 감독은 한국 팬들에게도 익숙한 인물이다. 2018년 6월 인천에 부임해 2018시즌 인천의 K리그2 강등을 막아냈다. 하지만 2019시즌 초반 인천이 위기에 빠지자 안데르센 감독은 경질됐다.\\n\\n안데르센 감독은 인천에서 경질된 후, 2년 동안 휴식을 취하다 2021년 홍콩 국가대표팀의 지휘봉을 잡았다. 홍콩을 55년 만에 아시안컵에 진출시키면서 업적을 썼다. 2024년 홍콩을 떠난 후에는 중국 2부 리그팀인 윈난으로 향했다. 윈난을 곧바로 2부 우승으로 이끌며 중국 슈퍼리그 승격을 이뤄냈다. 이번 시즌에도 리그 7위에 올라서 기대 이상의 성과를 내고 있는 중이다. 중국에서 좋은 평가가 나올 수밖에 없는 흐름이다.\\n\\n왕이는 '안데르센이 이끄는 팀은 그의 성격처럼 공격적이고 투지에 가득 차 있다. 겉보기에는 무심해 보일 수 있지만, 실제로는 매우 엄격하고 집중력이 뛰어나다. 중국 축구대표팀 역시 이러한 변화가 필요하다'며 안데르센 감독의 강인한 성격을 중국 선수들이 배울 필요가 있다고 설명했다.\\n더불어 '중국 축구의 재건은 이미 시작되었고, 왕위둥 등 젊은 선수들에겐 승리에 대한 갈망이 있다. 일부 베테랑 선수들과 달리, 이들은 승리를 원하고, 안데르센 같은 지도자는 이런 열망에 정확히 부합한다. 선수들이 이기고 싶다면, 감독은 더 간절해야 한다. 안데르센의 다소 거친 성격이 대표팀의 선택에 있어 부담으로 작용할 수도 있지만, 중국 축구도 착한 성격을 버릴 때다'고 언급했다.\\n\\n중국축구협회는 브란코 이반코비치 감독과 계약을 해지한 후 외국인 감독을 찾고 있는 것으로 알려졌다. 신태용 감독도 한때 거론됐지만 6월 말부터 대한민국을 이끌었던 파울루 벤투, 카타르를 아시안컵 우승으로 이끈 펠릭스 산체스가 많이 언급되고 있는 중이다. 하지만 중국축구협회가 감독 선임을 위한 예산이 풍부하지 않은 것으로 보도가 나오고 있는 중이라 벤투나 산체스 선임은 쉽지 않을 것으로 예상된다. 두 감독과의 협상에서 실패한다면 안데르센 감독도 충분히 고려될 법한 인물이다.\"},\n",
       " {'title': \"'이거 실화냐?' GSW, 릴라드와 접촉했다... 과연 꿈의 슈퍼팀 나올까\",\n",
       "  'main_text': '[점프볼=이규빈 기자] 골든스테이트가 릴라드와 접촉했다.\\n\\n데미안 릴라드는 2일(한국시간) 충격적인 방출을 당했다. 남은 계약인 2년 1억 1300만 달러의 계약을 그대로 스트레치 규정을 통해 방출된 것이다. 밀워키 벅스는 릴라드를 즉시 FA로 방출하고, 대신 릴라드의 2년 1억 1300만 달러 연봉을 5년으로 나눠 지급하기로 결정했다.\\n\\n이 정도 규모의 연봉이 스트레치 규칙으로 방출된 것은 사상 초유의 일이고, 슈퍼스타 릴라드에게 일어났기 때문에 봐도 봐도 믿을 수 없는 초대형 사건이다.\\n\\n결과적으로 릴라드 본인에게는 나쁘지 않은 상황이다. 연봉은 다 보장받으며, FA 신분이 됐기 때문이다. 따라서 릴라드는 차기 행선지를 선택할 수 있는 상황이다. 거액 연봉을 받는 릴라드는 매력이 떨어질 수 있지만, 방출된 이후 적은 연봉을 받을 것으로 예상되는 릴라드라면 얘기가 다르다. 실제로 릴라드가 방출된 이후 10개 이상의 팀이 곧바로 릴라드와 접촉했다고 한다.\\n\\n재밌는 것은 그중 릴라드의 오랜 라이벌 골든스테이트 워리어스도 있다고 한다. 미국 현지 기자 \\'마크 스피어스\\'는 \"릴라드에 접촉한 팀은 많고, 그중 골든스테이트도 있다. 특히 릴라드의 고향이 골든스테이트 근처이기 때문에 매력적으로 작용할 수 있다\"라고 보도했다.\\n\\n릴라드는 골든스테이트의 옛 연고지였던 오클랜드 출신이다. 릴라드는 꾸준히 자신의 고향에 대한 애정을 드러내기도 했다. 만약 릴라드의 골든스테이트행이 성사된다면, 엄청난 관심거리가 될 것이다. \\n\\n\\n\\n릴라드는 2012 NBA 드래프트 전체 6순위로 포틀랜드 트레일블레이저스에 지명된 이후 포틀랜드의 에이스로 활약했던 선수다. 꾸준히 포틀랜드의 에이스 역할을 수행했고, 팀을 서부 컨퍼런스 플레이오프 무대에 단골로 만들었다. 그런 포틀랜드를 가로막은 팀이 바로 골든스테이트였다. 스테픈 커리의 골든스테이트는 릴라드의 포틀랜드를 만날 때마다 무참히 격파했다. 릴라드의 숙적이 골든스테이트라고 해도 과언이 아니다.\\n\\n물론 릴라드는 아킬레스건 파열 부상으로 2025-2026시즌에 출전하지 못할 것이 유력하다. 그다음 시즌부터는 출전이 가능하다. 만약 릴라드의 골든스테이트행이 성사된다면, 커리-릴라드-버틀러-그린이라는 게임에서나 볼 수 있는 슈퍼팀이 결성된다. 불과 1년 전만 하더라도 상상도 하지 못한 그림이다.\\n\\n과연 릴라드의 행보는 어떻게 될까.\\n\\n#사진_AP/연합뉴스'},\n",
       " {'title': '“맞고 두려움 상당했다” KIA에 박찬호급 수비력을 가진 선수의 그땐 그랬지…300홈런 레전드 ‘극찬’[MD광주]',\n",
       "  'main_text': \"29일 오후 서울 잠실야구장에서 진행된 '2025 프로야구 KBO리그' KIA-LG의 경기. 기아 박민이 6회초 무사 1루에서 고종욱의 적시타에 동점을 올린 뒤 기뻐하고 있다./마이데일리\\n\\n[마이데일리 = 광주 김진성 기자] “맞은 다음에, 두려움이 상당했다.”\\n\\nKIA 타이거즈의 여름 대반격에 외야수들이 많이 조명된다. 그러나 내야수 박민(24)과 김규성도 묵묵히 공수에서 제 몫을 한다. 특히 김선빈과 윤도현의 부상으로 2루수로 많이 뛰는 박민을 지켜볼 필요가 있다. 야탑고를 졸업하고 2020년 2차 1라운드 6순위로 입단한 오른손 내야수.\\n29일 오후 서울 잠실야구장에서 진행된 '2025 프로야구 KBO리그' KIA-LG의 경기. 기아 박민이 6회초 선두타자로 등장해 안타를 때리고 있다./마이데일리\\n\\n이범호 감독은 1일 광주 SSG 랜더스전을 앞두고 “수비는 (박)찬호에게도 전혀 뒤지지 않는다”라고 했다. 괜히 1라운더가 아니라는 얘기다. 실제 MBC스포츠플러스 박재홍 해설위원은 지난달 29일 잠실 LG 트윈스전을 앞두고 박민의 수비를 극찬했다.\\n\\n일반적으로 내야수들은 타구에 대한 반응 속도가 굉장히 중요하다. 얼마나 빨리, 정확하게 움직이기 시작하느냐가 아웃과 실책을 가르는 결정적 변수가 된다. 그래서 미리 다리를 움직이는, 일종의 무빙이 굉장히 중요하다는 게 지도자들의 설명이다. 상식적으로 가만히 있다가 타구를 따라가는 것보다 미리 다리를 움직이다가 타구를 따라가는 게 훨씬 반응 속도가 빠르다.\\n\\n박민은 당시 1회말 리드오프 신민재의 타구를 백핸드로 잡아 역동작으로 1루에 송구, 아웃카운트를 올렸다. 엄청난 호수비였다. 그러자 박재홍 해설위원은 “준비과정이 남다르다. 남들보다 반발에서 한발 정도 빠르다. 왼발이 먼저 움직이고 오른발이 나간다”라고 했다. 자신을 기준으로 우측으로 몸을 날려야 할 땐 순간적으로 발을 바꿔 움직인다고 덧붙였다. 신민재 타구 처리가 대표적 케이스.\\n\\n이범호 감독은 전혀 놀라워하지 않았다. “민이가 원래 수비를 잘 했다. 찬호에게도 뒤지지 않는 수비력이다. 그런데 퓨처스나 여기에서 타석에서 자신감이 조금 부족했다. 퓨처스에서도 좀 치다 여기서 안 맞으면 성적이 몇 경기 쭉 안 좋고 그랬다”라고 했다.\\n\\n타격은 아쉬워도 수비가 워낙 좋아서 1라운드로 뽑혔던 선수다. 투수를 포기하고 내야수를 뽑을 정도면 박민에 대한 실링을 분명히 기대한다는 의미이기도 하다. 그런 점에서 박민에겐 김선빈과 윤도현이 없는 지금이 절호의 기회다.\\n\\n17경기서 35타수 8안타 타율 0.229 1홈런 3타점 4득점 1도루 OPS 0.689. 역시 타격은 부족하다. 그러나 1군에서 계속 뛰면 시행착오를 겪고, 발전하는 과정을 밟을 수 있다. 이범호 감독은 “타격기술도 많이 좋아졌다”라고 했다.\\n\\n이범호 감독은 박민이 그동안 타격에서 발전 속도가 빠르지 않았던 이유를 안다. 2군 총괄코치 시절, 박민과의 면담을 기억했다. 그는 “민이가 처음에 왔을 때, 퓨처스에서 게임을 하다 공에 얼굴을 맞았다. 그게 타자에게 굉장히 심리적 압박이 있었을 것이다. 내가 퓨처스 총괄코치가 되고 민이하고 얘기를 했는데, 그 두려움이 상당했던 것 같다”라고 했다.\\n\\n사구에 대한 두려움이 있었고, 그것을 떨쳐내는데 시간이 필요했다. 이범호 감독은 “그런 것을 없애려고 특타도 많이 시켰다. 확실히 시간이 좀 지나야 하는 것 같다. 지금은 전혀 두려움 없이 플레이 한다. 자기한테 맞는 타격자세도 갖춰 나가고 있다. 야수는 데뷔하고 5년이 지나야 자기가 갖고 있는 기량을 마음껏 보여줄 수 있다”라고 했다.\\n25일 오후 서울 고척동 고척스카이돔에서 진행된 '2025 프로야구 KBO리그' 키움히어로즈와 KIA타이거즈의 경기. 기아 박민이 3회초 2사에서 2루타를 친 뒤 환호하고 있다./마이데일리\\n\\n지금 박민에게 필요한 건 시간이다. 주전들의 시간이 점점 다가오고 있지만, 박민은 자신의 야구를 보여주는데 집중하면 된다.\"},\n",
       " {'title': '“하늘에서도 롯데 응원할듯”…꽃과 자이언츠를 사랑한 배우 이서이, 비보에 애도물결',\n",
       "  'main_text': '연기·플로리스트·학문까지…이서이, 다재다능했던 삶의 마지막\\n\\n사진|이서이SNS\\n\\n사진|이서이SNS\\n\\n사진|이서이SNS\\n\\n사진|이서이SNS\\n\\n[스포츠서울 | 배우근 기자] 배우 이서이의 갑작스러운 사망 소식이 전해지며 팬들과 동료 배우들의 애도가 이어지고 있다.\\n\\n특히 그의 SNS에는 생전 롯데 자이언츠 유니폼을 입고 야구장을 찾은 직관 사진이 다수 남아 있어, “하늘에서도 롯데 응원하고 있을 것 같다”는 댓글이 이어지고 있다.\\n\\n1일, 고인의 매니저는 고인의 SNS를 통해 “찬란하고 아름답고 예쁘고 착한 언니가 2025년 6월 20일 하늘나라의 별이 되어 이렇게 남깁니다”라고 이서이의 부고를 전했다.\\n\\n이어 “고인의 부고에 다들 놀라시고 상심이 크시겠지만, 언니가 좋은 곳으로 갈 수 있도록 기도 부탁드립니다”라고도 덧붙였다.\\n\\n사진|이서이SNS\\n\\n이서이는 1982년 4월 18일생으로, 한국외국어대학교에서 체코·슬로바키어를 전공하고, 부산대학교 대학원에 진학했다.\\n\\n배우로는 2013년 MBC 드라마 ‘구암 허준’으로 데뷔했다. 이후 2014년 SBS ‘청담동 스캔들’을 통해 대중의 인지도를 높였다.\\n\\n그외 ‘마담 뺑덕’, ‘상의원’, ‘더 킹’, ‘아직 사랑하고 있습니다’, ‘킬링 로맨스’ 등 다수 작품과 영화에 출연했다.\\n\\n최근작은 지난 5월 종영한 tvN 드라마 ‘이혼보험’으로, 꾸준히 활동을 이어오던 중이었기에 이번 비보는 더 큰 충격으로 다가온다.\\n\\n영화 ‘킬링 로맨스’에서는 배우 공명의 누나 역할로 등장해 강렬한 인상을 남겼고, 연극 ‘굿닥터’, ‘별난 사람들’ 등에 출연하며 입체적 연기를 보여줬다.\\n\\n이서이는 배우 활동 외에도 플로리스트로 활동하며 꽃과 식물을 사랑하는 삶을 SNS를 통해 공유해왔다.\\n\\n특히 부산 출신임을 밝히며, 롯데 자이언츠 팬임을 드러낸 게시물에서 여럿 있다. 롯데 유니폼을 입고 활짝 웃는 모습이다.\\n\\n이서이의 사망 소식이 알려진 이후, SNS와 온라인 커뮤니티를 통해 추모가 이어지고 있다.\\n\\nkenny@sportsseoul.com'},\n",
       " {'title': \"'이제 돌아오기 시작했는데...' 롯데 또 부상이라니... 대체불가 2루수라 더 걱정 크다→부상 정도에 촉각\",\n",
       "  'main_text': '롯데 자이언츠 고승민./롯데 자이언츠\\n\\n[마이데일리 = 부산 심혜진 기자] 줄부상에 운 롯데 자이언츠가 또 한번 아찔한 상황을 마주했다. 내야수 고승민(25)이 옆구리 통증으로 교체됐다. 상태를 지켜봐야 할 듯 하다.\\n\\n롯데는 지난 1일 부산 사직구장에서 열린 2025 신한 SOL Bank KBO리그 LG 트윈스와 홈경기서 2-3으로 패했다.\\n\\n롯데에게 남은 경기들은 다 중요하다. 특히 이번주는 2위 LG와 3연전, 4위 KIA 타이거즈와 3연전까지 순위 경쟁을 하는 팀과의 맞대결이다.\\n\\n첫 판은 패했다. 패배보다 아쉬운 부분은 고승민의 부상 이탈이다.\\n\\n이날 고승민은 3번 2루수로 선발 출전했다. 1회말 2사에서 우전 안타를 쳐 팀의 첫 안타를 만들어냈다. 팀이 0-2로 끌려가던 3회말 반격을 만든 것도 고승민이다. 2사 1, 2루에서 에르난데스의 커브를 받아쳐 적시타를 만들어냈다. 고승민 홀로 맹활약이다. 좀처럼 에르난데스를 공략하지 못했는데 고승민만이 2안타를 때려낸 것이다.\\n\\n6회말 선두타자로 나서서는 우익수 뜬공으로 물러났다.\\n\\n그런데 7회초 수비에 앞서 갑작스럽게 김민성과 교체됐다. 김민성은 3루로 들어갔고, 고승민 자리였던 2루에는 박찬형이 3루에서 이동했다.\\n\\n구단 관계자는 \"우측 옆구리 불편감이 있어 보호 차원에서 교체했다. 얼음 찜질을 진행 중이며, 경과를 지켜볼 예정\"이라고 말했다.\\n롯데 자이언츠 고승민./롯데 자이언츠\\n\\n\\n고승민은 팀의 핵심 자원이다. 윤동희, 나승엽, 황서빈 등과 함께 \\'윤나고황\\'의 한 축이다.\\n\\n이날 경기를 더해 타율 0.299가 됐다. 3할이 붕괴되기는 했지만 공격에서 요소요소 활약을 보여주고 있다.\\n\\n수비에서 고승민의 존재감은 엄청나다고 볼 수 있다. 최근엔 자신의 주 포지션인 2루수 뿐만 아니라 1루수와 외야수까지 소화했다.\\n\\n이런 상황에서 고승민이 경기 중 빠졌다. 이미 시즌 초반 옆구리 부상으로 빠진 적이 있다. 당시 정밀 검진 결과 우측 내복사근 염좌 진단을 받은 바 있다.\\n\\n롯데는 전반기 내내 부상자가 속출해 어려움을 겪었다. 전반기 막판인 이날 장두성이 돌아오면서 전력 복귀의 신호탄을 쐈는데 고승민이 부상으로 빠졌다.\\n\\n더욱이 대체 불가인 선수이기 때문에 고승민의 부상 정도에 촉각을 곤두세울 수 밖에 없다.\\n롯데 자이언츠 고승민./롯데 자이언츠'},\n",
       " {'title': '홈런팀에 정교함 더하는 日 전설, \"김성윤 그리고 이재현, 삼성에 재능 있는 선수들 많다\" [IS 인터뷰]',\n",
       "  'main_text': '지난 1일 잠실에서 만난 삼성 이마에 QC코치. 잠실=윤승재 기자\\n\\n\\n\"시간이 짧아서 아쉽네요.\"\\n\\n삼성 라이온즈엔 특별한 외국인 코치가 있다. 이마에 도시아키 퀄리티 컨트롤(QC·Quality Control) 코치다. 지난 2월 스프링캠프에서 타격 인스트럭터로 삼성과 인연을 맺은 이마에는 시즌 중 QC 코치로 계약을 맺으며 삼성 타자들에게 도움을 주고 있다. 한 달에 한두번씩 한국과 일본을 오가며 팀에 상주하지는 않지만, 지속적인 모니터링과 대화로 삼성 타자들을 지도하고 있다. \\n\\n이마에 코치는 일본 프로야구 지바 롯데와 라쿠텐에서 선수로 뛰었던 선수 출신 지도자다. 선수 시절 일본시리즈 최우수선수(MVP) 2회, 올스타 3회 등 중장거리 콘택트형 타자로서의 굵직한 족적을 남겼고, 2006년엔 제1회 월드베이스볼클래식(WBC)에도 일본 대표팀의 일원으로 출전해 우승을 이끌기도 했다. 은퇴 후엔 라쿠텐 1군 타격코치와 감독을 역임하면서 지도자 커리어도 탄탄히 쌓은 바 있다. \\n\\n삼성 구단은 이마에 코치 영입 당시, \"차별화된 프로그램을 통해 삼성 타자들의 타격 정확도 향상을 돕기 위해 추진했다. 현역 시절 중장거리 교타자로 활약한 이마에 인스트럭터의 노하우가 팀 득점력 향상에 도움이 되기를 기대한다\"라고 전한 바 있다. \\n\\n지난 1일 잠실 두산 베어스전에 앞서 선수들의 타격지도를 하고 있는 이마에 QC 코치. 디아즈의 티배팅 훈련을 유심히 지켜보고 있다. 잠실=윤승재 기자\\n\\n\\n스프링캠프부터 현재까지 약 4개월이라는 짧은 시간, 그동안 지켜본 삼성 타자들의 이미지는 어땠을까. 지난 1일 서울 잠실야구장에서 만난 이마에 코치는 \"타격 잠재력이 있는 선수들이 많다. (한국과 일본을 오가는 스케줄 때문에) 오래 팀에 있지 못한 것이 아쉬울 정도다\"라고 말했다. \\n\\n눈여겨 본 선수로는 \\'리그 타율 1위\\' 김성윤을 꼽았다. 이마에 코치는 \"캠프 합류 첫날부터 보자마자 \\'이 선수는 정말 좋은 스윙과 좋은 힘, 순발력을 갖고 있는 선수\\'라는 걸 느꼈다. 캠프 때부터 적극적으로 질문하면서 다가왔다. 일본에 있을 때도 소셜 미디어 DM으로 질문할 정도로 적극적이더라\"며 그의 잠재력과 적극성을 칭찬했다. \\n\\n이마에 코치는 \"메커니즘 면에서 약간 아쉬운 부분이 있었다. 김성윤 선수, 이진영 타격코치와 얘기하면서 조금씩 고쳐 나갔다. 이번 시즌에 그 모습이 나오는 것 같다\"라며 \"리그 타율 1위까지 하고 있는 지금의 모습을 보니 뿌듯하고 기분이 좋다\"라며 웃었다. \\n\\n삼성 이재현을 지도하는 이마에 코치. 삼성 제공\\n\\n\\n내야수 이재현의 이름도 언급했다. 이재현 역시 캠프 때부터 이마에 코치에게 적극적으로 질문하고 타격 자세를 보완했던 선수 중 한 명이다. 이마에 코치는 이재현의 잠재력을 높게 평가하면서 \"(이)재현이는 (시간이 부족해) 아쉽다. 시즌 중에 갑자기 뭔가를 바꾼다는 건 상당한 용기가 필요하고 쉽지 않은 일이다. 시즌 중엔 깊게 지도할 수 없다는 게 아쉽다\"라고 말했다. \\n\\n삼성이 이마에 코치를 영입한 가장 큰 이유 중 하나는 \\'정교함\\'이다. 삼성은 지난해(185홈런)에 이어 올해(86개)도 팀 홈런 1위를 달리는 \\'홈런의 팀\\'이다. 선수들의 장타력에 정교함을 더해 줄 지도자로 이마에 코치를 특별 초빙한 것이다. 하지만 그렇다고 이마에 코치가 \\'콘택트\\'만 강조하지 않는다. 이마에 코치는 \"선수마다 스타일이 다르다. (내가 강조하는) 콘택트가 이 선수에게 맞는지 안 맞는지부터 판단하고, 맞다고 판단한 뒤에 정교한 타격에 대해 강조하려고 한다\"라고 전했다. \\n\\n삼성 이마에 코치. 삼성 제공\\n\\n\\n상주직은 아니지만, 이마에 코치는 삼성에서의 이번 경험이 자신의 지도자 커리어에서도 큰 도움이 될 거라고 확신했다. 그는 \"대표팀으로서 한국야구를 접한 적은 있지만, 이렇게 직접 한국 팀에서 한국야구를 느끼는 건 이번이 처음이다. 확실히 일본야구와는 다른 점도 있어서 공부가 많이 된다. 한국야구에 접목시킬 만한 점이나 반대로 일본야구에 필요한 점이 모두 보여서 좋은 경험인 것 같다\"라며 씨익 웃었다. \\n\\n윤승재 기자'},\n",
       " {'title': \"'이거 실화냐?' GSW, 릴라드와 접촉했다... 과연 꿈의 슈퍼팀 나올까\",\n",
       "  'main_text': '[점프볼=이규빈 기자] 골든스테이트가 릴라드와 접촉했다.\\n\\n데미안 릴라드는 2일(한국시간) 충격적인 방출을 당했다. 남은 계약인 2년 1억 1300만 달러의 계약을 그대로 스트레치 규정을 통해 방출된 것이다. 밀워키 벅스는 릴라드를 즉시 FA로 방출하고, 대신 릴라드의 2년 1억 1300만 달러 연봉을 5년으로 나눠 지급하기로 결정했다.\\n\\n이 정도 규모의 연봉이 스트레치 규칙으로 방출된 것은 사상 초유의 일이고, 슈퍼스타 릴라드에게 일어났기 때문에 봐도 봐도 믿을 수 없는 초대형 사건이다.\\n\\n결과적으로 릴라드 본인에게는 나쁘지 않은 상황이다. 연봉은 다 보장받으며, FA 신분이 됐기 때문이다. 따라서 릴라드는 차기 행선지를 선택할 수 있는 상황이다. 거액 연봉을 받는 릴라드는 매력이 떨어질 수 있지만, 방출된 이후 적은 연봉을 받을 것으로 예상되는 릴라드라면 얘기가 다르다. 실제로 릴라드가 방출된 이후 10개 이상의 팀이 곧바로 릴라드와 접촉했다고 한다.\\n\\n재밌는 것은 그중 릴라드의 오랜 라이벌 골든스테이트 워리어스도 있다고 한다. 미국 현지 기자 \\'마크 스피어스\\'는 \"릴라드에 접촉한 팀은 많고, 그중 골든스테이트도 있다. 특히 릴라드의 고향이 골든스테이트 근처이기 때문에 매력적으로 작용할 수 있다\"라고 보도했다.\\n\\n릴라드는 골든스테이트의 옛 연고지였던 오클랜드 출신이다. 릴라드는 꾸준히 자신의 고향에 대한 애정을 드러내기도 했다. 만약 릴라드의 골든스테이트행이 성사된다면, 엄청난 관심거리가 될 것이다. \\n\\n\\n\\n릴라드는 2012 NBA 드래프트 전체 6순위로 포틀랜드 트레일블레이저스에 지명된 이후 포틀랜드의 에이스로 활약했던 선수다. 꾸준히 포틀랜드의 에이스 역할을 수행했고, 팀을 서부 컨퍼런스 플레이오프 무대에 단골로 만들었다. 그런 포틀랜드를 가로막은 팀이 바로 골든스테이트였다. 스테픈 커리의 골든스테이트는 릴라드의 포틀랜드를 만날 때마다 무참히 격파했다. 릴라드의 숙적이 골든스테이트라고 해도 과언이 아니다.\\n\\n물론 릴라드는 아킬레스건 파열 부상으로 2025-2026시즌에 출전하지 못할 것이 유력하다. 그다음 시즌부터는 출전이 가능하다. 만약 릴라드의 골든스테이트행이 성사된다면, 커리-릴라드-버틀러-그린이라는 게임에서나 볼 수 있는 슈퍼팀이 결성된다. 불과 1년 전만 하더라도 상상도 하지 못한 그림이다.\\n\\n과연 릴라드의 행보는 어떻게 될까.\\n\\n#사진_AP/연합뉴스'}]"
      ]
     },
     "execution_count": 23,
     "metadata": {},
     "output_type": "execute_result"
    }
   ],
   "source": [
    "news_content_list"
   ]
  },
  {
   "cell_type": "code",
   "execution_count": 24,
   "id": "b54b4a9e",
   "metadata": {},
   "outputs": [
    {
     "data": {
      "text/plain": [
       "{'title': '“하늘에서도 롯데 응원할듯”…꽃과 자이언츠를 사랑한 배우 이서이, 비보에 애도물결',\n",
       " 'main_text': '연기·플로리스트·학문까지…이서이, 다재다능했던 삶의 마지막\\n\\n사진|이서이SNS\\n\\n사진|이서이SNS\\n\\n사진|이서이SNS\\n\\n사진|이서이SNS\\n\\n[스포츠서울 | 배우근 기자] 배우 이서이의 갑작스러운 사망 소식이 전해지며 팬들과 동료 배우들의 애도가 이어지고 있다.\\n\\n특히 그의 SNS에는 생전 롯데 자이언츠 유니폼을 입고 야구장을 찾은 직관 사진이 다수 남아 있어, “하늘에서도 롯데 응원하고 있을 것 같다”는 댓글이 이어지고 있다.\\n\\n1일, 고인의 매니저는 고인의 SNS를 통해 “찬란하고 아름답고 예쁘고 착한 언니가 2025년 6월 20일 하늘나라의 별이 되어 이렇게 남깁니다”라고 이서이의 부고를 전했다.\\n\\n이어 “고인의 부고에 다들 놀라시고 상심이 크시겠지만, 언니가 좋은 곳으로 갈 수 있도록 기도 부탁드립니다”라고도 덧붙였다.\\n\\n사진|이서이SNS\\n\\n이서이는 1982년 4월 18일생으로, 한국외국어대학교에서 체코·슬로바키어를 전공하고, 부산대학교 대학원에 진학했다.\\n\\n배우로는 2013년 MBC 드라마 ‘구암 허준’으로 데뷔했다. 이후 2014년 SBS ‘청담동 스캔들’을 통해 대중의 인지도를 높였다.\\n\\n그외 ‘마담 뺑덕’, ‘상의원’, ‘더 킹’, ‘아직 사랑하고 있습니다’, ‘킬링 로맨스’ 등 다수 작품과 영화에 출연했다.\\n\\n최근작은 지난 5월 종영한 tvN 드라마 ‘이혼보험’으로, 꾸준히 활동을 이어오던 중이었기에 이번 비보는 더 큰 충격으로 다가온다.\\n\\n영화 ‘킬링 로맨스’에서는 배우 공명의 누나 역할로 등장해 강렬한 인상을 남겼고, 연극 ‘굿닥터’, ‘별난 사람들’ 등에 출연하며 입체적 연기를 보여줬다.\\n\\n이서이는 배우 활동 외에도 플로리스트로 활동하며 꽃과 식물을 사랑하는 삶을 SNS를 통해 공유해왔다.\\n\\n특히 부산 출신임을 밝히며, 롯데 자이언츠 팬임을 드러낸 게시물에서 여럿 있다. 롯데 유니폼을 입고 활짝 웃는 모습이다.\\n\\n이서이의 사망 소식이 알려진 이후, SNS와 온라인 커뮤니티를 통해 추모가 이어지고 있다.\\n\\nkenny@sportsseoul.com'}"
      ]
     },
     "execution_count": 24,
     "metadata": {},
     "output_type": "execute_result"
    }
   ],
   "source": [
    "news_content_list[0]"
   ]
  },
  {
   "cell_type": "code",
   "execution_count": 25,
   "id": "bd234008",
   "metadata": {},
   "outputs": [
    {
     "name": "stdout",
     "output_type": "stream",
     "text": [
      "=== JSON 응답 방식 ===\n",
      "AI 응답:\n",
      "HCX-003 모델은 HyperCLOVA X 시리즈 중 하나이며, 다음과 같은 특징을 가지고 있습니다.\n",
      "\n",
      "1.**고성능**: 최신 CPU와 GPU를 탑재하여 높은 성능을 제공합니다. 이를 통해 복잡한 작업도 빠르게 처리할 수 있습니다.\n",
      "\n",
      "2.**대용량 메모리**: 16GB 이상의 대용량 메모리를 탑재하여 많은 데이터를 저장하고 처리할 수 있습니다.\n",
      "\n",
      "3.**다양한 인터페이스**: USB, HDMI, LAN 등 다양한 인터페이스를 지원하여 다른 기기와의 연결이 용이합니다.\n",
      "\n",
      "4.**높은 보안성**: 보안 기능을 강화하여 개인정보나 중요한 데이터를 안전하게 보호할 수 있습니다.\n",
      "\n",
      "5.**안정성**: 안정적인 운영체제와 하드웨어를 사용하여 장시간 사용에도 안정적인 성능을 유지할 수 있습니다.\n",
      "\n",
      "6.**확장성**: 추가적인 부품을 장착하여 성능을 향상시키거나 용량을 늘릴 수 있습니다.\n",
      "\n",
      "7.**사용자 편의성**: 직관적인 UI와 쉬운 조작법으로 누구나 쉽게 사용할 수 있습니다.\n",
      "\n",
      "8.**다양한 용도**: 업무용, 학습용, 게임용 등 다양한 용도로 사용할 수 있습니다.\n",
      "\n",
      "9.**저전력**: 저전력 설계로 전력 소모가 적어 경제적입니다\n",
      "\n",
      "입력 토큰: 29\n",
      "출력 토큰: 257\n",
      "\n",
      "=== 스트리밍 응답 방식 ===\n",
      "AI 응답 (실시간): \n"
     ]
    }
   ],
   "source": [
    "import os\n",
    "import requests\n",
    "import json\n",
    "from dotenv import load_dotenv\n",
    "\n",
    "# .env 파일에서 환경 변수 로드\n",
    "load_dotenv()\n",
    "\n",
    "class HCX003ChatCompletion:\n",
    "    def __init__(self):\n",
    "        # 환경 변수에서 API 정보 가져오기\n",
    "        self.api_key = os.getenv(\"CLOVA_API_KEY\")\n",
    "        self.request_id = os.getenv(\"CLOVA_REQUEST_ID\")\n",
    "        self.base_url = os.getenv(\"CLOVA_BASE_URL\", \"https://clovastudio.stream.ntruss.com\")\n",
    "        \n",
    "        # API 키 검증\n",
    "        if not self.api_key:\n",
    "            raise ValueError(\"CLOVA_API_KEY가 .env 파일에 설정되지 않았습니다.\")\n",
    "        if not self.request_id:\n",
    "            raise ValueError(\"CLOVA_REQUEST_ID가 .env 파일에 설정되지 않았습니다.\")\n",
    "    \n",
    "    def chat_completion(self, messages, **kwargs):\n",
    "        \"\"\"\n",
    "        HCX-003 모델을 사용한 채팅 완성 요청 (JSON 응답)\n",
    "        \"\"\"\n",
    "        url = f\"{self.base_url}/testapp/v1/chat-completions/HCX-003\"\n",
    "        \n",
    "        headers = {\n",
    "            \"Authorization\": f\"Bearer {self.api_key}\",\n",
    "            \"X-NCP-CLOVASTUDIO-REQUEST-ID\": self.request_id,\n",
    "            \"Content-Type\": \"application/json\",\n",
    "            \"Accept\": \"application/json\"  # JSON 응답\n",
    "        }\n",
    "        \n",
    "        # HCX-003 모델 파라미터 설정\n",
    "        data = {\n",
    "            \"messages\": messages,\n",
    "            \"maxTokens\": kwargs.get(\"maxTokens\", 256),\n",
    "            \"temperature\": kwargs.get(\"temperature\", 0.5),\n",
    "            \"topP\": kwargs.get(\"topP\", 0.8),\n",
    "            \"topK\": kwargs.get(\"topK\", 0),\n",
    "            \"repeatPenalty\": kwargs.get(\"repeatPenalty\", 5.0),\n",
    "            \"stopBefore\": kwargs.get(\"stopBefore\", []),\n",
    "            \"includeAiFilters\": kwargs.get(\"includeAiFilters\", True),\n",
    "            \"seed\": kwargs.get(\"seed\", 0)\n",
    "        }\n",
    "        \n",
    "        try:\n",
    "            response = requests.post(url, headers=headers, json=data)\n",
    "            response.raise_for_status()\n",
    "            return response.json()\n",
    "        except requests.exceptions.RequestException as e:\n",
    "            print(f\"API 요청 오류: {e}\")\n",
    "            return None\n",
    "\n",
    "    def stream_chat_completion(self, messages, **kwargs):\n",
    "        \"\"\"\n",
    "        HCX-003 모델을 사용한 스트리밍 채팅 완성\n",
    "        \"\"\"\n",
    "        url = f\"{self.base_url}/testapp/v1/chat-completions/HCX-003\"\n",
    "        \n",
    "        headers = {\n",
    "            \"Authorization\": f\"Bearer {self.api_key}\",\n",
    "            \"X-NCP-CLOVASTUDIO-REQUEST-ID\": self.request_id,\n",
    "            \"Content-Type\": \"application/json\",\n",
    "            \"Accept\": \"text/event-stream\"  # 스트리밍 응답\n",
    "        }\n",
    "        \n",
    "        data = {\n",
    "            \"messages\": messages,\n",
    "            \"maxTokens\": kwargs.get(\"maxTokens\", 256),\n",
    "            \"temperature\": kwargs.get(\"temperature\", 0.5),\n",
    "            \"topP\": kwargs.get(\"topP\", 0.8),\n",
    "            \"topK\": kwargs.get(\"topK\", 0),\n",
    "            \"repeatPenalty\": kwargs.get(\"repeatPenalty\", 5.0),\n",
    "            \"stopBefore\": kwargs.get(\"stopBefore\", []),\n",
    "            \"includeAiFilters\": kwargs.get(\"includeAiFilters\", True),\n",
    "            \"seed\": kwargs.get(\"seed\", 0)\n",
    "        }\n",
    "        \n",
    "        try:\n",
    "            with requests.post(url, headers=headers, json=data, stream=True) as response:\n",
    "                response.raise_for_status()\n",
    "                \n",
    "                for line in response.iter_lines():\n",
    "                    if line:\n",
    "                        line_text = line.decode('utf-8')\n",
    "                        \n",
    "                        # 이벤트 스트림 데이터 파싱\n",
    "                        if line_text.startswith(\"data:\"):\n",
    "                            try:\n",
    "                                data_content = line_text[5:].strip()\n",
    "                                if data_content and data_content != \"[DONE]\":\n",
    "                                    event_data = json.loads(data_content)\n",
    "                                    \n",
    "                                    # 토큰 이벤트 처리\n",
    "                                    if 'token' in event_data:\n",
    "                                        print(event_data['token'], end='', flush=True)\n",
    "                                    # 결과 이벤트 처리\n",
    "                                    elif 'message' in event_data:\n",
    "                                        return event_data\n",
    "                                        \n",
    "                            except json.JSONDecodeError:\n",
    "                                continue\n",
    "                                \n",
    "        except requests.exceptions.RequestException as e:\n",
    "            print(f\"스트리밍 요청 오류: {e}\")\n",
    "            return None\n",
    "\n",
    "# 사용 예시\n",
    "if __name__ == \"__main__\":\n",
    "    try:\n",
    "        # HCX-003 채팅 완성 객체 생성\n",
    "        chat_client = HCX003ChatCompletion()\n",
    "        \n",
    "        # 대화 메시지 구성\n",
    "        messages = [\n",
    "            {\"role\": \"system\", \"content\": \"당신은 도움이 되는 AI 어시스턴트입니다.\"},\n",
    "            {\"role\": \"user\", \"content\": \"HyperCLOVA X의 HCX-003 모델에 대해 설명해주세요.\"}\n",
    "        ]\n",
    "        \n",
    "        print(\"=== JSON 응답 방식 ===\")\n",
    "        # JSON 응답으로 API 호출\n",
    "        result = chat_client.chat_completion(\n",
    "            messages=messages,\n",
    "            maxTokens=256,\n",
    "            temperature=0.5,\n",
    "            topP=0.8,\n",
    "            repeatPenalty=5.0\n",
    "        )\n",
    "        \n",
    "        if result and 'result' in result:\n",
    "            assistant_reply = result['result']['message']['content']\n",
    "            print(\"AI 응답:\")\n",
    "            print(assistant_reply)\n",
    "            print(f\"\\n입력 토큰: {result['result']['inputLength']}\")\n",
    "            print(f\"출력 토큰: {result['result']['outputLength']}\")\n",
    "        \n",
    "        print(\"\\n=== 스트리밍 응답 방식 ===\")\n",
    "        print(\"AI 응답 (실시간): \", end='')\n",
    "        # 스트리밍 응답으로 API 호출\n",
    "        stream_result = chat_client.stream_chat_completion(\n",
    "            messages=messages,\n",
    "            maxTokens=256,\n",
    "            temperature=0.7\n",
    "        )\n",
    "        print()  # 줄바꿈\n",
    "        \n",
    "    except ValueError as e:\n",
    "        print(f\"설정 오류: {e}\")\n",
    "        print(\"'.env' 파일에 CLOVA_API_KEY와 CLOVA_REQUEST_ID를 설정해주세요.\")\n"
   ]
  },
  {
   "cell_type": "code",
   "execution_count": 26,
   "id": "8d956c9a",
   "metadata": {},
   "outputs": [
    {
     "name": "stdout",
     "output_type": "stream",
     "text": [
      "{'status': {'code': '20000', 'message': 'OK'}, 'result': {'message': {'role': 'assistant', 'content': '네, 안녕하세요! 무엇을 도와드릴까요?'}, 'inputLength': 5, 'outputLength': 13, 'stopReason': 'stop_before', 'seed': 3243088882}}\n"
     ]
    }
   ],
   "source": [
    "import os\n",
    "import requests\n",
    "from dotenv import load_dotenv\n",
    "\n",
    "load_dotenv()\n",
    "\n",
    "def chat_hcx003(message):\n",
    "    url = \"https://clovastudio.stream.ntruss.com/testapp/v1/chat-completions/HCX-003\"\n",
    "    \n",
    "    headers = {\n",
    "        \"Authorization\": f\"Bearer {os.getenv('CLOVA_API_KEY')}\",\n",
    "        \"X-NCP-CLOVASTUDIO-REQUEST-ID\": os.getenv('CLOVA_REQUEST_ID'),\n",
    "        \"Content-Type\": \"application/json\"\n",
    "    }\n",
    "    \n",
    "    data = {\n",
    "        \"messages\": [{\"role\": \"user\", \"content\": message}],\n",
    "        \"maxTokens\": 100,\n",
    "        \"temperature\": 0.5\n",
    "    }\n",
    "    \n",
    "    response = requests.post(url, headers=headers, json=data)\n",
    "    return response.json()\n",
    "\n",
    "# 사용\n",
    "if __name__ == \"__main__\":\n",
    "    answer = chat_hcx003(\"안녕하세요!\")\n",
    "    print(answer)\n"
   ]
  },
  {
   "cell_type": "code",
   "execution_count": 27,
   "id": "ae80c9ef",
   "metadata": {},
   "outputs": [
    {
     "data": {
      "text/plain": [
       "'“하늘에서도 롯데 응원할듯”…꽃과 자이언츠를 사랑한 배우 이서이, 비보에 애도물결'"
      ]
     },
     "execution_count": 27,
     "metadata": {},
     "output_type": "execute_result"
    }
   ],
   "source": [
    "news_content_list[0]['title']"
   ]
  },
  {
   "cell_type": "code",
   "execution_count": 28,
   "id": "5cf24c0d",
   "metadata": {},
   "outputs": [
    {
     "data": {
      "text/plain": [
       "'연기·플로리스트·학문까지…이서이, 다재다능했던 삶의 마지막\\n\\n사진|이서이SNS\\n\\n사진|이서이SNS\\n\\n사진|이서이SNS\\n\\n사진|이서이SNS\\n\\n[스포츠서울 | 배우근 기자] 배우 이서이의 갑작스러운 사망 소식이 전해지며 팬들과 동료 배우들의 애도가 이어지고 있다.\\n\\n특히 그의 SNS에는 생전 롯데 자이언츠 유니폼을 입고 야구장을 찾은 직관 사진이 다수 남아 있어, “하늘에서도 롯데 응원하고 있을 것 같다”는 댓글이 이어지고 있다.\\n\\n1일, 고인의 매니저는 고인의 SNS를 통해 “찬란하고 아름답고 예쁘고 착한 언니가 2025년 6월 20일 하늘나라의 별이 되어 이렇게 남깁니다”라고 이서이의 부고를 전했다.\\n\\n이어 “고인의 부고에 다들 놀라시고 상심이 크시겠지만, 언니가 좋은 곳으로 갈 수 있도록 기도 부탁드립니다”라고도 덧붙였다.\\n\\n사진|이서이SNS\\n\\n이서이는 1982년 4월 18일생으로, 한국외국어대학교에서 체코·슬로바키어를 전공하고, 부산대학교 대학원에 진학했다.\\n\\n배우로는 2013년 MBC 드라마 ‘구암 허준’으로 데뷔했다. 이후 2014년 SBS ‘청담동 스캔들’을 통해 대중의 인지도를 높였다.\\n\\n그외 ‘마담 뺑덕’, ‘상의원’, ‘더 킹’, ‘아직 사랑하고 있습니다’, ‘킬링 로맨스’ 등 다수 작품과 영화에 출연했다.\\n\\n최근작은 지난 5월 종영한 tvN 드라마 ‘이혼보험’으로, 꾸준히 활동을 이어오던 중이었기에 이번 비보는 더 큰 충격으로 다가온다.\\n\\n영화 ‘킬링 로맨스’에서는 배우 공명의 누나 역할로 등장해 강렬한 인상을 남겼고, 연극 ‘굿닥터’, ‘별난 사람들’ 등에 출연하며 입체적 연기를 보여줬다.\\n\\n이서이는 배우 활동 외에도 플로리스트로 활동하며 꽃과 식물을 사랑하는 삶을 SNS를 통해 공유해왔다.\\n\\n특히 부산 출신임을 밝히며, 롯데 자이언츠 팬임을 드러낸 게시물에서 여럿 있다. 롯데 유니폼을 입고 활짝 웃는 모습이다.\\n\\n이서이의 사망 소식이 알려진 이후, SNS와 온라인 커뮤니티를 통해 추모가 이어지고 있다.\\n\\nkenny@sportsseoul.com'"
      ]
     },
     "execution_count": 28,
     "metadata": {},
     "output_type": "execute_result"
    }
   ],
   "source": [
    "news_content_list[0]['main_text']"
   ]
  },
  {
   "cell_type": "code",
   "execution_count": 29,
   "id": "4c07ae2f",
   "metadata": {},
   "outputs": [
    {
     "data": {
      "text/plain": [
       "{'title': '“하늘에서도 롯데 응원할듯”…꽃과 자이언츠를 사랑한 배우 이서이, 비보에 애도물결',\n",
       " 'main_text': '연기·플로리스트·학문까지…이서이, 다재다능했던 삶의 마지막\\n\\n사진|이서이SNS\\n\\n사진|이서이SNS\\n\\n사진|이서이SNS\\n\\n사진|이서이SNS\\n\\n[스포츠서울 | 배우근 기자] 배우 이서이의 갑작스러운 사망 소식이 전해지며 팬들과 동료 배우들의 애도가 이어지고 있다.\\n\\n특히 그의 SNS에는 생전 롯데 자이언츠 유니폼을 입고 야구장을 찾은 직관 사진이 다수 남아 있어, “하늘에서도 롯데 응원하고 있을 것 같다”는 댓글이 이어지고 있다.\\n\\n1일, 고인의 매니저는 고인의 SNS를 통해 “찬란하고 아름답고 예쁘고 착한 언니가 2025년 6월 20일 하늘나라의 별이 되어 이렇게 남깁니다”라고 이서이의 부고를 전했다.\\n\\n이어 “고인의 부고에 다들 놀라시고 상심이 크시겠지만, 언니가 좋은 곳으로 갈 수 있도록 기도 부탁드립니다”라고도 덧붙였다.\\n\\n사진|이서이SNS\\n\\n이서이는 1982년 4월 18일생으로, 한국외국어대학교에서 체코·슬로바키어를 전공하고, 부산대학교 대학원에 진학했다.\\n\\n배우로는 2013년 MBC 드라마 ‘구암 허준’으로 데뷔했다. 이후 2014년 SBS ‘청담동 스캔들’을 통해 대중의 인지도를 높였다.\\n\\n그외 ‘마담 뺑덕’, ‘상의원’, ‘더 킹’, ‘아직 사랑하고 있습니다’, ‘킬링 로맨스’ 등 다수 작품과 영화에 출연했다.\\n\\n최근작은 지난 5월 종영한 tvN 드라마 ‘이혼보험’으로, 꾸준히 활동을 이어오던 중이었기에 이번 비보는 더 큰 충격으로 다가온다.\\n\\n영화 ‘킬링 로맨스’에서는 배우 공명의 누나 역할로 등장해 강렬한 인상을 남겼고, 연극 ‘굿닥터’, ‘별난 사람들’ 등에 출연하며 입체적 연기를 보여줬다.\\n\\n이서이는 배우 활동 외에도 플로리스트로 활동하며 꽃과 식물을 사랑하는 삶을 SNS를 통해 공유해왔다.\\n\\n특히 부산 출신임을 밝히며, 롯데 자이언츠 팬임을 드러낸 게시물에서 여럿 있다. 롯데 유니폼을 입고 활짝 웃는 모습이다.\\n\\n이서이의 사망 소식이 알려진 이후, SNS와 온라인 커뮤니티를 통해 추모가 이어지고 있다.\\n\\nkenny@sportsseoul.com'}"
      ]
     },
     "execution_count": 29,
     "metadata": {},
     "output_type": "execute_result"
    }
   ],
   "source": [
    "news_content_list[0]"
   ]
  },
  {
   "cell_type": "code",
   "execution_count": 30,
   "id": "48ab0fbf",
   "metadata": {},
   "outputs": [],
   "source": [
    "url = \"https://clovastudio.stream.ntruss.com/testapp/v1/chat-completions/HCX-003\"\n",
    "    \n",
    "headers = {\n",
    "    \"Authorization\": f\"Bearer {os.getenv('CLOVA_API_KEY')}\",\n",
    "    \"X-NCP-CLOVASTUDIO-REQUEST-ID\": os.getenv('CLOVA_REQUEST_ID'),\n",
    "    \"Content-Type\": \"application/json\"\n",
    "}\n",
    "\n",
    "data = {\n",
    "    \"messages\": [{\"role\": \"user\", \"content\": '''\n",
    "                  아래 뉴스 내용을 읽고, 핵심내용을 파악하여 2줄 정도로 요약해주세요. 그리고 이 뉴스기사를 통해 후속 기사는 어떤 내용일지 추론해 알려주세요.\n",
    "                  뉴스 제목 : {}\n",
    "                  뉴스 본문 : {}'''.format(news_content_list[0]['title'], news_content_list[0]['main_text'])}],\n",
    "    \"maxTokens\": 1000\n",
    "}\n",
    "\n",
    "response = requests.post(url, headers=headers, json=data)"
   ]
  },
  {
   "cell_type": "code",
   "execution_count": 31,
   "id": "d40c1419",
   "metadata": {},
   "outputs": [
    {
     "name": "stdout",
     "output_type": "stream",
     "text": [
      "배우 이서이가 향년 44세의 나이로 별세했다는 소식이 전해져 팬들과 동료 배우들의 애도가 이어지고 있으며, 특히 고인은 생전 롯데 자이언츠의 팬이었으며 유니폼을 입고 야구장을 찾은 사진들이 다수 남아있어 이를 기억하는 팬들의 추모가 이어지고 있다.\n",
      "후속 기사로는 이서이의 빈소와 장례 일정, 그리고 그녀의 업적과 발자취를 회고하는 내용이 보도될 것으로 예상되며, 또한 그녀의 유족과 지인들의 인터뷰를 통해 자세한 사망 원인과 경위도 함께 보도될 가능성이 있다.\n"
     ]
    }
   ],
   "source": [
    "print(response.json()['result']['message']['content'])"
   ]
  },
  {
   "cell_type": "code",
   "execution_count": 33,
   "id": "3309da17",
   "metadata": {},
   "outputs": [
    {
     "data": {
      "text/plain": [
       "{'spreadsheetId': '1bU_euo3sZlZd5ywJWLSdb8VlJtERSNk6VNyas_u_ZZE',\n",
       " 'updatedRange': \"'시트1'!A1\",\n",
       " 'updatedRows': 1,\n",
       " 'updatedColumns': 1,\n",
       " 'updatedCells': 1}"
      ]
     },
     "execution_count": 33,
     "metadata": {},
     "output_type": "execute_result"
    }
   ],
   "source": [
    "import gspread\n",
    "\n",
    "json_file_path = './key.json'\n",
    "gc = gspread.service_account(json_file_path)\n",
    "spreadsheet_url = 'https://docs.google.com/spreadsheets/d/1bU_euo3sZlZd5ywJWLSdb8VlJtERSNk6VNyas_u_ZZE/edit?usp=sharing'\n",
    "doc = gc.open_by_url(spreadsheet_url)\n",
    "\n",
    "worksheet = doc.worksheet('시트1')\n",
    "worksheet.update_acell('A1', '자동화 완료!')\n"
   ]
  },
  {
   "cell_type": "code",
   "execution_count": null,
   "id": "0de62c0d",
   "metadata": {},
   "outputs": [],
   "source": [
    "for idx, news_content in enumerate(news_content_list):\n",
    "    url = \"https://clovastudio.stream.ntruss.com/testapp/v1/chat-completions/HCX-003\"\n",
    "    \n",
    "    headers = {\n",
    "        \"Authorization\": f\"Bearer {os.getenv('CLOVA_API_KEY')}\",\n",
    "        \"X-NCP-CLOVASTUDIO-REQUEST-ID\": os.getenv('CLOVA_REQUEST_ID'),\n",
    "        \"Content-Type\": \"application/json\"\n",
    "    }\n",
    "\n",
    "    data = {\n",
    "        \"messages\": [{\"role\": \"user\", \"content\": '''\n",
    "                    아래 뉴스 내용을 읽고, 핵심내용을 파악하여 2줄 정도로 요약해주세요. 그리고 이 뉴스기사를 통해 후속 기사는 어떤 내용일지 추론해 알려주세요.\n",
    "                    뉴스 제목 : {}\n",
    "                    뉴스 본문 : {}'''.format(news_content['title'], news_content['main_text'])}],\n",
    "        \"maxTokens\": 1000\n",
    "    }\n",
    "\n",
    "    response = requests.post(url, headers=headers, json=data)\n",
    "    print(response.json()['result']['message']['content'])\n",
    "\n",
    "    worksheet = doc.worksheet('시트2')\n",
    "    "
   ]
  }
 ],
 "metadata": {
  "kernelspec": {
   "display_name": "Python 3",
   "language": "python",
   "name": "python3"
  },
  "language_info": {
   "codemirror_mode": {
    "name": "ipython",
    "version": 3
   },
   "file_extension": ".py",
   "mimetype": "text/x-python",
   "name": "python",
   "nbconvert_exporter": "python",
   "pygments_lexer": "ipython3",
   "version": "3.11.2"
  }
 },
 "nbformat": 4,
 "nbformat_minor": 5
}
