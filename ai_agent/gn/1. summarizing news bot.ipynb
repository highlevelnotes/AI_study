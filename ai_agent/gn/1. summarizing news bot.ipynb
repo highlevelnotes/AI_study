{
 "cells": [
  {
   "cell_type": "code",
   "execution_count": 15,
   "id": "adf461a3",
   "metadata": {},
   "outputs": [],
   "source": [
    "from selenium import webdriver\n",
    "from webdriver_manager.chrome import ChromeDriverManager\n",
    "from selenium.webdriver.common.by import By\n",
    "\n",
    "driver = webdriver.Chrome()"
   ]
  },
  {
   "cell_type": "code",
   "execution_count": 16,
   "id": "82901e9e",
   "metadata": {},
   "outputs": [],
   "source": [
    "driver.get('https://www.naver.com')"
   ]
  },
  {
   "cell_type": "code",
   "execution_count": 17,
   "id": "efa4dc14",
   "metadata": {},
   "outputs": [],
   "source": [
    "driver.get('https://search.naver.com/search.naver?ssc=tab.news.all&where=news&sm=tab_jum&query=ChatGPT')"
   ]
  },
  {
   "cell_type": "code",
   "execution_count": 18,
   "id": "6c8c6132",
   "metadata": {},
   "outputs": [],
   "source": [
    "sel = driver.find_element(By.CLASS_NAME, 'sds-comps-text-type-headline1')"
   ]
  },
  {
   "cell_type": "code",
   "execution_count": 19,
   "id": "71c5c86e",
   "metadata": {},
   "outputs": [],
   "source": [
    "sel.click()"
   ]
  },
  {
   "cell_type": "code",
   "execution_count": 20,
   "id": "a9143b7a",
   "metadata": {},
   "outputs": [],
   "source": [
    "driver.get('https://sports.news.naver.com/index')"
   ]
  },
  {
   "cell_type": "code",
   "execution_count": 24,
   "id": "e8c11480",
   "metadata": {},
   "outputs": [],
   "source": [
    "news_links = driver.find_elements(By.CLASS_NAME, 'Home_link_title__W6Auj')"
   ]
  },
  {
   "cell_type": "code",
   "execution_count": 25,
   "id": "78c7c08d",
   "metadata": {},
   "outputs": [
    {
     "data": {
      "text/plain": [
       "[<selenium.webdriver.remote.webelement.WebElement (session=\"d654a1ccbe9bb12188360368863e987d\", element=\"f.F974F2933730E5F2F63DD8A620AD0173.d.5C523CB1810196BC649C0F81900CB8E8.e.9126\")>,\n",
       " <selenium.webdriver.remote.webelement.WebElement (session=\"d654a1ccbe9bb12188360368863e987d\", element=\"f.F974F2933730E5F2F63DD8A620AD0173.d.5C523CB1810196BC649C0F81900CB8E8.e.9132\")>,\n",
       " <selenium.webdriver.remote.webelement.WebElement (session=\"d654a1ccbe9bb12188360368863e987d\", element=\"f.F974F2933730E5F2F63DD8A620AD0173.d.5C523CB1810196BC649C0F81900CB8E8.e.9138\")>,\n",
       " <selenium.webdriver.remote.webelement.WebElement (session=\"d654a1ccbe9bb12188360368863e987d\", element=\"f.F974F2933730E5F2F63DD8A620AD0173.d.5C523CB1810196BC649C0F81900CB8E8.e.9144\")>,\n",
       " <selenium.webdriver.remote.webelement.WebElement (session=\"d654a1ccbe9bb12188360368863e987d\", element=\"f.F974F2933730E5F2F63DD8A620AD0173.d.5C523CB1810196BC649C0F81900CB8E8.e.9150\")>,\n",
       " <selenium.webdriver.remote.webelement.WebElement (session=\"d654a1ccbe9bb12188360368863e987d\", element=\"f.F974F2933730E5F2F63DD8A620AD0173.d.5C523CB1810196BC649C0F81900CB8E8.e.9156\")>]"
      ]
     },
     "execution_count": 25,
     "metadata": {},
     "output_type": "execute_result"
    }
   ],
   "source": [
    "news_links"
   ]
  },
  {
   "cell_type": "code",
   "execution_count": 26,
   "id": "55574f6c",
   "metadata": {},
   "outputs": [
    {
     "data": {
      "text/plain": [
       "'https://m.sports.naver.com/kbasketball/article/003/0013334411'"
      ]
     },
     "execution_count": 26,
     "metadata": {},
     "output_type": "execute_result"
    }
   ],
   "source": [
    "news_links[0].get_attribute('href')"
   ]
  },
  {
   "cell_type": "code",
   "execution_count": 27,
   "id": "1a8653fc",
   "metadata": {},
   "outputs": [
    {
     "name": "stdout",
     "output_type": "stream",
     "text": [
      "오늘의  1 번째 뉴스\n",
      "https://m.sports.naver.com/kbasketball/article/003/0013334411\n",
      "오늘의  2 번째 뉴스\n",
      "https://m.sports.naver.com/kfootball/article/396/0000713862\n",
      "오늘의  3 번째 뉴스\n",
      "https://m.sports.naver.com/golf/article/422/0000754736\n",
      "오늘의  4 번째 뉴스\n",
      "https://m.sports.naver.com/others/article/047/0002479213\n",
      "오늘의  5 번째 뉴스\n",
      "https://m.sports.naver.com/golf/article/425/0000167070\n",
      "오늘의  6 번째 뉴스\n",
      "https://m.sports.naver.com/others/article/139/0002226911\n"
     ]
    }
   ],
   "source": [
    "cnt = 1\n",
    "for news in news_links:\n",
    "  print('오늘의 ', cnt, '번째 뉴스')\n",
    "  print(news.get_attribute('href'))\n",
    "  cnt += 1"
   ]
  },
  {
   "cell_type": "code",
   "execution_count": 28,
   "id": "32e896c5",
   "metadata": {},
   "outputs": [
    {
     "name": "stdout",
     "output_type": "stream",
     "text": [
      "오늘의  1 번째 뉴스\n",
      "https://m.sports.naver.com/kbasketball/article/003/0013334411\n",
      "오늘의  2 번째 뉴스\n",
      "https://m.sports.naver.com/kfootball/article/396/0000713862\n",
      "오늘의  3 번째 뉴스\n",
      "https://m.sports.naver.com/golf/article/422/0000754736\n",
      "오늘의  4 번째 뉴스\n",
      "https://m.sports.naver.com/others/article/047/0002479213\n",
      "오늘의  5 번째 뉴스\n",
      "https://m.sports.naver.com/golf/article/425/0000167070\n",
      "오늘의  6 번째 뉴스\n",
      "https://m.sports.naver.com/others/article/139/0002226911\n"
     ]
    }
   ],
   "source": [
    "news_list = []\n",
    "\n",
    "cnt = 1\n",
    "for news in news_links:\n",
    "  print('오늘의 ', cnt, '번째 뉴스')\n",
    "  print(news.get_attribute('href'))\n",
    "  news_list.append(news.get_attribute('href'))\n",
    "  cnt += 1"
   ]
  },
  {
   "cell_type": "code",
   "execution_count": 29,
   "id": "093b05d8",
   "metadata": {},
   "outputs": [
    {
     "data": {
      "text/plain": [
       "['https://m.sports.naver.com/kbasketball/article/003/0013334411',\n",
       " 'https://m.sports.naver.com/kfootball/article/396/0000713862',\n",
       " 'https://m.sports.naver.com/golf/article/422/0000754736',\n",
       " 'https://m.sports.naver.com/others/article/047/0002479213',\n",
       " 'https://m.sports.naver.com/golf/article/425/0000167070',\n",
       " 'https://m.sports.naver.com/others/article/139/0002226911']"
      ]
     },
     "execution_count": 29,
     "metadata": {},
     "output_type": "execute_result"
    }
   ],
   "source": [
    "news_list"
   ]
  },
  {
   "cell_type": "code",
   "execution_count": 30,
   "id": "d851195d",
   "metadata": {},
   "outputs": [],
   "source": [
    "for news in news_list:\n",
    "  driver.get(news)"
   ]
  },
  {
   "cell_type": "code",
   "execution_count": 31,
   "id": "9d20afd5",
   "metadata": {},
   "outputs": [],
   "source": [
    "driver.get(news_list[0])"
   ]
  },
  {
   "cell_type": "code",
   "execution_count": 32,
   "id": "ea7eb37a",
   "metadata": {},
   "outputs": [],
   "source": [
    "news_title = driver.find_element(By.CLASS_NAME, 'ArticleHead_article_title__qh8GV')"
   ]
  },
  {
   "cell_type": "code",
   "execution_count": 33,
   "id": "3588869c",
   "metadata": {},
   "outputs": [
    {
     "data": {
      "text/plain": [
       "<selenium.webdriver.remote.webelement.WebElement (session=\"d654a1ccbe9bb12188360368863e987d\", element=\"f.F974F2933730E5F2F63DD8A620AD0173.d.38D15E521326D009BD3CB756A91098FB.e.35727\")>"
      ]
     },
     "execution_count": 33,
     "metadata": {},
     "output_type": "execute_result"
    }
   ],
   "source": [
    "news_title"
   ]
  },
  {
   "cell_type": "code",
   "execution_count": 34,
   "id": "b13ca0e4",
   "metadata": {},
   "outputs": [
    {
     "data": {
      "text/plain": [
       "\"'8억원' KCC 허훈·KT 김선형, 프로농구 연봉 킹…LG 두경민·전성현, 연봉 조정 신청\""
      ]
     },
     "execution_count": 34,
     "metadata": {},
     "output_type": "execute_result"
    }
   ],
   "source": [
    "news_title.text"
   ]
  },
  {
   "cell_type": "code",
   "execution_count": 35,
   "id": "55cf3633",
   "metadata": {},
   "outputs": [
    {
     "data": {
      "text/plain": [
       "<selenium.webdriver.remote.webelement.WebElement (session=\"d654a1ccbe9bb12188360368863e987d\", element=\"f.F974F2933730E5F2F63DD8A620AD0173.d.38D15E521326D009BD3CB756A91098FB.e.35780\")>"
      ]
     },
     "execution_count": 35,
     "metadata": {},
     "output_type": "execute_result"
    }
   ],
   "source": [
    "driver.find_element(By.CLASS_NAME, '_article_content')"
   ]
  },
  {
   "cell_type": "code",
   "execution_count": 36,
   "id": "38f9aa01",
   "metadata": {},
   "outputs": [
    {
     "data": {
      "text/plain": [
       "\"[서울=뉴시스] 김금보 기자 = 부산 KCC 이지스로 이적한 허훈이 29일 서울 강남구 KBL센터에서 열린 입단식에서 이상민 감독에게 유니폼을 받고 있다. 2025.05.29. kgb@newsis.com\\n[서울=뉴시스]김희준 기자 = 프로농구 자유계약선수(FA) 시장을 뜨겁게 달궜던 허훈(부산 KCC)과 김선형(수원 KT)이 나란히 2025~2026시즌 '연봉 킹'에 올랐다.\\n\\nKBL은 30일 2024~2025시즌 국내 선수 등록을 마감한 결과 허훈과 김선형이 보수 총액 8억원으로 1위에 올랐다고 밝혔다.\\n\\n허훈이 보수 1위에 오른 것은 처음이다. 김선형은 2023~2024시즌 이후 두 시즌 만에 보수 1위 자리에 복귀했다.\\n2024~2025시즌까지 KT에서 뛰었던 허훈은 시즌을 마친 뒤 FA가 됐다. FA 시장의 최대어로 손꼽힌 허훈은 KCC와 계약기간 5년, 첫 시즌 보수 총액 8억원(연봉 6억5000만원·인센티브 1억5000만원)에 계약을 맺었다. 형 허웅과도 한솥밥을 먹게 됐다.\\n\\n팀을 2023~2024시즌 준우승, 2024~2025시즌 4강으로 이끈 송영진 전 감독을 해임하면서 대권에 도전하겠다고 외친 KT는 에이스 허훈을 놓친 후 FA 김선형을 영입했다. 계약기간 3년, 첫 시즌 보수 총액 8억원에 사인했다. 서울 SK에서만 뛰던 김선형은 처음으로 팀을 옮겼고, 옛 은사인 문경은 감독과 재회했다.\\n\\nSK의 안영준과 창원 LG의 양홍석이 보수 7억5000만원으로 뒤를 잇는다.\\n\\n[서울=뉴시스] 최동준 기자 = 1일 서울 강남구 KBL센터에서 열린 2024-2025 KCC 프로농구 챔피언결정전 미디어데이에서 서울 SK 김선형이 각오를 밝히고 있다. 2025.05.01. photocdj@newsis.com\\n2024~2025시즌 국내선수 최우수선수(MVP)를 차지한 안영준은 시즌을 마친 뒤 FA가 돼 SK와 계약기간 5년, 첫 시즌 보수 총액 7억5000만원에 재계약했다.\\n\\nLG의 두경민과 전성현은 나란히 보수 조정을 신청했다.\\n\\nLG는 이달 10일 KBL에 두경민의 웨이버 선수 공시를 요청했다. 두경민은 4강 플레이오프 직전 몸 상태, 출전 시간 등을 이유로 코치진과 마찰을 빚었던 것으로 알려졌다.\\n\\n그러나 두경민은 2주 동안 영입의향서를 받지 못했고, 다시 LG 소속이 됐다.\\n\\n갈등의 골이 깊어진 LG 구단과 두경민은 보수 조정에 들어간다. LG는 최소 연봉인 4200만원을 제시했고, 두경민은 1억4000만원을 달라고 요구했다.\\n\\n[서울=뉴시스] 김진아 기자 = 창원 LG 조상현 감독, 전성현, 두경민이 15일 서울 용산구 블루스퀘어에서 열린 2024-2025시즌 프로농구 개막 미디어데이&팬페스트에서 포즈를 취하고 있다. 2024.10.15. bluesoda@newsis.com\\n3억5000만원을 원한 전성현도 2억8000만원을 제시한 LG와 합의점을 찾지 못했다.\\n\\n안영 정관장의 배병준, KCC의 이호현도 소속 구단과 연봉 합의에 실패해 보수 조정에 나섰다.\\n\\n서울 삼성의 이근휘는 지난 시즌 9000만원에서 256% 오른 3억2000만원을 받게 돼 2025~2026시즌 보수 최고 인상률을 기록했다. 2위는 대구 한국가스공사 김국찬으로, 지난 시즌 대비 192%가 오른 3억8000만원에 계약을 마쳤다.\\n\\n샐러리캡(30억원)을 초과한 KT는 소프트캡을 적용받아 초과 금액의 30%인 4236만6600원을 유소년 발전 기금으로 납부한다.\""
      ]
     },
     "execution_count": 36,
     "metadata": {},
     "output_type": "execute_result"
    }
   ],
   "source": [
    "driver.find_element(By.CLASS_NAME, '_article_content').text"
   ]
  },
  {
   "cell_type": "code",
   "execution_count": 37,
   "id": "b2d6eb93",
   "metadata": {},
   "outputs": [],
   "source": [
    "news_text = driver.find_element(By.CLASS_NAME, '_article_content')"
   ]
  },
  {
   "cell_type": "code",
   "execution_count": 39,
   "id": "847a6a28",
   "metadata": {},
   "outputs": [
    {
     "name": "stdout",
     "output_type": "stream",
     "text": [
      "[서울=뉴시스] 김금보 기자 = 부산 KCC 이지스로 이적한 허훈이 29일 서울 강남구 KBL센터에서 열린 입단식에서 이상민 감독에게 유니폼을 받고 있다. 2025.05.29. kgb@newsis.com\n",
      "[서울=뉴시스]김희준 기자 = 프로농구 자유계약선수(FA) 시장을 뜨겁게 달궜던 허훈(부산 KCC)과 김선형(수원 KT)이 나란히 2025~2026시즌 '연봉 킹'에 올랐다.\n",
      "\n",
      "KBL은 30일 2024~2025시즌 국내 선수 등록을 마감한 결과 허훈과 김선형이 보수 총액 8억원으로 1위에 올랐다고 밝혔다.\n",
      "\n",
      "허훈이 보수 1위에 오른 것은 처음이다. 김선형은 2023~2024시즌 이후 두 시즌 만에 보수 1위 자리에 복귀했다.\n",
      "2024~2025시즌까지 KT에서 뛰었던 허훈은 시즌을 마친 뒤 FA가 됐다. FA 시장의 최대어로 손꼽힌 허훈은 KCC와 계약기간 5년, 첫 시즌 보수 총액 8억원(연봉 6억5000만원·인센티브 1억5000만원)에 계약을 맺었다. 형 허웅과도 한솥밥을 먹게 됐다.\n",
      "\n",
      "팀을 2023~2024시즌 준우승, 2024~2025시즌 4강으로 이끈 송영진 전 감독을 해임하면서 대권에 도전하겠다고 외친 KT는 에이스 허훈을 놓친 후 FA 김선형을 영입했다. 계약기간 3년, 첫 시즌 보수 총액 8억원에 사인했다. 서울 SK에서만 뛰던 김선형은 처음으로 팀을 옮겼고, 옛 은사인 문경은 감독과 재회했다.\n",
      "\n",
      "SK의 안영준과 창원 LG의 양홍석이 보수 7억5000만원으로 뒤를 잇는다.\n",
      "\n",
      "[서울=뉴시스] 최동준 기자 = 1일 서울 강남구 KBL센터에서 열린 2024-2025 KCC 프로농구 챔피언결정전 미디어데이에서 서울 SK 김선형이 각오를 밝히고 있다. 2025.05.01. photocdj@newsis.com\n",
      "2024~2025시즌 국내선수 최우수선수(MVP)를 차지한 안영준은 시즌을 마친 뒤 FA가 돼 SK와 계약기간 5년, 첫 시즌 보수 총액 7억5000만원에 재계약했다.\n",
      "\n",
      "LG의 두경민과 전성현은 나란히 보수 조정을 신청했다.\n",
      "\n",
      "LG는 이달 10일 KBL에 두경민의 웨이버 선수 공시를 요청했다. 두경민은 4강 플레이오프 직전 몸 상태, 출전 시간 등을 이유로 코치진과 마찰을 빚었던 것으로 알려졌다.\n",
      "\n",
      "그러나 두경민은 2주 동안 영입의향서를 받지 못했고, 다시 LG 소속이 됐다.\n",
      "\n",
      "갈등의 골이 깊어진 LG 구단과 두경민은 보수 조정에 들어간다. LG는 최소 연봉인 4200만원을 제시했고, 두경민은 1억4000만원을 달라고 요구했다.\n",
      "\n",
      "[서울=뉴시스] 김진아 기자 = 창원 LG 조상현 감독, 전성현, 두경민이 15일 서울 용산구 블루스퀘어에서 열린 2024-2025시즌 프로농구 개막 미디어데이&팬페스트에서 포즈를 취하고 있다. 2024.10.15. bluesoda@newsis.com\n",
      "3억5000만원을 원한 전성현도 2억8000만원을 제시한 LG와 합의점을 찾지 못했다.\n",
      "\n",
      "안영 정관장의 배병준, KCC의 이호현도 소속 구단과 연봉 합의에 실패해 보수 조정에 나섰다.\n",
      "\n",
      "서울 삼성의 이근휘는 지난 시즌 9000만원에서 256% 오른 3억2000만원을 받게 돼 2025~2026시즌 보수 최고 인상률을 기록했다. 2위는 대구 한국가스공사 김국찬으로, 지난 시즌 대비 192%가 오른 3억8000만원에 계약을 마쳤다.\n",
      "\n",
      "샐러리캡(30억원)을 초과한 KT는 소프트캡을 적용받아 초과 금액의 30%인 4236만6600원을 유소년 발전 기금으로 납부한다.\n"
     ]
    }
   ],
   "source": [
    "print(news_text.text)"
   ]
  },
  {
   "cell_type": "code",
   "execution_count": 40,
   "id": "d82c75e9",
   "metadata": {},
   "outputs": [],
   "source": [
    "import time\n",
    "\n",
    "news_content_list = []\n",
    "for news in news_list:\n",
    "  news_content = dict()\n",
    "  driver.get(news)\n",
    "  time.sleep(2)\n",
    "\n",
    "  news_title = driver.find_element(By.CLASS_NAME, 'ArticleHead_article_title__qh8GV')\n",
    "  news_content['title'] = news_title.text\n",
    "\n",
    "  news_texts = driver.find_element(By.CLASS_NAME, '_article_content')\n",
    "  news_content['main_text'] = news_texts.text\n",
    "  news_content_list.append(news_content)"
   ]
  },
  {
   "cell_type": "code",
   "execution_count": 41,
   "id": "3ef5a736",
   "metadata": {},
   "outputs": [
    {
     "data": {
      "text/plain": [
       "[{'title': \"'8억원' KCC 허훈·KT 김선형, 프로농구 연봉 킹…LG 두경민·전성현, 연봉 조정 신청\",\n",
       "  'main_text': \"[서울=뉴시스] 김금보 기자 = 부산 KCC 이지스로 이적한 허훈이 29일 서울 강남구 KBL센터에서 열린 입단식에서 이상민 감독에게 유니폼을 받고 있다. 2025.05.29. kgb@newsis.com\\n[서울=뉴시스]김희준 기자 = 프로농구 자유계약선수(FA) 시장을 뜨겁게 달궜던 허훈(부산 KCC)과 김선형(수원 KT)이 나란히 2025~2026시즌 '연봉 킹'에 올랐다.\\n\\nKBL은 30일 2024~2025시즌 국내 선수 등록을 마감한 결과 허훈과 김선형이 보수 총액 8억원으로 1위에 올랐다고 밝혔다.\\n\\n허훈이 보수 1위에 오른 것은 처음이다. 김선형은 2023~2024시즌 이후 두 시즌 만에 보수 1위 자리에 복귀했다.\\n2024~2025시즌까지 KT에서 뛰었던 허훈은 시즌을 마친 뒤 FA가 됐다. FA 시장의 최대어로 손꼽힌 허훈은 KCC와 계약기간 5년, 첫 시즌 보수 총액 8억원(연봉 6억5000만원·인센티브 1억5000만원)에 계약을 맺었다. 형 허웅과도 한솥밥을 먹게 됐다.\\n\\n팀을 2023~2024시즌 준우승, 2024~2025시즌 4강으로 이끈 송영진 전 감독을 해임하면서 대권에 도전하겠다고 외친 KT는 에이스 허훈을 놓친 후 FA 김선형을 영입했다. 계약기간 3년, 첫 시즌 보수 총액 8억원에 사인했다. 서울 SK에서만 뛰던 김선형은 처음으로 팀을 옮겼고, 옛 은사인 문경은 감독과 재회했다.\\n\\nSK의 안영준과 창원 LG의 양홍석이 보수 7억5000만원으로 뒤를 잇는다.\\n\\n[서울=뉴시스] 최동준 기자 = 1일 서울 강남구 KBL센터에서 열린 2024-2025 KCC 프로농구 챔피언결정전 미디어데이에서 서울 SK 김선형이 각오를 밝히고 있다. 2025.05.01. photocdj@newsis.com\\n2024~2025시즌 국내선수 최우수선수(MVP)를 차지한 안영준은 시즌을 마친 뒤 FA가 돼 SK와 계약기간 5년, 첫 시즌 보수 총액 7억5000만원에 재계약했다.\\n\\nLG의 두경민과 전성현은 나란히 보수 조정을 신청했다.\\n\\nLG는 이달 10일 KBL에 두경민의 웨이버 선수 공시를 요청했다. 두경민은 4강 플레이오프 직전 몸 상태, 출전 시간 등을 이유로 코치진과 마찰을 빚었던 것으로 알려졌다.\\n\\n그러나 두경민은 2주 동안 영입의향서를 받지 못했고, 다시 LG 소속이 됐다.\\n\\n갈등의 골이 깊어진 LG 구단과 두경민은 보수 조정에 들어간다. LG는 최소 연봉인 4200만원을 제시했고, 두경민은 1억4000만원을 달라고 요구했다.\\n\\n[서울=뉴시스] 김진아 기자 = 창원 LG 조상현 감독, 전성현, 두경민이 15일 서울 용산구 블루스퀘어에서 열린 2024-2025시즌 프로농구 개막 미디어데이&팬페스트에서 포즈를 취하고 있다. 2024.10.15. bluesoda@newsis.com\\n3억5000만원을 원한 전성현도 2억8000만원을 제시한 LG와 합의점을 찾지 못했다.\\n\\n안영 정관장의 배병준, KCC의 이호현도 소속 구단과 연봉 합의에 실패해 보수 조정에 나섰다.\\n\\n서울 삼성의 이근휘는 지난 시즌 9000만원에서 256% 오른 3억2000만원을 받게 돼 2025~2026시즌 보수 최고 인상률을 기록했다. 2위는 대구 한국가스공사 김국찬으로, 지난 시즌 대비 192%가 오른 3억8000만원에 계약을 마쳤다.\\n\\n샐러리캡(30억원)을 초과한 KT는 소프트캡을 적용받아 초과 금액의 30%인 4236만6600원을 유소년 발전 기금으로 납부한다.\"},\n",
       " {'title': '‘엄원상·송민규·이상헌 포함’ K리그, 2026년도 FA자격 취득 예정 선수 371명 공시',\n",
       "  'main_text': '사진=한국프로축구연맹 제공\\n한국프로축구연맹이 엄원상(울산), 송민규(전북), 이상헌(강원) 등 2026년도 FA자격 취득 예정 선수 명단을 공시했다.\\n\\n공시 대상 선수는 총 371명이다. 이 중 2005년 이후 K리그에 최초 등록한 370명은 올해 12월 31일 계약 기간이 만료됨으로써 FA자격을 취득하며, FA자격 취득 후에는 타 구단과 자유롭게 선수계약을 할 수 있다.\\n\\n단, 계약 기간 만료 전에 현재 소속 구단과 재계약을 체결하는 경우에는 FA자격을 취득하지 않는다. 2004년 이전에 K리그에 첫 등록한 선수는 당시 규정에 따라 계약 기간 동안 소속팀이 치른 공식경기의 50% 이상 출장할 경우 계약 기간 만료와 동시에 FA자격을 얻는다. 이번 공시 대상 선수 중 2004년 이전 K리그에 첫 등록한 선수는 이청용(울산)이 유일하다.\\n\\nFA자격 취득 예정 선수는 계약 기간이 만료되는 해의 7월 1일부터 현재 소속 구단뿐 아니라 타 구단과도 입단 교섭을 할 수 있다. 단, 타 구단이 FA자격 취득 예정 선수와 교섭을 개시할 경우에는 사전에 해당 선수의 현재 소속 구단에 서면으로 교섭 개시 사실을 알려야 한다. 또한, 선수와의 계약 체결은 해당 선수가 현재 소속된 클럽의 리그 마지막 경기 다음날부터 가능하다.\\n\\n◆2026년도 FA자격 취득 예정 선수\\n- 총 인원: 371명\\n- 구단별 인원\\n[K리그1] 강원 14명, 광주 9명, 대구 14명, 대전 4명, 서울 13명, 수원FC 22명, 안양 9명, 울산 6명, 전북 17명, 제주 16명, 포항 10명 (총 134명)\\n[K리그2] 경남 18명, 김포 16명, 부산 15명, 부천 15명, 서울E 12명, 성남 15명, 수원 9명, 안산 26명, 인천 12명, 전남 11명, 천안 29명, 충남아산 20명, 충북청주 17명, 화성 22명 (총 237명)'},\n",
       " {'title': '임진희·이소미, 동반 우승…LPGA 2년차에 쾌거',\n",
       "  'main_text': '02:06\\n\\n[앵커]\\n\\n미국 여자프로골프 투어, LPGA 임진희·이소미 선수가 투어의 유일한 2인 1조 대회인 \\'다우 챔피언십\\'에서 연장 접전 끝에 짜릿한 우승을 차지했습니다.\\n\\n나란히 투어 2년차로 어려운 루키 시절을 겪었던 두 선수가 의기투합했는데요.\\n\\n조한대 기자입니다.\\n\\n[기자]\\n\\n16번홀까지 미국 렉시 톰프슨-메건 캉에 1타 뒤지던 임진희-이소미.\\n\\n17번홀에서 이소미가 버디를 낚아 4라운드에서만 8타를 줄여,최종합계 20언더파로 승부를 연장으로 끌고 갑니다.\\n\\n연장 승부는 빠르게 갈렸습니다.\\n\\n공 하나를 번갈아 치는, 포섬으로 진행된 연장 첫 홀에서 임진희는 버디를 성공시킨 반면, 캉은 더 짧은 버디 퍼트를 놓치며 우승은 임진희-이소미의 몫이 됐습니다.\\n\\nLPGA 투어에서 유일한 2인 1조 경기인 이번 대회에서 한국 선수가 우승한 건 이번이 처음.\\n\\n올해 한국 선수의 4번째 LPGA 우승으로, 두 선수는 투어 통산 50호·51호 한국인 우승자가 됐습니다.\\n\\n앞서 KLPGA 무대에선 각각 6승과 5승을 거두며 맹활약했던 임진희와 이소미.\\n\\n하지만 지난해 나란히 LPGA에 입성한 뒤 임진희는 24개 대회에서 준우승 한 차례, 이소미는 27개 대회에서 \\'톱10\\' 한 번에 만족해야 했습니다.\\n\\n기존 \\'메인 후원사\\'마저 끊기는 혹독한 루키 시절을 견뎌내고 둘이 힘을 모아 마침내 LPGA 무대에 이름 석자를 알린 임진희·이소미.\\n\\n<임진희·이소미 / LPGA 선수> \"그 순간(우승 순간)은 진짜 안 믿겨졌고 한 두세 홀 정도는 더 쳐야되는 거 아닌가라는 생각이 들 정도로 안 믿겨졌던 거 같아요. 그 순간 만큼은.\"\\n\\n\"혼자였다면 우승할 수 없었을 것\"이라고 소감을 밝힌 두 사람은 앞으로 더 많이 우승컵을 들어보이겠다며 웃어보였습니다.\\n\\n연합뉴스TV 조한대입니다.\\n\\n[영상편집 김은채 / 그래픽 윤정인 허진영]\\n\\n#LPGA #임진희 #이소미 #동반우승\\n\\n연합뉴스TV 기사문의 및 제보 : 카톡/라인 jebo23'},\n",
       " {'title': \"4년 전보다 강해진 남자 컬링, 올림픽 위해 '미·중·일' 뚫어라\",\n",
       "  'main_text': '\\'올림픽 최종 예선\\' 출전하는 남자 컬링 대표팀 경북체육회\\n▲  지난 27일까지 열린 2025 한국컬링선수권대회에서 우승을 거둔 경북체육회 선수들. 왼쭉 위부터 차례대로 한상호 대한컬링연맹 회장, 김동근 의정부시장, 이원성 경기도체육회장, 경북체육회 전재익·김수혁·김창민·유민현·김학균 선수, 윤소민 코치.\\nⓒ 박장식\\n\\n2022 베이징 동계 올림픽 무대를 끝내 밟지 못해 눈물을 삼켰던 남자 컬링 대표팀이 4년의 와신상담을 딛고 2026 밀라노-코르티나담페초 동계 올림픽 출전의 꿈을 이룰 수 있을까.\\n\\n김수혁·김창민·유민현·김학균·전재익(코치 윤소민)으로 구성된 남자 컬링 대표팀 경북체육회가 이제 남자 컬링 사상 첫 올림픽 자력 진출을 노린다. 2018 평창 동계 올림픽 당시에는 개최국 자격으로 올림픽에 나섰던 김창민이 \\'맏형\\' 김수혁과 함께 팀의 중심을 잡은 가운데, 4년 전 최종 예선에서 탈락했던 아픔을 반복하지는 않겠다는 것이 선수들의 각오다.\\n\\n하지만 뚫어야 할 국가들이 많다. 지난 세계선수권에서 자력 진출이 유력했던 미국이 올림픽 직행에 실패한 데다, 중국·일본도 세계선수권에서의 포인트 확보에 실패하며 한국과 함께 최종 예선으로 떨어졌다. 상대 국가를 향한 철저한 분석이 올림픽 자력 진출의 교두보가 될 전망이다.\\n\\n김수혁·김창민 듀오, 4년 전보다 더 단단해졌다\\n\\n▲  지난 26일 열린 2025 한국컬링선수권대회 남자부 페이지 플레이오프에서 경북체육회 김창민 선수가 투구한 스톤을 유민현·김학균 선수가 스위핑하고 있다.\\nⓒ 박장식\\n\\n경북체육회는 4년 동안의 국가대표 공백, 그리고 캐나다·유럽 등에서의 전지훈련이 많지 않아 기량을 확인할 기회가 부족했음에도 팀의 기량이 더욱 단단해졌다는 평가를 받는다. 이미 국가대표 경험을 지니고 있는 유민현이 군 복무 이후 경북체육회에 입단한 데다, 두 베테랑의 합도 이제는 더욱 완벽하게 맞아떨어지기 때문이다.\\n\\n2022 베이징 동계 올림픽을 앞두고 \\'베테랑\\' 김수혁이 고향 의성으로 돌아오면서 지금의 경북체육회가 구성됐다. 당시 2021 한국선수권에서 우승을 차지하며 올림픽에 나서려 했지만, 팀 안팎을 둘러싼 문제로 한국선수권은 커녕 국제대회에조차 나서지 못했다. 2021년 12월 열린 올림픽 최종 예선에서 \\'한 끗 차\\' 탈락을 겪었다.\\n지난 3년 동안 국가대표 선발전에서 아쉬움을 삼켰던 경북체육회. 하지만 팀은 더욱 단단해졌다. 리드를 지키던 김학균도 형들의 플레이를 보면서 \\'특급 리드\\'로 올라섰고, 세컨드에서의 빈자리를 유민현이 채웠다.\\n\\n유민현은 \"코치 이후 선수로 복귀한다는 것이 의미 있는 일이 아니었을까 싶다\"면서 \"형들도, 동생들도, 코치님도 믿을 수 있었기에 1년 동안 달려올 수 있었다. 국가대표에서도 더 좋은 모습을 보여드릴 수 있을 것\"이라고 말했다.\\n\\n\\'두 베테랑\\'으로 구분되는 김수혁과 김창민도 더욱 훌륭한 모습으로 변했다. 비록 샷을 던질 때면 의견 충돌이 잦지만 \\'뒤끝 없는 모습\\'이 팀워크의 비결이다. 한 팀이 된 지 4년, 도전적이고 강렬한 김창민의 전략과 안정적이고 신중한 김수혁의 전략이 시너지를 내고 있다.\\n\\n미국·중국·일본, 그리고 네덜란드와 필리핀\\n\\n▲  지난 2025 하얼빈 동계 아시안 게임 당시 한국을 결승전에서 누르고 우승했던 필리핀 남자 컬링 대표팀. 필리핀은 스위스계 필리핀인 \\'피스터 형제\\'를 바탕으로 이번 올림픽을 노리고 있다.\\nⓒ 박장식\\n\\n올해 올림픽 최종 예선은 \\'역대급 경쟁\\'이 예고되어 있다. 올해 세계선수권에서 좋지 못한 경기력을 보인 미국의 \\'팀 코리 드롭킨\\'이 11위로 탈락하며 올림픽 티켓을 눈앞에서 놓쳤다. 올림픽 포인트 1점 차이로 체코에게 티켓을 내주게 된 미국은 12월 예선에서 모든 것을 쏟아부을 가능성이 크다.\\n\\n중국도 2014 소치 올림픽에 출전했던 \\'베테랑\\' 쉬샤오밍이 현역에 복귀했다. 지난 2025 하얼빈 동계 아시안 게임에서 동메달을 땄던 \\'팀 쉬샤오밍\\'은 올해 열린 세계선수권에서 4강에 진출했지만 메달을 따내지 못하며 올림픽 티켓을 놓쳤다. 김창민이 올해 세계선수권을 대비하며 캐나다 투어에서 직접 만나본 적은 있지만, 쉬샤오밍 역시 오랜 경력을 가진 만큼 경계를 놓을 수 없다.\\n\\n필리핀 역시 경계해야 한다. 현재 올림픽 1차 예선에 출전해야 하는 팀이지만, 스위스 국가대표 출신의 마르코 피스터와 앤리코 피스터가 팀을 지키고 있다. 당장 지난 2월 2025 하얼빈 동계 아시안 게임에서 \\'후배\\' 의성군청 선수들을 누르고 금메달을 가져가기도 했다.\\n\\n특히 4년 전 올림픽 최종 예선에서 승리의 맥을 끊었던 일본, 3년 전 세계선수권에서 한국에 플레이오프 진출을 앞두고 좌절을 안겼던 네덜란드도 올림픽 최종 예선에서 만난다.\\n\\n코르티나에서 웃을 베테랑들을 기대해\\n\\n▲  지난 26일 열린 2025 한국컬링선수권대회 남자부 페이지 플레이오프에서 (왼쪽부터) 경북체육회 김수혁·김창민·유민현·김학균 선수가 대화를 나누고 있다.\\nⓒ 박장식\\n\\n그러나 선수들에겐 동기부여가 있다. 바로 4년 전 올림픽 최종 예선에서의 아픔을 겪었기 때문이다. 선수들은 2022 베이징 동계 올림픽에 나가지 못해 아쉬웠다고 말한다.\\n\\n김학균은 \"올림픽 최종 예선에서 떨어졌을 때의 부족함을 보완했다고 생각한다\"고 말했다. 김수혁 스킵 역시 \"우리 팀원들이 얼마나 많이 노력했고, 힘든 시간을 견디며 왔는지 안다\"며 \"더 좋은 세계 무대에서 경기하자는 생각으로 이번 한국 선수권에 임했다\"고 털어놨다.\\n\\n김창민도 \"수혁이 형과 함께 갖고 있는 우리의 노하우와 어린 친구들의 힘 있고 젊은 모습을 잘 조합한다면 무조건 좋은 결과를 만들 수 있을 것\"이라며 선전을 다짐했다.\\n\\n남자 컬링 국가대표가 12월, 그리고 내년 2월 웃는 모습으로 올림픽에 설 수 있기를 기대해본다.'},\n",
       " {'title': \"'393야드 티샷 주인공' 포트기터, 장타 1위로 PGA 투어 정복\",\n",
       "  'main_text': '아버지와 함께 우승컵을 든 포트기터. / 사진=연합뉴스\\n[진병두 마니아타임즈 기자] PGA 투어에 새로운 거성이 등장했다. 남아프리카공화국 출신 20세 올드리치 포트기터가 30일 로켓 클래식에서 연장전 승리를 거두며 차세대 골프 스타로서의 잠재력을 확실히 입증했다.\\n\\n2023년 프로 전향 후 빠르게 성장해온 포트기터는 작년 콘페리 투어에서 19세 4개월 11일의 역대 최연소 우승을 차지하며 일찌감치 주목받기 시작했다. 이번 로켓 클래식 우승으로 그는 1983년 공식 기록 집계 이후 PGA 투어에서 21세 이하에 우승한 7번째 선수가 됐다.\\n그보다 어린 나이에 PGA 투어 정상에 오른 선수는 필 미컬슨, 타이거 우즈, 조던 스피스, 매슈 울프, 닉 던랩, 그리고 김주형뿐이다. 미국 이외 출신으로는 세베 바예스테로스, 로리 매킬로이, 호아킨 니만, 김주형에 이어 다섯 번째 기록이다.\\n\\n포트기터가 골프계의 이목을 끄는 가장 큰 이유는 압도적인 장타력이다. 현재 PGA 투어 장타 1위를 달리는 그의 평균 드라이버샷 거리는 326.6야드에 달한다. 2위 매킬로이(320.6야드)보다 6야드나 더 멀다. 대부분 순위가 1-2야드 차이로 결정되는 장타 순위에서 6야드 차이는 압도적인 수준이다.\\n\\n소니 오픈 2라운드에서는 393야드라는 경이로운 티샷을 선보이기도 했다. 어릴 때부터 럭비와 레슬링을 병행했던 96kg의 탄탄한 체격에 유연성까지 겸비한 것이 그의 파워의 원천이다.\\n\\n다만 대부분 장타자들이 겪는 정확성 문제는 여전하다. 페어웨이 적중률 150위(53.73%), 그린 적중률 138위(63.17%)로 개선의 여지가 있다. 반면 퍼팅은 나이에 비해 안정적이다. 라운드당 퍼트 수 25위(28.29개), 그린 적중 시 홀당 평균 퍼트 수 37위(1.73개)를 기록하고 있다.\\n\\n우승 퍼트를 넣고 환호하는 포트기터. / 사진=연합뉴스\\n이번 대회에서는 그린 적중률이 85.71%로 전체 3위에 오르며 장타와 정확성을 동시에 보여줬다. 27개 버디와 5개 보기라는 인상적인 스코어링으로 우승을 일궈냈다. 멀리 보낸 후 짧은 클럽으로 그린을 공략하는 장타자 특유의 전략이 디트로이트 골프클럽의 관대한 러프 조건과 맞아떨어진 결과였다.\\n\\n대회 전 고향에서 가진 휴식도 좋은 영향을 미쳤다. 2월 멕시코 오픈 연장전 패배 후 4차례 연속 컷 탈락을 겪었던 그는 지난달 찰스 슈와브컵 챌린지에서 공동 6위로 반등하기 전까지 힘든 시간을 보냈다.\\n\\n고향에서의 재충전 기간 동안 장비도 대폭 교체했다. 블레이드형 아이언을 관용성이 높은 타이틀리스트 T-100과 T-150 혼합 세트로 바꾸고, 볼도 스핀 조절이 용이한 타이틀리스트 프로 V1으로 변경했다.\\n\\n포트기터는 \"많은 변화가 있어서 큰 기대 없이 대회에 임했는데 오히려 좋은 결과로 이어졌다\"며 \"클럽 피팅 결과와 휴식을 통한 재충전이 성과로 나타나 기분이 좋다\"고 소감을 밝혔다.\\n\\n연장전까지 가는 접전 끝에 우승한 그는 \"우승자로 떠날 수 있어 기쁘다\"며 \"많은 짧은 퍼트를 놓쳐 고전했지만, 마지막에 좋은 퍼트로 마무리할 수 있어 만족스럽다\"고 말했다.\\n\\n우승 퍼트 후 공을 관중에게 던져준 그는 \"평소 우승할 때마다 할머니께 드렸는데 너무 흥분해서 깜빡했다. 할머니가 화내실 것 같다\"며 유쾌한 에피소드도 전했다. /연합뉴스'},\n",
       " {'title': \"아깝다! '맥그리거에 단 11일 모자랐다' 토푸리아, 올리베이라에 1R KO승→UFC 두 체급 정복...'최연소 2위' 더블 챔피언 등극\",\n",
       "  'main_text': '[SPORTALKOREA] 오상진 기자= \\'엘 마타도르\\' 일리아 토푸리아(28∙스페인/조지아)가 10번째 UFC 두 체급 챔피언에 등극했다.\\n\\n전 UFC 페더급(65.8kg) 챔피언 토푸리아(17승)은 지난 29일(이하 한국시간) 미국 네바다주 라스베이거스 티모바일 아레나에서 열린 \\'UFC 317: 토푸리아 vs 올리베이라\\' 메인 이벤트 라이트급(70.3kg) 타이틀전에서 전 챔피언 찰스 올리베이라(35∙브라질)에게 1라운드 2분 27초 오른손 훅에 의한 KO승을 거뒀다.\\n\\n라이트급에서도 완벽히 증명했다. 타격뿐만 아니라 그래플링도 탄탄했다. 토푸리아는 경기 초반 올리베이라의 테이크다운 시도에 철창까지 몰렸지만 역으로 넘겼다. UFC 최다 서브미션(16) 기록을 보유한 주짓수 블랙벨트 올리베이라의 주짓수를 두려워하지 않고, 오히려 크루시픽스 포지션까지 잡으며 공략했다.\\n\\n별명대로 투우사가 돼 전진하는 올리베이라를 쓰러뜨렸다. 올리베이라가 토푸리아의 하체를 공략했고, 토푸리아가 이를 빠져나오며 다시 스탠딩으로 전환됐다. 경기 전 공언한 대로 올리베이라는 전진 압박을 걸었다. 토푸리아는 들어오는 올리베이라에게 정확한 오른손 훅에 이은 왼손 훅을 맞혔다. 올리베이라는 이미 첫 한 방에 의식을 잃고 앞으로 고꾸라졌다.\\n\\n\\n\\n토푸리아는 이로써 페더급에 이어 라이트급까지 정복하며 UFC 사상 10번째로 두 체급을 정복한 더블 챔피언이 됐다. 코너 맥그리거의 최연소 더블 챔피언 기록(28세 4개월 10일)에는 단 11일 모자랐다. UFC 페더급 챔피언 알렉산더 볼카노프스키, 전 페더급 챔피언 맥스 할로웨이, 전 라이트급 챔피언 찰스 올리베이라까지 전설적인 선수들을 KO시키며 새로운 전설을 써나가고 있다.\\n\\n토푸리아는 승자 인터뷰에서 \"난 새로운 세대의 종합격투기(MMA)를 대표한다\"며 \"완전히 수준이 달라졌고, 내가 그 표본\"이라고 소감을 밝혔다. 토푸리아는 경기 전날 이미 승리를 확신하고 축하 파티를 벌였다. 그는 \"경기는 정확히 계획한 대로 흘러갔으며, 올리베이라의 의식은 나갔다\"고 설명했다.\\n다음 상대는 악연의 패디 핌블렛(30∙잉글랜드)일까. 토푸리아는 \"이 경기장에는 겁쟁이가 있다\"며 \"난 그가 경기를 수락할 거 같진 않지만 어디 준비돼 있으면 여기 올라와 봐라\"라며 경기를 구경 온 핌블렛을 도발했다. 두 사람은 2022년 런던의 호텔에서 다툼을 벌인 바 있다.\\n\\n경기장에 올라온 랭킹 8위 핌블렛은 \"방금은 아주 강력한 KO였어. 하지만 넌 절대 나를 KO시킬 수 없어, 널 끝내주마 조그만 녀석아\"라고 토푸리아와 신경전을 벌였다. 이에 토푸리아는 핌블렛을 밀치며 \"넌 KO될 거다\"라고 경고했다.\\n\\n토푸리아는 경기 후 기자회견에서 핌블렛과의 경기를 원한다고 강조했다. 그는 \"이번엔 올리베이라를 정말 좋아했기 때문에 살짝 힘들었다\"면서 \"하지만 핌블렛은 두들겨 패줄 게 아주 기대된다\"고 목소리를 높였다. 토푸리아는 이번 연말에 복귀해 방어전을 치를 수 있다고 추후 계획을 밝혔다.\\n\\n\\n\\n코메인 이벤트에선 UFC 플라이급(56.7kg) 챔피언 \\'카니발\\' 알레샨드리 판토자(35∙브라질)가 타이틀 4차 방어에 성공하며 8연승을 달렸다.\\n\\n판토자(30승 5패)는 랭킹 4위 카이 카라-프랑스(32∙뉴질랜드)에게 3라운드 1분 55초 리어네이키드 초크에 의한 서브미션승을 기록했다. 1라운드부터 강력하게 압박해 테이크다운을 성공했고, 압도적으로 경기를 장악한 끝에 손쉬운 승리를 거뒀다. 9년 전 디 얼티밋 파이터(TUF) 때보다 더 쉽게 이겼다.\\n\\n이제 파운드 포 파운드(P4P) 랭킹 정상을 원한다. P4P는 전 체급을 통틀어 실력이 가장 뛰어난 선수를 정하는 랭킹이다. 판토자는 현재 9위다. 판토자는 \"이번이 네 번째 타이틀 방어\"라며 \"더 나은 랭킹을 받을 자격이 있다\"고 강변했다. \\n\\n실제로 그는 마치 별명인 식인종처럼 체급을 정리했다. 랭킹 1위 브랜든 로이발(2회), 2위 브랜든 모레노(3회), 4위 카라-프랑스(2회), 6위 마넬 캅, 7위 알렉스 페레즈, 9위 스티브 얼섹에게 모두 이겼다. 현 챔피언 중 가장 많은 방어 기록을 보유하고 있다.\\n\\n\\n\\n아시아에서 새로운 도전자가 나타났다. 조슈아 반(23∙미얀마/미국)은 판토자의 바로 전 경기에서 랭킹 1위 브랜든 로이발(32∙미국)을 만장일치 판정(29-28, 29-28, 30-27)으로 꺾고 타이틀 도전권을 쟁취했다. 치열한 혈전 끝에 3라운드 막판 녹다운을 성공시키며 승부에 쐐기를 박았다. 프로 데뷔 3년 8개월 만에 UFC에서 8승 1패를 기록하며 세계 정상에 도전할 자격을 얻었다.\\n\\n데이나 화이트 UFC 회장 겸 최고경영자(CEO)는 \"이번 경기의 승자가 타이틀 도전권을 얻을 거라고 말했기 때문에 반이 넘버원 컨텐더\"라며 \"오늘 밤 팬들의 반응은 엄청났다\"며 반의 챔피언 도전을 확정지었다.\\n\\n반(15승 2패)은 옥타곤에 올라와 챔피언 판토자와 마주 섰다. 반은 \"판토자는 훌륭한 챔피언이지만 아직 나와 싸워보진 못했다\"며 도전장을 날렸다. 이에 판토자는 \"반은 타이틀에 도전할 자격이 있다\"며 도전을 수락했다.\\n\\n새로운 도전자를 맞이한 판토자는 다시 도전자 마인드로 불타올랐다. 그는 \"내가 23살일 땐 식당에서 접시를 닦았는데 이 친구는 세계 타이틀에 도전한다\"며 \"그가 가장 어려운 도전자가 될 거라고 생각한다. 그는 젊고 굶주렸다\"고 도전자를 경계했다. 이어 \"나는 더 이상 챔피언이 아니라 도전자\"라며 \"다시 또 한번 이 벨트를 원한다\"고 강조했다.\\n\\n사진=UFC 제공\\n\\n취재문의 sportal@sportalkorea.co.kr'}]"
      ]
     },
     "execution_count": 41,
     "metadata": {},
     "output_type": "execute_result"
    }
   ],
   "source": [
    "news_content_list"
   ]
  },
  {
   "cell_type": "code",
   "execution_count": 42,
   "id": "b54b4a9e",
   "metadata": {},
   "outputs": [
    {
     "data": {
      "text/plain": [
       "{'title': \"'8억원' KCC 허훈·KT 김선형, 프로농구 연봉 킹…LG 두경민·전성현, 연봉 조정 신청\",\n",
       " 'main_text': \"[서울=뉴시스] 김금보 기자 = 부산 KCC 이지스로 이적한 허훈이 29일 서울 강남구 KBL센터에서 열린 입단식에서 이상민 감독에게 유니폼을 받고 있다. 2025.05.29. kgb@newsis.com\\n[서울=뉴시스]김희준 기자 = 프로농구 자유계약선수(FA) 시장을 뜨겁게 달궜던 허훈(부산 KCC)과 김선형(수원 KT)이 나란히 2025~2026시즌 '연봉 킹'에 올랐다.\\n\\nKBL은 30일 2024~2025시즌 국내 선수 등록을 마감한 결과 허훈과 김선형이 보수 총액 8억원으로 1위에 올랐다고 밝혔다.\\n\\n허훈이 보수 1위에 오른 것은 처음이다. 김선형은 2023~2024시즌 이후 두 시즌 만에 보수 1위 자리에 복귀했다.\\n2024~2025시즌까지 KT에서 뛰었던 허훈은 시즌을 마친 뒤 FA가 됐다. FA 시장의 최대어로 손꼽힌 허훈은 KCC와 계약기간 5년, 첫 시즌 보수 총액 8억원(연봉 6억5000만원·인센티브 1억5000만원)에 계약을 맺었다. 형 허웅과도 한솥밥을 먹게 됐다.\\n\\n팀을 2023~2024시즌 준우승, 2024~2025시즌 4강으로 이끈 송영진 전 감독을 해임하면서 대권에 도전하겠다고 외친 KT는 에이스 허훈을 놓친 후 FA 김선형을 영입했다. 계약기간 3년, 첫 시즌 보수 총액 8억원에 사인했다. 서울 SK에서만 뛰던 김선형은 처음으로 팀을 옮겼고, 옛 은사인 문경은 감독과 재회했다.\\n\\nSK의 안영준과 창원 LG의 양홍석이 보수 7억5000만원으로 뒤를 잇는다.\\n\\n[서울=뉴시스] 최동준 기자 = 1일 서울 강남구 KBL센터에서 열린 2024-2025 KCC 프로농구 챔피언결정전 미디어데이에서 서울 SK 김선형이 각오를 밝히고 있다. 2025.05.01. photocdj@newsis.com\\n2024~2025시즌 국내선수 최우수선수(MVP)를 차지한 안영준은 시즌을 마친 뒤 FA가 돼 SK와 계약기간 5년, 첫 시즌 보수 총액 7억5000만원에 재계약했다.\\n\\nLG의 두경민과 전성현은 나란히 보수 조정을 신청했다.\\n\\nLG는 이달 10일 KBL에 두경민의 웨이버 선수 공시를 요청했다. 두경민은 4강 플레이오프 직전 몸 상태, 출전 시간 등을 이유로 코치진과 마찰을 빚었던 것으로 알려졌다.\\n\\n그러나 두경민은 2주 동안 영입의향서를 받지 못했고, 다시 LG 소속이 됐다.\\n\\n갈등의 골이 깊어진 LG 구단과 두경민은 보수 조정에 들어간다. LG는 최소 연봉인 4200만원을 제시했고, 두경민은 1억4000만원을 달라고 요구했다.\\n\\n[서울=뉴시스] 김진아 기자 = 창원 LG 조상현 감독, 전성현, 두경민이 15일 서울 용산구 블루스퀘어에서 열린 2024-2025시즌 프로농구 개막 미디어데이&팬페스트에서 포즈를 취하고 있다. 2024.10.15. bluesoda@newsis.com\\n3억5000만원을 원한 전성현도 2억8000만원을 제시한 LG와 합의점을 찾지 못했다.\\n\\n안영 정관장의 배병준, KCC의 이호현도 소속 구단과 연봉 합의에 실패해 보수 조정에 나섰다.\\n\\n서울 삼성의 이근휘는 지난 시즌 9000만원에서 256% 오른 3억2000만원을 받게 돼 2025~2026시즌 보수 최고 인상률을 기록했다. 2위는 대구 한국가스공사 김국찬으로, 지난 시즌 대비 192%가 오른 3억8000만원에 계약을 마쳤다.\\n\\n샐러리캡(30억원)을 초과한 KT는 소프트캡을 적용받아 초과 금액의 30%인 4236만6600원을 유소년 발전 기금으로 납부한다.\"}"
      ]
     },
     "execution_count": 42,
     "metadata": {},
     "output_type": "execute_result"
    }
   ],
   "source": [
    "news_content_list[0]"
   ]
  },
  {
   "cell_type": "code",
   "execution_count": null,
   "id": "bd234008",
   "metadata": {},
   "outputs": [
    {
     "name": "stdout",
     "output_type": "stream",
     "text": [
      "=== JSON 응답 방식 ===\n",
      "AI 응답:\n",
      "HCX-003 모델은 HyperCLOVA X 시리즈 중 하나이며, 다음과 같은 특징을 가지고 있습니다.\n",
      "\n",
      "1.**고성능**: 최신 CPU와 GPU를 탑재하여 빠른 처리 속도를 제공합니다. 이를 통해 복잡한 작업도 원활하게 수행할 수 있습니다.\n",
      "\n",
      "2.**대용량 메모리**: 8GB 이상의 메모리를 탑재하여 많은 데이터를 저장하고 처리할 수 있습니다.\n",
      "\n",
      "3.**다양한 인터페이스**: USB, HDMI, LAN 등 다양한 인터페이스를 지원하여 다른 기기와의 연결이 용이합니다.\n",
      "\n",
      "4.**높은 보안성**: 보안 기능을 강화하여 개인정보 유출 등의 위험을 최소화하였습니다.\n",
      "\n",
      "5.**사용자 편의성**: 사용자 친화적인 인터페이스를 제공하며, 다양한 소프트웨어를 지원하여 사용자의 업무 효율성을 높였습니다.\n",
      "\n",
      "6.**확장성**: 추가적인 부품을 장착하여 성능을 향상시킬 수 있으며, 다양한 용도로 활용 가능합니다.\n",
      "\n",
      "7.**안정성**: 안정적인 운영체제를 탑재하여 장시간 사용에도 안정적인 성능을 유지합니다.\n",
      "\n",
      "8.**저전력**: 저전력 설계로 전력 소모가 적어 경제적입니다.\n",
      "\n",
      "9.**친환경**: 재활용 가능한 소재를 사용하여 환경 보호에 기여\n",
      "\n",
      "입력 토큰: 29\n",
      "출력 토큰: 257\n",
      "\n",
      "=== 스트리밍 응답 방식 ===\n",
      "AI 응답 (실시간): \n"
     ]
    }
   ],
   "source": [
    "import os\n",
    "import requests\n",
    "import json\n",
    "from dotenv import load_dotenv\n",
    "\n",
    "# .env 파일에서 환경 변수 로드\n",
    "load_dotenv()\n",
    "\n",
    "class HCX003ChatCompletion:\n",
    "    def __init__(self):\n",
    "        # 환경 변수에서 API 정보 가져오기\n",
    "        self.api_key = os.getenv(\"CLOVA_API_KEY\")\n",
    "        self.request_id = os.getenv(\"CLOVA_REQUEST_ID\")\n",
    "        self.base_url = os.getenv(\"CLOVA_BASE_URL\", \"https://clovastudio.stream.ntruss.com\")\n",
    "        \n",
    "        # API 키 검증\n",
    "        if not self.api_key:\n",
    "            raise ValueError(\"CLOVA_API_KEY가 .env 파일에 설정되지 않았습니다.\")\n",
    "        if not self.request_id:\n",
    "            raise ValueError(\"CLOVA_REQUEST_ID가 .env 파일에 설정되지 않았습니다.\")\n",
    "    \n",
    "    def chat_completion(self, messages, **kwargs):\n",
    "        \"\"\"\n",
    "        HCX-003 모델을 사용한 채팅 완성 요청 (JSON 응답)\n",
    "        \"\"\"\n",
    "        url = f\"{self.base_url}/testapp/v1/chat-completions/HCX-003\"\n",
    "        \n",
    "        headers = {\n",
    "            \"Authorization\": f\"Bearer {self.api_key}\",\n",
    "            \"X-NCP-CLOVASTUDIO-REQUEST-ID\": self.request_id,\n",
    "            \"Content-Type\": \"application/json\",\n",
    "            \"Accept\": \"application/json\"  # JSON 응답\n",
    "        }\n",
    "        \n",
    "        # HCX-003 모델 파라미터 설정\n",
    "        data = {\n",
    "            \"messages\": messages,\n",
    "            \"maxTokens\": kwargs.get(\"maxTokens\", 256),\n",
    "            \"temperature\": kwargs.get(\"temperature\", 0.5),\n",
    "            \"topP\": kwargs.get(\"topP\", 0.8),\n",
    "            \"topK\": kwargs.get(\"topK\", 0),\n",
    "            \"repeatPenalty\": kwargs.get(\"repeatPenalty\", 5.0),\n",
    "            \"stopBefore\": kwargs.get(\"stopBefore\", []),\n",
    "            \"includeAiFilters\": kwargs.get(\"includeAiFilters\", True),\n",
    "            \"seed\": kwargs.get(\"seed\", 0)\n",
    "        }\n",
    "        \n",
    "        try:\n",
    "            response = requests.post(url, headers=headers, json=data)\n",
    "            response.raise_for_status()\n",
    "            return response.json()\n",
    "        except requests.exceptions.RequestException as e:\n",
    "            print(f\"API 요청 오류: {e}\")\n",
    "            return None\n",
    "\n",
    "    def stream_chat_completion(self, messages, **kwargs):\n",
    "        \"\"\"\n",
    "        HCX-003 모델을 사용한 스트리밍 채팅 완성\n",
    "        \"\"\"\n",
    "        url = f\"{self.base_url}/testapp/v1/chat-completions/HCX-003\"\n",
    "        \n",
    "        headers = {\n",
    "            \"Authorization\": f\"Bearer {self.api_key}\",\n",
    "            \"X-NCP-CLOVASTUDIO-REQUEST-ID\": self.request_id,\n",
    "            \"Content-Type\": \"application/json\",\n",
    "            \"Accept\": \"text/event-stream\"  # 스트리밍 응답\n",
    "        }\n",
    "        \n",
    "        data = {\n",
    "            \"messages\": messages,\n",
    "            \"maxTokens\": kwargs.get(\"maxTokens\", 256),\n",
    "            \"temperature\": kwargs.get(\"temperature\", 0.5),\n",
    "            \"topP\": kwargs.get(\"topP\", 0.8),\n",
    "            \"topK\": kwargs.get(\"topK\", 0),\n",
    "            \"repeatPenalty\": kwargs.get(\"repeatPenalty\", 5.0),\n",
    "            \"stopBefore\": kwargs.get(\"stopBefore\", []),\n",
    "            \"includeAiFilters\": kwargs.get(\"includeAiFilters\", True),\n",
    "            \"seed\": kwargs.get(\"seed\", 0)\n",
    "        }\n",
    "        \n",
    "        try:\n",
    "            with requests.post(url, headers=headers, json=data, stream=True) as response:\n",
    "                response.raise_for_status()\n",
    "                \n",
    "                for line in response.iter_lines():\n",
    "                    if line:\n",
    "                        line_text = line.decode('utf-8')\n",
    "                        \n",
    "                        # 이벤트 스트림 데이터 파싱\n",
    "                        if line_text.startswith(\"data:\"):\n",
    "                            try:\n",
    "                                data_content = line_text[5:].strip()\n",
    "                                if data_content and data_content != \"[DONE]\":\n",
    "                                    event_data = json.loads(data_content)\n",
    "                                    \n",
    "                                    # 토큰 이벤트 처리\n",
    "                                    if 'token' in event_data:\n",
    "                                        print(event_data['token'], end='', flush=True)\n",
    "                                    # 결과 이벤트 처리\n",
    "                                    elif 'message' in event_data:\n",
    "                                        return event_data\n",
    "                                        \n",
    "                            except json.JSONDecodeError:\n",
    "                                continue\n",
    "                                \n",
    "        except requests.exceptions.RequestException as e:\n",
    "            print(f\"스트리밍 요청 오류: {e}\")\n",
    "            return None\n",
    "\n",
    "# 사용 예시\n",
    "if __name__ == \"__main__\":\n",
    "    try:\n",
    "        # HCX-003 채팅 완성 객체 생성\n",
    "        chat_client = HCX003ChatCompletion()\n",
    "        \n",
    "        # 대화 메시지 구성\n",
    "        messages = [\n",
    "            {\"role\": \"system\", \"content\": \"당신은 도움이 되는 AI 어시스턴트입니다.\"},\n",
    "            {\"role\": \"user\", \"content\": \"HyperCLOVA X의 HCX-003 모델에 대해 설명해주세요.\"}\n",
    "        ]\n",
    "        \n",
    "        print(\"=== JSON 응답 방식 ===\")\n",
    "        # JSON 응답으로 API 호출\n",
    "        result = chat_client.chat_completion(\n",
    "            messages=messages,\n",
    "            maxTokens=256,\n",
    "            temperature=0.5,\n",
    "            topP=0.8,\n",
    "            repeatPenalty=5.0\n",
    "        )\n",
    "        \n",
    "        if result and 'result' in result:\n",
    "            assistant_reply = result['result']['message']['content']\n",
    "            print(\"AI 응답:\")\n",
    "            print(assistant_reply)\n",
    "            print(f\"\\n입력 토큰: {result['result']['inputLength']}\")\n",
    "            print(f\"출력 토큰: {result['result']['outputLength']}\")\n",
    "        \n",
    "        print(\"\\n=== 스트리밍 응답 방식 ===\")\n",
    "        print(\"AI 응답 (실시간): \", end='')\n",
    "        # 스트리밍 응답으로 API 호출\n",
    "        stream_result = chat_client.stream_chat_completion(\n",
    "            messages=messages,\n",
    "            maxTokens=256,\n",
    "            temperature=0.7\n",
    "        )\n",
    "        print()  # 줄바꿈\n",
    "        \n",
    "    except ValueError as e:\n",
    "        print(f\"설정 오류: {e}\")\n",
    "        print(\"'.env' 파일에 CLOVA_API_KEY와 CLOVA_REQUEST_ID를 설정해주세요.\")\n"
   ]
  },
  {
   "cell_type": "code",
   "execution_count": 47,
   "id": "8d956c9a",
   "metadata": {},
   "outputs": [
    {
     "name": "stdout",
     "output_type": "stream",
     "text": [
      "{'status': {'code': '20000', 'message': 'OK'}, 'result': {'message': {'role': 'assistant', 'content': '네, 안녕하세요! 무엇을 도와드릴까요?'}, 'inputLength': 5, 'outputLength': 13, 'stopReason': 'stop_before', 'seed': 627113234}}\n"
     ]
    }
   ],
   "source": [
    "import os\n",
    "import requests\n",
    "from dotenv import load_dotenv\n",
    "\n",
    "load_dotenv()\n",
    "\n",
    "def chat_hcx003(message):\n",
    "    url = \"https://clovastudio.stream.ntruss.com/testapp/v1/chat-completions/HCX-003\"\n",
    "    \n",
    "    headers = {\n",
    "        \"Authorization\": f\"Bearer {os.getenv('CLOVA_API_KEY')}\",\n",
    "        \"X-NCP-CLOVASTUDIO-REQUEST-ID\": os.getenv('CLOVA_REQUEST_ID'),\n",
    "        \"Content-Type\": \"application/json\"\n",
    "    }\n",
    "    \n",
    "    data = {\n",
    "        \"messages\": [{\"role\": \"user\", \"content\": message}],\n",
    "        \"maxTokens\": 100,\n",
    "        \"temperature\": 0.5\n",
    "    }\n",
    "    \n",
    "    response = requests.post(url, headers=headers, json=data)\n",
    "    return response.json()\n",
    "\n",
    "# 사용\n",
    "if __name__ == \"__main__\":\n",
    "    answer = chat_hcx003(\"안녕하세요!\")\n",
    "    print(answer)\n"
   ]
  },
  {
   "cell_type": "code",
   "execution_count": 48,
   "id": "ae80c9ef",
   "metadata": {},
   "outputs": [
    {
     "data": {
      "text/plain": [
       "\"'8억원' KCC 허훈·KT 김선형, 프로농구 연봉 킹…LG 두경민·전성현, 연봉 조정 신청\""
      ]
     },
     "execution_count": 48,
     "metadata": {},
     "output_type": "execute_result"
    }
   ],
   "source": [
    "news_content_list[0]['title']"
   ]
  },
  {
   "cell_type": "code",
   "execution_count": 49,
   "id": "5cf24c0d",
   "metadata": {},
   "outputs": [
    {
     "data": {
      "text/plain": [
       "\"[서울=뉴시스] 김금보 기자 = 부산 KCC 이지스로 이적한 허훈이 29일 서울 강남구 KBL센터에서 열린 입단식에서 이상민 감독에게 유니폼을 받고 있다. 2025.05.29. kgb@newsis.com\\n[서울=뉴시스]김희준 기자 = 프로농구 자유계약선수(FA) 시장을 뜨겁게 달궜던 허훈(부산 KCC)과 김선형(수원 KT)이 나란히 2025~2026시즌 '연봉 킹'에 올랐다.\\n\\nKBL은 30일 2024~2025시즌 국내 선수 등록을 마감한 결과 허훈과 김선형이 보수 총액 8억원으로 1위에 올랐다고 밝혔다.\\n\\n허훈이 보수 1위에 오른 것은 처음이다. 김선형은 2023~2024시즌 이후 두 시즌 만에 보수 1위 자리에 복귀했다.\\n2024~2025시즌까지 KT에서 뛰었던 허훈은 시즌을 마친 뒤 FA가 됐다. FA 시장의 최대어로 손꼽힌 허훈은 KCC와 계약기간 5년, 첫 시즌 보수 총액 8억원(연봉 6억5000만원·인센티브 1억5000만원)에 계약을 맺었다. 형 허웅과도 한솥밥을 먹게 됐다.\\n\\n팀을 2023~2024시즌 준우승, 2024~2025시즌 4강으로 이끈 송영진 전 감독을 해임하면서 대권에 도전하겠다고 외친 KT는 에이스 허훈을 놓친 후 FA 김선형을 영입했다. 계약기간 3년, 첫 시즌 보수 총액 8억원에 사인했다. 서울 SK에서만 뛰던 김선형은 처음으로 팀을 옮겼고, 옛 은사인 문경은 감독과 재회했다.\\n\\nSK의 안영준과 창원 LG의 양홍석이 보수 7억5000만원으로 뒤를 잇는다.\\n\\n[서울=뉴시스] 최동준 기자 = 1일 서울 강남구 KBL센터에서 열린 2024-2025 KCC 프로농구 챔피언결정전 미디어데이에서 서울 SK 김선형이 각오를 밝히고 있다. 2025.05.01. photocdj@newsis.com\\n2024~2025시즌 국내선수 최우수선수(MVP)를 차지한 안영준은 시즌을 마친 뒤 FA가 돼 SK와 계약기간 5년, 첫 시즌 보수 총액 7억5000만원에 재계약했다.\\n\\nLG의 두경민과 전성현은 나란히 보수 조정을 신청했다.\\n\\nLG는 이달 10일 KBL에 두경민의 웨이버 선수 공시를 요청했다. 두경민은 4강 플레이오프 직전 몸 상태, 출전 시간 등을 이유로 코치진과 마찰을 빚었던 것으로 알려졌다.\\n\\n그러나 두경민은 2주 동안 영입의향서를 받지 못했고, 다시 LG 소속이 됐다.\\n\\n갈등의 골이 깊어진 LG 구단과 두경민은 보수 조정에 들어간다. LG는 최소 연봉인 4200만원을 제시했고, 두경민은 1억4000만원을 달라고 요구했다.\\n\\n[서울=뉴시스] 김진아 기자 = 창원 LG 조상현 감독, 전성현, 두경민이 15일 서울 용산구 블루스퀘어에서 열린 2024-2025시즌 프로농구 개막 미디어데이&팬페스트에서 포즈를 취하고 있다. 2024.10.15. bluesoda@newsis.com\\n3억5000만원을 원한 전성현도 2억8000만원을 제시한 LG와 합의점을 찾지 못했다.\\n\\n안영 정관장의 배병준, KCC의 이호현도 소속 구단과 연봉 합의에 실패해 보수 조정에 나섰다.\\n\\n서울 삼성의 이근휘는 지난 시즌 9000만원에서 256% 오른 3억2000만원을 받게 돼 2025~2026시즌 보수 최고 인상률을 기록했다. 2위는 대구 한국가스공사 김국찬으로, 지난 시즌 대비 192%가 오른 3억8000만원에 계약을 마쳤다.\\n\\n샐러리캡(30억원)을 초과한 KT는 소프트캡을 적용받아 초과 금액의 30%인 4236만6600원을 유소년 발전 기금으로 납부한다.\""
      ]
     },
     "execution_count": 49,
     "metadata": {},
     "output_type": "execute_result"
    }
   ],
   "source": [
    "news_content_list[0]['main_text']"
   ]
  },
  {
   "cell_type": "code",
   "execution_count": 51,
   "id": "4c07ae2f",
   "metadata": {},
   "outputs": [
    {
     "data": {
      "text/plain": [
       "{'title': \"'8억원' KCC 허훈·KT 김선형, 프로농구 연봉 킹…LG 두경민·전성현, 연봉 조정 신청\",\n",
       " 'main_text': \"[서울=뉴시스] 김금보 기자 = 부산 KCC 이지스로 이적한 허훈이 29일 서울 강남구 KBL센터에서 열린 입단식에서 이상민 감독에게 유니폼을 받고 있다. 2025.05.29. kgb@newsis.com\\n[서울=뉴시스]김희준 기자 = 프로농구 자유계약선수(FA) 시장을 뜨겁게 달궜던 허훈(부산 KCC)과 김선형(수원 KT)이 나란히 2025~2026시즌 '연봉 킹'에 올랐다.\\n\\nKBL은 30일 2024~2025시즌 국내 선수 등록을 마감한 결과 허훈과 김선형이 보수 총액 8억원으로 1위에 올랐다고 밝혔다.\\n\\n허훈이 보수 1위에 오른 것은 처음이다. 김선형은 2023~2024시즌 이후 두 시즌 만에 보수 1위 자리에 복귀했다.\\n2024~2025시즌까지 KT에서 뛰었던 허훈은 시즌을 마친 뒤 FA가 됐다. FA 시장의 최대어로 손꼽힌 허훈은 KCC와 계약기간 5년, 첫 시즌 보수 총액 8억원(연봉 6억5000만원·인센티브 1억5000만원)에 계약을 맺었다. 형 허웅과도 한솥밥을 먹게 됐다.\\n\\n팀을 2023~2024시즌 준우승, 2024~2025시즌 4강으로 이끈 송영진 전 감독을 해임하면서 대권에 도전하겠다고 외친 KT는 에이스 허훈을 놓친 후 FA 김선형을 영입했다. 계약기간 3년, 첫 시즌 보수 총액 8억원에 사인했다. 서울 SK에서만 뛰던 김선형은 처음으로 팀을 옮겼고, 옛 은사인 문경은 감독과 재회했다.\\n\\nSK의 안영준과 창원 LG의 양홍석이 보수 7억5000만원으로 뒤를 잇는다.\\n\\n[서울=뉴시스] 최동준 기자 = 1일 서울 강남구 KBL센터에서 열린 2024-2025 KCC 프로농구 챔피언결정전 미디어데이에서 서울 SK 김선형이 각오를 밝히고 있다. 2025.05.01. photocdj@newsis.com\\n2024~2025시즌 국내선수 최우수선수(MVP)를 차지한 안영준은 시즌을 마친 뒤 FA가 돼 SK와 계약기간 5년, 첫 시즌 보수 총액 7억5000만원에 재계약했다.\\n\\nLG의 두경민과 전성현은 나란히 보수 조정을 신청했다.\\n\\nLG는 이달 10일 KBL에 두경민의 웨이버 선수 공시를 요청했다. 두경민은 4강 플레이오프 직전 몸 상태, 출전 시간 등을 이유로 코치진과 마찰을 빚었던 것으로 알려졌다.\\n\\n그러나 두경민은 2주 동안 영입의향서를 받지 못했고, 다시 LG 소속이 됐다.\\n\\n갈등의 골이 깊어진 LG 구단과 두경민은 보수 조정에 들어간다. LG는 최소 연봉인 4200만원을 제시했고, 두경민은 1억4000만원을 달라고 요구했다.\\n\\n[서울=뉴시스] 김진아 기자 = 창원 LG 조상현 감독, 전성현, 두경민이 15일 서울 용산구 블루스퀘어에서 열린 2024-2025시즌 프로농구 개막 미디어데이&팬페스트에서 포즈를 취하고 있다. 2024.10.15. bluesoda@newsis.com\\n3억5000만원을 원한 전성현도 2억8000만원을 제시한 LG와 합의점을 찾지 못했다.\\n\\n안영 정관장의 배병준, KCC의 이호현도 소속 구단과 연봉 합의에 실패해 보수 조정에 나섰다.\\n\\n서울 삼성의 이근휘는 지난 시즌 9000만원에서 256% 오른 3억2000만원을 받게 돼 2025~2026시즌 보수 최고 인상률을 기록했다. 2위는 대구 한국가스공사 김국찬으로, 지난 시즌 대비 192%가 오른 3억8000만원에 계약을 마쳤다.\\n\\n샐러리캡(30억원)을 초과한 KT는 소프트캡을 적용받아 초과 금액의 30%인 4236만6600원을 유소년 발전 기금으로 납부한다.\"}"
      ]
     },
     "execution_count": 51,
     "metadata": {},
     "output_type": "execute_result"
    }
   ],
   "source": [
    "news_content_list[0]"
   ]
  },
  {
   "cell_type": "code",
   "execution_count": 68,
   "id": "48ab0fbf",
   "metadata": {},
   "outputs": [],
   "source": [
    "url = \"https://clovastudio.stream.ntruss.com/testapp/v1/chat-completions/HCX-003\"\n",
    "    \n",
    "headers = {\n",
    "    \"Authorization\": f\"Bearer {os.getenv('CLOVA_API_KEY')}\",\n",
    "    \"X-NCP-CLOVASTUDIO-REQUEST-ID\": os.getenv('CLOVA_REQUEST_ID'),\n",
    "    \"Content-Type\": \"application/json\"\n",
    "}\n",
    "\n",
    "data = {\n",
    "    \"messages\": [{\"role\": \"user\", \"content\": '''\n",
    "                  아래 뉴스 내용을 읽고, 핵심내용을 파악하여 2줄 정도로 요약해주세요. 그리고 이 뉴스기사를 통해 후속 기사는 어떤 내용일지 추론해 알려주세요.\n",
    "                  뉴스 제목 : {}\n",
    "                  뉴스 본문 : {}'''.format(news_content_list[0]['title'], news_content_list[0]['main_text'])}],\n",
    "    \"maxTokens\": 1000\n",
    "}\n",
    "\n",
    "response = requests.post(url, headers=headers, json=data)"
   ]
  },
  {
   "cell_type": "code",
   "execution_count": 69,
   "id": "d40c1419",
   "metadata": {},
   "outputs": [
    {
     "name": "stdout",
     "output_type": "stream",
     "text": [
      "요약: 프로농구 FA 최대어였던 허훈과 김선형이 각각 부산 KCC와 수원 KT로 이적하며 연봉킹에 올랐고, LG의 두경민과 전성현은 연봉 조정 신청을 했다.\n",
      "후속 기사 예상: 연봉 조정 신청을 한 선수들의 협상 결과와 함께, 새로운 팀에서 활약하게 될 허훈과 김선형의 성적에 대한 기대와 전망이 다뤄질 것으로 예상된다. 또한, 다음 시즌 프로농구의 판도 변화와 우승 후보에 대한 예측도 함께 이루어질 것이다.\n"
     ]
    }
   ],
   "source": [
    "print(response.json()['result']['message']['content'])"
   ]
  },
  {
   "cell_type": "code",
   "execution_count": null,
   "id": "3309da17",
   "metadata": {},
   "outputs": [],
   "source": [
    "import gspread\n",
    "\n"
   ]
  }
 ],
 "metadata": {
  "kernelspec": {
   "display_name": "Python 3",
   "language": "python",
   "name": "python3"
  },
  "language_info": {
   "codemirror_mode": {
    "name": "ipython",
    "version": 3
   },
   "file_extension": ".py",
   "mimetype": "text/x-python",
   "name": "python",
   "nbconvert_exporter": "python",
   "pygments_lexer": "ipython3",
   "version": "3.11.2"
  }
 },
 "nbformat": 4,
 "nbformat_minor": 5
}
