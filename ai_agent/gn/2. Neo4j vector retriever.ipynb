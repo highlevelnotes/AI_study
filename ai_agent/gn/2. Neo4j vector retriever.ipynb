{
 "cells": [
  {
   "cell_type": "code",
   "execution_count": 8,
   "id": "3ecec973",
   "metadata": {},
   "outputs": [
    {
     "data": {
      "text/plain": [
       "{'status': {'code': '20000', 'message': 'OK'},\n",
       " 'result': {'message': {'role': 'assistant', 'content': '안녕하세요! 무엇을 도와드릴까요?'},\n",
       "  'inputLength': 4,\n",
       "  'outputLength': 11,\n",
       "  'stopReason': 'stop_before',\n",
       "  'seed': 2817813868}}"
      ]
     },
     "execution_count": 8,
     "metadata": {},
     "output_type": "execute_result"
    }
   ],
   "source": [
    "import os\n",
    "import requests\n",
    "from dotenv import load_dotenv\n",
    "\n",
    "load_dotenv()\n",
    "\n",
    "url = \"https://clovastudio.stream.ntruss.com/testapp/v1/chat-completions/HCX-003\"\n",
    "    \n",
    "headers = {\n",
    "    \"Authorization\": f\"Bearer {os.getenv('CLOVA_API_KEY')}\",\n",
    "    \"X-NCP-CLOVASTUDIO-REQUEST-ID\": os.getenv('CLOVA_REQUEST_ID'),\n",
    "    \"Content-Type\": \"application/json\"\n",
    "}\n",
    "\n",
    "data = {\n",
    "    \"messages\": [{\"role\": \"user\", \"content\": '안녕?'}],\n",
    "    \"maxTokens\": 1000\n",
    "}\n",
    "\n",
    "response = requests.post(url, headers=headers, json=data)\n",
    "response.json()"
   ]
  },
  {
   "cell_type": "code",
   "execution_count": null,
   "id": "3396d4e8",
   "metadata": {},
   "outputs": [
    {
     "data": {
      "text/plain": [
       "{'status': {'code': '20000', 'message': 'OK'},\n",
       " 'result': {'message': {'role': 'assistant',\n",
       "   'content': '안녕하세요! 저는 CLOVA X입니다. 무엇을 도와드릴까요?'},\n",
       "  'inputLength': 4,\n",
       "  'outputLength': 18,\n",
       "  'stopReason': 'stop_before',\n",
       "  'seed': 937992512}}"
      ]
     },
     "execution_count": 7,
     "metadata": {},
     "output_type": "execute_result"
    }
   ],
   "source": []
  },
  {
   "cell_type": "code",
   "execution_count": null,
   "id": "2ecc0fb1",
   "metadata": {},
   "outputs": [],
   "source": []
  }
 ],
 "metadata": {
  "kernelspec": {
   "display_name": "Python 3",
   "language": "python",
   "name": "python3"
  },
  "language_info": {
   "codemirror_mode": {
    "name": "ipython",
    "version": 3
   },
   "file_extension": ".py",
   "mimetype": "text/x-python",
   "name": "python",
   "nbconvert_exporter": "python",
   "pygments_lexer": "ipython3",
   "version": "3.11.2"
  }
 },
 "nbformat": 4,
 "nbformat_minor": 5
}
