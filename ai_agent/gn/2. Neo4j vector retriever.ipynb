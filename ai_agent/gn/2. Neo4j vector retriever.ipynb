{
 "cells": [
  {
   "cell_type": "code",
   "execution_count": 14,
   "id": "3ecec973",
   "metadata": {},
   "outputs": [
    {
     "data": {
      "text/plain": [
       "{'status': {'code': '20000', 'message': 'OK'},\n",
       " 'result': {'message': {'role': 'assistant',\n",
       "   'content': '안녕하세요! 저는 CLOVA X입니다. 무엇을 도와드릴까요?'},\n",
       "  'inputLength': 4,\n",
       "  'outputLength': 18,\n",
       "  'stopReason': 'stop_before',\n",
       "  'seed': 3098191684}}"
      ]
     },
     "execution_count": 14,
     "metadata": {},
     "output_type": "execute_result"
    }
   ],
   "source": [
    "import os\n",
    "import requests\n",
    "from dotenv import load_dotenv\n",
    "\n",
    "load_dotenv()\n",
    "\n",
    "url = \"https://clovastudio.stream.ntruss.com/testapp/v1/chat-completions/HCX-003\"\n",
    "    \n",
    "headers = {\n",
    "    \"Authorization\": f\"Bearer {os.getenv('CLOVA_API_KEY')}\",\n",
    "    \"Content-Type\": \"application/json\"\n",
    "}\n",
    "\n",
    "data = {\n",
    "    \"messages\": [{\"role\": \"user\", \"content\": '안녕?'}],\n",
    "    \"maxTokens\": 1000\n",
    "}\n",
    "\n",
    "response = requests.post(url, headers=headers, json=data)\n",
    "response.json()"
   ]
  },
  {
   "cell_type": "code",
   "execution_count": null,
   "id": "3396d4e8",
   "metadata": {},
   "outputs": [],
   "source": [
    "from neo4j import GraphDatabase, basic_auth\n",
    "from dotenv import load_dotenv\n",
    "\n",
    "load_dotenv()\n",
    "\n",
    "driver = GraphDatabase.driver(\n",
    "  os.getenv('neo4j_url'),\n",
    "  auth=basic_auth(\"neo4j\", os.getenv('neo4j_name')))"
   ]
  },
  {
   "cell_type": "code",
   "execution_count": 12,
   "id": "2ecc0fb1",
   "metadata": {},
   "outputs": [
    {
     "name": "stdout",
     "output_type": "stream",
     "text": [
      "Mr. Holland's Opus\n",
      "Apollo 13\n",
      "Dead Man Walking\n",
      "Seven (a.k.a. Se7en)\n",
      "Heat\n",
      "Get Shorty\n",
      "Fugitive, The\n",
      "Dave\n",
      "Addams Family Values\n",
      "True Lies\n",
      "Speed\n",
      "Lion King, The\n",
      "Four Weddings and a Funeral\n",
      "Forrest Gump\n",
      "Star Trek: Generations\n",
      "Shawshank Redemption, The\n",
      "Stargate\n",
      "Pulp Fiction\n",
      "Outbreak\n",
      "Miracle on 34th Street\n"
     ]
    }
   ],
   "source": [
    "cypher_query = '''\n",
    "MATCH (m: Movie {title:$movie})<-[:RATED]-(u:User)-[:RATED]->(rec:Movie)\n",
    "RETURN distinct rec.title AS recommendation LIMIT 20\n",
    "'''\n",
    "\n",
    "with driver.session(database='neo4j') as session:\n",
    "  results = session.execute_read(\n",
    "    lambda tx: tx.run(cypher_query, movie='Crimson Tide').data()\n",
    "  )\n",
    "\n",
    "  for record in results:\n",
    "    print(record['recommendation'])"
   ]
  },
  {
   "cell_type": "code",
   "execution_count": null,
   "id": "92a28a11",
   "metadata": {},
   "outputs": [
    {
     "name": "stdout",
     "output_type": "stream",
     "text": [
      "200\n",
      "[-0.1694336, -0.92089844, 0.20996094, -0.05706787, -0.7832031, -0.9213867, 1.0683594, -0.36450195, 0.11254883, -0.7182617, 0.7675781, -0.21154785, 0.18383789, 0.36669922, -0.44702148, 0.5209961, -0.18762207, 0.20141602, -0.4794922, 0.19226074, -0.43115234, -0.3894043, -0.7011719, 0.2956543, -0.9506836, 0.036895752, -0.31933594, -0.69189453, -0.45166016, 0.14611816, -0.44091797, 0.5488281, 0.6152344, -0.3491211, 0.09881592, -1.0791016, 0.3100586, -0.44702148, -0.8901367, 0.8022461, 0.42822266, 0.38623047, -0.7524414, 0.09442139, 0.60839844, -0.6357422, -0.27148438, -0.28051758, -0.38793945, 0.51123047, -0.13024902, -0.9873047, 0.5834961, 0.057495117, 0.019989014, -0.5214844, -0.7246094, -1.5107422, -0.6333008, -0.40625, -0.6557617, 0.89404297, -0.09460449, 0.69140625, -0.5996094, 1.3525391, -0.6464844, 1.4628906, -0.5761719, -1.09375, 0.19348145, 0.6347656, 0.78222656, 0.19628906, -1.2207031, -0.8808594, 0.515625, 0.00049829483, -0.5595703, 0.30541992, -0.20788574, -0.6738281, 0.19177246, 0.34960938, 0.41479492, 0.94433594, 0.16711426, 0.62939453, -0.0063323975, 0.26489258, 0.10595703, 0.3046875, -0.7861328, -1.7509766, -1.6650391, -0.026733398, -0.9536133, 0.07696533, -1.6591797, 0.3881836, -0.1394043, 0.5097656, 1.2001953, 0.058563232, 0.33520508, -1.4492188, 0.64160156, 1.0546875, -0.3232422, -0.14355469, 0.15930176, 0.2454834, -0.18383789, -0.030670166, -0.2722168, -0.7011719, -0.53027344, -0.75390625, 1.6728516, -0.6591797, 0.8881836, 0.6796875, 0.7998047, -0.23425293, -1.1816406, -0.9082031, -0.7763672, -0.26489258, 0.9472656, -0.2619629, 0.087890625, 1.7333984, -0.86328125, -0.60009766, -0.101379395, -2.6210938, -1.1220703, 1.3417969, -1.4951172, -1.1728516, 1.4638672, 0.48583984, -0.44970703, -0.5786133, 0.11645508, -0.89404297, 0.7973633, 0.08502197, 0.27124023, -1.6201172, -0.7109375, 0.8930664, 0.52685547, 1.6455078, -0.2927246, -0.7885742, -0.75439453, 0.6850586, -0.39648438, -0.61816406, 0.38476562, -1.2851562, 0.59765625, -0.04562378, 1.4052734, 0.6557617, 0.26171875, 2.1074219, 0.04333496, -1.1865234, 1.1845703, -0.7895508, -1.0117188, -0.52685547, 0.42358398, -0.8105469, 0.6689453, 0.9248047, 1.2304688, -1.4384766, -0.67041016, -0.0070228577, 0.13439941, -0.17443848, -1.0976562, -0.3466797, 1.7519531, -1.1240234, 0.4880371, 0.68115234, 0.86376953, -0.41845703, 0.29125977, -0.8198242, 1.4511719, 0.25561523, -0.059326172, -0.7246094, -0.4909668, -0.46264648, -0.515625, 1.453125, -0.015853882, -1.953125, -0.9707031, -0.22363281, -1.1455078, -1.0810547, -0.56347656, -0.27368164, 0.4765625, 0.8613281, 0.9165039, -0.0149383545, -1.5751953, 0.9536133, 0.8222656, -0.99609375, 0.17468262, -2.03125, 0.32348633, 1.5947266, 0.69189453, 0.37329102, 0.56689453, -0.47509766, 0.27368164, 1.2734375, -0.4777832, 0.20043945, -1.0234375, 0.18273926, -0.12585449, -0.26586914, 1.5341797, -0.6948242, -1.0966797, 0.2697754, -0.2746582, 0.9682617, -0.64501953, -0.28564453, 0.32958984, -0.63378906, -1.1328125, 1.1523438, 0.20678711, 0.8378906, -0.6479492, 1.3173828, 0.06488037, 0.033996582, -0.42260742, -0.0020446777, -0.2548828, -0.119262695, 0.43896484, -0.19946289, -0.72509766, -0.08074951, 0.24304199, -0.29956055, 1.2138672, 0.3083496, 0.55615234, 0.8925781, 1.0117188, -0.8413086, -0.018844604, 0.7060547, -0.39404297, 0.20629883, 1.4931641, -0.13769531, -1.1113281, 0.20739746, -1.0917969, -0.23022461, 1.9716797, 1.1767578, 0.20422363, 0.4416504, 0.0025596619, -1.7089844, 0.38232422, -0.23413086, -1.2216797, -0.35253906, -0.6870117, 0.30200195, -1.0556641, 0.45751953, 0.796875, 0.07720947, -0.49121094, 0.43774414, -1.0449219, -3.5566406, 0.7236328, 0.2919922, -0.7290039, -0.53271484, -0.72509766, 0.22131348, 0.3112793, -0.5107422, 1.5371094, 0.37695312, -0.8442383, 0.4248047, -1.1445312, 0.74365234, 0.6899414, 0.01651001, -0.19396973, 0.6635742, -0.38891602, -0.15246582, -0.64990234, 0.25195312, -0.28686523, 0.035736084, -0.6669922, -0.4243164, -0.1550293, -0.85546875, -0.9453125, 0.4074707, 0.59521484, 0.22277832, 0.1895752, 0.118774414, 0.69970703, 0.021636963, 0.6069336, -1.7851562, 0.40039062, 1.5625, 0.1829834, -0.17224121, 1.9462891, -0.21765137, 0.11975098, 1.9082031, 1.1835938, 1.2353516, -0.88671875, 1.3320312, 0.07940674, 0.51416016, -0.9458008, -0.7895508, 0.08081055, 0.30517578, 0.3564453, 0.20349121, -0.37841797, 0.5361328, -0.6845703, 1.4472656, -0.040039062, -1.0703125, 0.19396973, 1.8046875, -0.29882812, 0.22912598, -0.93359375, 0.95751953, -0.6772461, -0.44189453, -1.0576172, 0.48461914, 0.8041992, -0.10723877, -0.5136719, 0.3635254, -2.6464844, -0.41235352, 0.6503906, 0.8647461, 0.8964844, -0.08276367, 0.0075416565, -0.103881836, 0.53808594, 2.2265625, 6.0703125, 1.8466797, -0.042022705, -0.76660156, 1.2998047, 0.9140625, 1.1103516, 0.34936523, 0.5048828, -0.5732422, 1.7119141, 1.0175781, 0.5214844, 1.2773438, -1.3554688, 0.52197266, -0.33007812, -0.8808594, 0.9916992, -2.3828125, -0.8105469, -1.0585938, -0.4753418, -0.24414062, -1.296875, -0.41064453, 0.77490234, 0.9663086, 0.01158905, 1.7265625, 0.3227539, 0.72753906, -0.08917236, 0.106933594, -0.26953125, -0.3930664, -0.3173828, -0.56884766, -0.62402344, 0.031143188, -1.9228516, 0.08996582, -1.046875, 1.8945312, 0.048034668, -1.2050781, -0.11102295, 0.47827148, 0.19934082, -0.45263672, -0.67626953, -0.35742188, -0.10748291, 1.5449219, 0.22973633, -0.5620117, -0.55078125, 0.25439453, 0.7290039, 0.06048584, 0.19946289, 0.29125977, -1.4707031, 0.7504883, -1.2177734, 1.3193359, 1.0195312, -1.4824219, 0.9868164, 0.014976501, -0.07775879, 0.2890625, -0.00894928, -0.2019043, 0.07305908, -0.41186523, -0.28735352, 1.2041016, -0.33203125, 1.5517578, 0.64160156, -0.8828125, -1.2304688, 0.33544922, 0.6142578, -0.71972656, 0.8051758, 0.7524414, -1.2226562, -0.4013672, -1.0292969, 0.26879883, -0.26831055, -0.53515625, -1.4833984, 1.0380859, -0.0058250427, -0.24938965, -1.6855469, 0.3725586, 1.2402344, 0.61376953, -0.23950195, -1.0830078, -0.7885742, -1.7021484, 0.8027344, -0.30737305, -0.88671875, -0.5625, 0.016601562, -0.19836426, -0.7524414, -0.69873047, -0.4807129, 0.5991211, -0.024597168, 0.35424805, 1.2353516, 0.921875, -0.17651367, 0.69970703, -1.2285156, 1.1806641, -0.4729004, -0.97314453, 0.010681152, 1.3945312, -0.84472656, 0.78222656, 0.828125, -0.52734375, -0.15344238, 0.5517578, -0.5024414, 0.5961914, -1.203125, 0.75341797, -0.2644043, -0.8745117, -1.75, -0.7519531, 0.18237305, 1.0078125, 0.70996094, -1.0117188, -0.5019531, -0.28833008, 0.016082764, 0.46362305, -1.3183594, 0.19299316, -0.9145508, -0.7553711, -0.6245117, -2.1582031, -0.92578125, 0.66748047, -0.55859375, -0.7363281, -0.16918945, 0.38183594, 0.4711914, 1.4023438, -0.921875, -0.097473145, 0.101623535, 1.0761719, -0.22949219, 0.1887207, 0.1862793, 0.3388672, -0.7763672, 0.66308594, 0.011230469, -0.42919922, 0.62109375, -0.84716797, 0.21728516, 0.1640625, 0.12561035, -0.2199707, 0.34301758, -1.1376953, -0.26953125, 1.3388672, 0.6269531, -0.86376953, -0.2253418, -0.46044922, -0.7324219, 1.8691406, -0.114746094, -0.064575195, 0.45947266, -1.15625, 0.6948242, -0.22131348, 0.029174805, -1.0087891, -0.29907227, 0.99609375, -1.2070312, 1.6044922, -1.7548828, -0.37158203, -0.21447754, -0.8364258, 0.61572266, -0.56689453, -1.0332031, -0.97265625, -0.8413086, -0.16052246, 0.8129883, -0.08862305, -0.31518555, -0.29125977, -0.1315918, -0.75634766, 1.4941406, 0.0925293, 0.79541016, -1.2265625, -0.087768555, 0.55322266, 0.34423828, -0.23291016, 0.006362915, 0.73046875, -0.07543945, -0.20336914, -1.4296875, -0.8652344, 1.2441406, 0.67333984, 0.00655365, 0.9003906, 0.09832764, -0.21765137, -0.07910156, 0.28442383, 0.8857422, 2.0761719, -0.5283203, 0.18823242, -1.1679688, -0.32226562, 1.5322266, 0.037139893, 0.78027344, 0.29345703, -0.52197266, -0.7055664, -0.35498047, -0.50146484, 0.15551758, -0.16247559, -0.71240234, -1.453125, 0.08215332, -0.50878906, -0.8183594, 0.97998047, 0.44628906, -1.4824219, 0.5102539, -0.0007829666, -0.625, -1.1259766, 0.05218506, -0.44628906, -0.5649414, -0.06512451, 2.1640625, 0.3137207, -0.23352051, 0.53515625, -0.028442383, 1.1171875, -0.30932617, 1.6279297, 0.62402344, -0.19396973, -0.035827637, -0.1529541, 1.5810547, 0.2788086, -0.73339844, -1.9296875, 0.4921875, 0.23864746, -0.3552246, 0.98583984, 0.5029297, 0.5830078, 0.7578125, 0.6748047, -0.4892578, 0.31567383, -0.8989258, 0.9765625, -0.4975586, 0.3618164, 0.5317383, -0.56933594, -0.056518555, -0.38964844, 0.30517578, -0.028839111, -0.50634766, -0.07495117, -0.47583008, 0.93359375, 0.28149414, 0.31689453, 1.0673828, -0.24865723, 0.25439453, 0.85839844, -0.8955078, -0.19152832, -0.5527344, 0.49169922, 0.9995117, 0.80078125, -0.5776367, 0.49609375, -0.31640625, -1.0800781, -0.7524414, -0.50634766, -0.15209961, 0.3461914, 0.28076172, -0.59814453, 0.38427734, 0.5878906, -0.2993164, 0.7060547, 1.9960938, -0.3149414, 0.58251953, -0.5004883, 0.4897461, -0.28515625, -0.9589844, -0.6152344, 0.9584961, -0.37524414, 0.10522461, 0.17150879, -0.8496094, -0.24804688, 0.515625, 0.79833984, -1.0361328, 1.3095703, 1.0800781, 0.04348755, -1.0791016, -0.7631836, -0.35083008, 0.46899414, 0.7011719, -0.7524414, -0.69433594, -1.0849609, 0.77490234, -0.78515625, -0.703125, 0.60302734, -0.23510742, -0.03756714, -1.4052734, 1.3701172, -0.86279297, -1.4521484, 0.78222656, 0.7163086, 0.98291016, -0.23217773, 0.46264648, -0.7885742, 1.5, -0.5522461, -0.42163086, -0.97265625, 0.72753906, 1.0751953, -0.24145508, 0.10321045, 0.12023926, 0.1138916, -2.5390625, -0.67822266, -0.42700195, 0.9121094, -0.1418457, 0.2705078, -0.08959961, -0.25561523, -0.24780273, -0.9614258, -0.9868164, 0.2553711, -0.4711914, -1.0478516, 0.14428711, 1.7285156, -0.5444336, -1.0947266, 0.28149414, -0.63720703, -0.61865234, 0.09527588, 0.57177734, -0.6635742, -0.32910156, -0.10900879, -0.94921875, 0.6953125, -0.73095703, -1.0400391, 0.42163086, -2.046875, 2.0605469, 0.6142578, -0.8144531, -0.71240234, 0.21057129, -0.3310547, -0.24206543, -0.28759766, -1.8310547, 0.5878906, -0.97021484, -0.19091797, -1.4921875, 0.101379395, 1.0341797, -0.24194336, -0.7397461, 1.5830078, -0.4650879, -0.3701172, 0.73535156, 0.6586914, 1.2470703, 0.36132812, 0.32470703, -0.76464844, -0.2998047, 1.4345703, 0.33642578, 0.95703125, -1.0888672, -0.11987305, -0.70410156, 0.14746094, -0.14550781, -0.05102539, 0.28393555, -0.13012695, -0.1427002, -0.49609375, 0.29467773, -0.671875, -0.75097656, -0.057891846, 0.07458496, -0.11303711, -1.0263672, -1.0576172, 0.31420898, -1.0273438, -1.2246094, 1.9765625, 0.8432617, 0.44140625, 0.27685547, 1.390625, -2.3398438, 0.94628906, -0.4013672, -1.2167969, -1.3271484, -0.29516602, -0.7416992, -0.9433594, -1.8046875, -0.15942383, -0.54785156, 0.70214844, -0.84472656, 0.4650879, -0.06695557, 1.0458984, 0.83496094, 1.2988281, 0.5859375, -0.4116211, 0.52734375, 0.29638672, 0.4946289, -0.46972656, 0.20007324, 0.77246094, -0.6479492, -1.3652344, 1.6484375, -0.06549072, 0.13671875, 1.0517578, 0.6660156, -1.1025391, -0.97753906, -0.34985352, -0.5810547, 0.63134766, -0.25073242, 0.20385742, 0.1776123, -0.67626953, 0.61816406, 0.37451172, -0.7714844, -0.08935547, 0.041900635, -0.113098145, 0.4086914, 0.6040039, 0.88964844, 0.029586792, -0.115234375, -0.9589844, -0.7241211, 0.045532227, -0.7128906, 0.41064453, -2.0820312, 0.09039307, -1.4589844, -1.2363281, 0.006866455, 1.6943359, 1.0429688, 0.87353516, -0.101135254, 0.0680542, 0.030395508, -0.3269043, 0.012268066, 1.3759766, 0.13415527, 1.8154297, -0.11633301, -0.9614258, -0.36669922, -0.23999023, -0.31640625, 0.30297852, 0.9951172, 0.96484375, -0.5629883, -0.47802734, -1.4355469, 0.032073975, 0.8964844, -0.068847656, -0.45214844, -0.1821289, 1.7216797, -0.38989258, 0.5961914, 0.8027344, -0.11077881, 0.08880615, -0.9165039, 0.42260742, -0.57666016, 0.8408203, 0.88964844, 0.5708008, 0.35668945, 0.1394043, 1.0898438, -0.21813965, 1.0205078, 0.34765625, 0.2680664, 0.25610352, -0.5517578, 1.2636719, 0.06524658, 0.1182251, -0.013008118, -0.4165039, -0.47314453, -1.0341797, 0.16467285, -0.7011719, -0.2175293, -0.19445801, 0.3190918, -1.3291016, 0.53515625, 0.87158203, -1.1035156, 0.20422363, 0.4387207, 0.28442383, 1.0195312, 1.1552734, -0.69921875, 0.055419922, -0.57373047, -0.38500977, -0.9584961, -1.5966797, -0.61328125, 0.921875, -0.13232422, -0.48632812, -0.04360962, 0.22973633, 0.5185547, 1.3427734, 0.4038086, 0.7910156, 1.7431641, 1.1416016, -0.94091797, 0.008132935, 1.3535156, 0.3083496, -0.3166504, -0.29125977]\n"
     ]
    }
   ],
   "source": [
    "import os\n",
    "import requests\n",
    "\n",
    "url = \"https://clovastudio.stream.ntruss.com/testapp/v1/api-tools/embedding/v2\"\n",
    "\n",
    "headers = {\n",
    "    \"Authorization\": f\"Bearer {os.getenv('CLOVA_API_KEY')}\",  # CLOVA Studio API Key\n",
    "    \"Content-Type\": \"application/json\"\n",
    "}\n",
    "\n",
    "data = {\n",
    "    \"text\": \"HyperCLOVA X는 한국어에 특화된 대규모 언어 모델입니다.\"\n",
    "}\n",
    "\n",
    "response = requests.post(url, headers=headers, json=data)\n",
    "print(response.status_code)\n",
    "print(response.json()['result']['embedding'])"
   ]
  },
  {
   "cell_type": "code",
   "execution_count": 21,
   "id": "c5bc7738",
   "metadata": {},
   "outputs": [],
   "source": [
    "def generate_embedding(text):\n",
    "    url = \"https://clovastudio.stream.ntruss.com/testapp/v1/api-tools/embedding/v2\"\n",
    "\n",
    "    headers = {\n",
    "        \"Authorization\": f\"Bearer {os.getenv('CLOVA_API_KEY')}\",  # CLOVA Studio API Key\n",
    "        \"Content-Type\": \"application/json\"\n",
    "    }\n",
    "\n",
    "    data = {\n",
    "        \"text\": text\n",
    "    }\n",
    "\n",
    "    response = requests.post(url, headers=headers, json=data)\n",
    "    return response.json()['result']['embedding']"
   ]
  },
  {
   "cell_type": "code",
   "execution_count": 29,
   "id": "f1f80f60",
   "metadata": {},
   "outputs": [
    {
     "name": "stderr",
     "output_type": "stream",
     "text": [
      "Received notification from DBMS server: {severity: WARNING} {code: Neo.ClientNotification.Statement.FeatureDeprecationWarning} {category: DEPRECATION} {title: This feature is deprecated and will be removed in future versions.} {description: The query used a deprecated function: `id`.} {position: line: 1, column: 83, offset: 82} for query: 'MATCH (m:Movie) WHERE m.plot IS NOT NULL RETURN m.title AS title, m.plot AS plot, ID(m) AS id LIMIT 100'\n"
     ]
    }
   ],
   "source": [
    "with driver.session() as session:\n",
    "    result = session.execute_read(lambda tx: tx.run('MATCH (m:Movie) WHERE m.plot IS NOT NULL RETURN m.title AS title, m.plot AS plot, ID(m) AS id LIMIT 100').data())"
   ]
  },
  {
   "cell_type": "code",
   "execution_count": 32,
   "id": "6864988a",
   "metadata": {},
   "outputs": [
    {
     "data": {
      "text/plain": [
       "[{'title': 'Toy Story',\n",
       "  'plot': \"A cowboy doll is profoundly threatened and jealous when a new spaceman figure supplants him as top toy in a boy's room.\",\n",
       "  'id': 0},\n",
       " {'title': 'Jumanji',\n",
       "  'plot': 'When two kids find and play a magical board game, they release a man trapped for decades in it and a host of dangers that can only be stopped by finishing the game.',\n",
       "  'id': 5},\n",
       " {'title': 'Grumpier Old Men',\n",
       "  'plot': \"John and Max resolve to save their beloved bait shop from turning into an Italian restaurant, just as its new female owner catches Max's attention.\",\n",
       "  'id': 7},\n",
       " {'title': 'Waiting to Exhale',\n",
       "  'plot': \"Based on Terry McMillan's novel, this film follows four very different African-American women and their relationships with the male gender.\",\n",
       "  'id': 8},\n",
       " {'title': 'Father of the Bride Part II',\n",
       "  'plot': 'In this sequel, George Banks deals not only with the pregnancy of his daughter, but also with the unexpected pregnancy of his wife.',\n",
       "  'id': 11},\n",
       " {'title': 'Heat',\n",
       "  'plot': 'A group of professional bank robbers start to feel the heat from police when they unknowingly leave a clue at their latest heist.',\n",
       "  'id': 12},\n",
       " {'title': 'Sabrina',\n",
       "  'plot': 'An ugly duckling having undergone a remarkable change, still harbors feelings for her crush: a carefree playboy, but not before his business-focused brother has something to say about it.',\n",
       "  'id': 15},\n",
       " {'title': 'Tom and Huck',\n",
       "  'plot': \"Tom and Huck witness Injun Joe's killing of Doc Robinson one night at the graveyard. When an innocent man is accused of killing the Doc, Tom steps up as a witness, not respecting the promise made to Huck to lay low.\",\n",
       "  'id': 17},\n",
       " {'title': 'Sudden Death',\n",
       "  'plot': 'A former fireman takes on a group of terrorists holding the Vice President and others hostage during the seventh game of the NHL Stanley Cup finals.',\n",
       "  'id': 18},\n",
       " {'title': 'GoldenEye',\n",
       "  'plot': 'James Bond teams up with the lone survivor of a destroyed Russian research center to stop the hijacking of a nuclear space weapon by a fellow agent formerly believed to be dead.',\n",
       "  'id': 19},\n",
       " {'title': 'American President, The',\n",
       "  'plot': \"Comedy-drama about a widowed U.S. president and a lobbyist who fall in love. It's all above-board, but politics is perception and sparks fly anyway.\",\n",
       "  'id': 20},\n",
       " {'title': 'Dracula: Dead and Loving It',\n",
       "  'plot': \"Mel Brooks' parody of the classic vampire story and its famous film adaptations.\",\n",
       "  'id': 21},\n",
       " {'title': 'Balto',\n",
       "  'plot': 'An outcast half-wolf risks his life to prevent a deadly epidemic from ravaging Nome, Alaska.',\n",
       "  'id': 22},\n",
       " {'title': 'Nixon',\n",
       "  'plot': 'A biographical story of former U.S. president Richard Milhous Nixon, from his days as a young boy to his eventual presidency which ended in shame.',\n",
       "  'id': 24},\n",
       " {'title': 'Cutthroat Island',\n",
       "  'plot': 'A female pirate and her companion race against their rivals to find a hidden island that contains a fabulous treasure.',\n",
       "  'id': 25},\n",
       " {'title': 'Casino',\n",
       "  'plot': 'Greed, deception, money, power, and murder occur between two mobster best friends and a trophy wife over a gambling empire.',\n",
       "  'id': 26},\n",
       " {'title': 'Sense and Sensibility',\n",
       "  'plot': 'Rich Mr. Dashwood dies, leaving his second wife and her three daughters poor by the rules of inheritance. The two eldest daughters are the titular opposites.',\n",
       "  'id': 27},\n",
       " {'title': 'Four Rooms',\n",
       "  'plot': \"Four interlocking tales that take place in a fading hotel on New Year's Eve.\",\n",
       "  'id': 28},\n",
       " {'title': 'Ace Ventura: When Nature Calls',\n",
       "  'plot': 'Ace Ventura, Pet Detective, returns from a spiritual quest to investigate the disappearance of a rare white bat, the sacred animal of a tribe in Africa.',\n",
       "  'id': 29},\n",
       " {'title': 'Money Train',\n",
       "  'plot': 'A vengeful New York transit cop decides to steal a trainload of subway fares; his foster brother, a fellow cop, tries to protect him.',\n",
       "  'id': 30},\n",
       " {'title': 'Get Shorty',\n",
       "  'plot': 'A mobster travels to Hollywood to collect a debt and discovers that the movie business is much the same as his current job.',\n",
       "  'id': 31},\n",
       " {'title': 'Copycat',\n",
       "  'plot': 'An agoraphobic psychologist and a female detective must work together to take down a serial killer who copies serial killers from the past.',\n",
       "  'id': 32},\n",
       " {'title': 'Assassins',\n",
       "  'plot': \"Professional hit-man Robert Rath wants to fulfill a few more contracts before retiring but unscrupulous ambitious newcomer hit-man Miguel Bain keeps killing Rath's targets.\",\n",
       "  'id': 34},\n",
       " {'title': 'Powder',\n",
       "  'plot': 'A young bald albino boy with unique powers shakes up the rural community he lives in.',\n",
       "  'id': 35},\n",
       " {'title': 'Leaving Las Vegas',\n",
       "  'plot': 'Ben Sanderson, an alcoholic Hollywood screenwriter who lost everything because of his drinking, arrives in Las Vegas to drink himself to death. There, he meets and forms an uneasy friendship and non-interference pact with prostitute Sera.',\n",
       "  'id': 36},\n",
       " {'title': 'Othello',\n",
       "  'plot': 'The evil Iago pretends to be friend of Othello in order to manipulate him to serve his own end in the film version of this Shakespeare classic.',\n",
       "  'id': 38},\n",
       " {'title': 'Now and Then',\n",
       "  'plot': 'Four 12-year-old girls grow up together during an eventful small-town summer in 1970.',\n",
       "  'id': 39},\n",
       " {'title': 'Persuasion',\n",
       "  'plot': 'Eight years earlier, Anne Elliot, the daughter of a financially troubled aristocratic family, was persuaded to break off her engagement to Frederick Wentworth, a young seaman, who, though ...',\n",
       "  'id': 40},\n",
       " {'title': 'City of Lost Children, The (Cité des enfants perdus, La)',\n",
       "  'plot': 'A scientist in a surrealist society kidnaps children to steal their dreams, hoping that they slow his aging process.',\n",
       "  'id': 41},\n",
       " {'title': 'Shanghai Triad (Yao a yao yao dao waipo qiao)',\n",
       "  'plot': \"A provincial boy related to a Shanghai crime family is recruited by his uncle into cosmopolitan Shanghai in the 1930s to be a servant to a ganglord's mistress.\",\n",
       "  'id': 42},\n",
       " {'title': 'Dangerous Minds',\n",
       "  'plot': 'An ex-Marine turned teacher struggles to connect with her students in an inner city school.',\n",
       "  'id': 43},\n",
       " {'title': 'Twelve Monkeys (a.k.a. 12 Monkeys)',\n",
       "  'plot': 'In a future world devastated by disease, a convict is sent back in time to gather information about the man-made virus that wiped out most of the human population on the planet.',\n",
       "  'id': 44},\n",
       " {'title': 'Babe',\n",
       "  'plot': 'Babe, a pig raised by sheepdogs, learns to herd sheep with a little help from Farmer Hoggett.',\n",
       "  'id': 45},\n",
       " {'title': 'Carrington',\n",
       "  'plot': 'The platonic relationship between artist Dora Carrington and writer Lytton Strachey in the early 20th century.',\n",
       "  'id': 46},\n",
       " {'title': 'Dead Man Walking',\n",
       "  'plot': \"A nun, while comforting a convicted killer on death row, empathizes with both the killer and his victim's families.\",\n",
       "  'id': 47},\n",
       " {'title': 'Across the Sea of Time',\n",
       "  'plot': 'A young Russian boy, Thomas Minton, travels to New York as a passenger on a Russian freighter. Close to Ellis Island he gets off and thus starts his journey to America the same way as all ...',\n",
       "  'id': 48},\n",
       " {'title': 'It Takes Two',\n",
       "  'plot': \"Alyssa (a rich girl) and Amanda (an orphan) are two little girls who are identical, but complete strangers, that accidentally meet one day. In an attempt to stop Alyssa's father from ...\",\n",
       "  'id': 50},\n",
       " {'title': 'Clueless',\n",
       "  'plot': \"A rich high school student tries to boost a new pupil's popularity, but reckons without affairs of the heart getting in the way.\",\n",
       "  'id': 52},\n",
       " {'title': 'Cry, the Beloved Country',\n",
       "  'plot': 'A South-African preacher goes to search for his wayward son who has committed a crime in the big city.',\n",
       "  'id': 53},\n",
       " {'title': 'Richard III',\n",
       "  'plot': 'The classic Shakespearean play about a murderously scheming king staged in an alternative fascist England setting.',\n",
       "  'id': 54},\n",
       " {'title': 'Dead Presidents',\n",
       "  'plot': 'A Vietnam vet adjusts to life after the war while trying to support his family, but the chance of a better life may involve crime and bloodshed.',\n",
       "  'id': 55},\n",
       " {'title': 'Restoration',\n",
       "  'plot': 'The exiled royal physician to King Charles II devotes himself to helping Londoners suffering from the plague, and in the process falls in love with an equally poor woman.',\n",
       "  'id': 57},\n",
       " {'title': 'Mortal Kombat',\n",
       "  'plot': 'Three unknowing martial artists are summoned to a mysterious island to compete in a tournament whose outcome will decide the fate of the world.',\n",
       "  'id': 58},\n",
       " {'title': 'To Die For',\n",
       "  'plot': 'Suzanne Stone is an aspiring TV personality who will do anything to be in the spotlight, including enlisting three teenagers to kill her husband.',\n",
       "  'id': 59},\n",
       " {'title': 'How to Make an American Quilt',\n",
       "  'plot': 'Bride-to-be Finn Dodd hears tales of romance and sorrow from her elders as they construct a quilt.',\n",
       "  'id': 60},\n",
       " {'title': 'Seven (a.k.a. Se7en)',\n",
       "  'plot': 'Two detectives, a rookie and a veteran, hunt a serial killer who uses the seven deadly sins as his modus operandi.',\n",
       "  'id': 61},\n",
       " {'title': 'Pocahontas',\n",
       "  'plot': 'An English soldier and the daughter of an Algonquin chief share a romance when English colonists invade seventeenth-century Virginia.',\n",
       "  'id': 62},\n",
       " {'title': 'When Night Is Falling',\n",
       "  'plot': 'An uptight and conservative woman, working on tenure as a literacy professor at a large urban university, finds herself strangely attracted to a free-spirited, liberal woman who works at a local carnival that comes to town.',\n",
       "  'id': 64},\n",
       " {'title': 'Usual Suspects, The',\n",
       "  'plot': 'A sole survivor tells of the twisty events leading up to a horrific gun battle on a boat, which begin when five criminals meet at a seemingly random police lineup.',\n",
       "  'id': 65},\n",
       " {'title': 'Mighty Aphrodite',\n",
       "  'plot': \"When he discovers his adopted son is a genius, a New York sportswriter seeks out the boy's birth mother: a prostitute.\",\n",
       "  'id': 66},\n",
       " {'title': 'Lamerica',\n",
       "  'plot': 'Two Italian racketeers come to Albania just after the fall of the communists to set up a fictive firm and pocket the grants. They need a stooge. They choose an old one in a jail : Spiro. ...',\n",
       "  'id': 67},\n",
       " {'title': 'Big Green, The',\n",
       "  'plot': 'Another Disney underdog sports team of misfit kids (soccer this time) learns to play a new sport and become champions, while building self-esteem, making friends and solving a variety of ...',\n",
       "  'id': 68},\n",
       " {'title': 'Georgia',\n",
       "  'plot': 'Sadie is desperately looking up to her older sister Georgia who is a famous C&W artist. Sadie wants to be a famous artist like her sister, but is always doing everything wrong. Her ...',\n",
       "  'id': 69},\n",
       " {'title': 'Home for the Holidays',\n",
       "  'plot': 'After losing her job, making out with her soon-to-be former boss and finding out that her daughter plans to spend Thanksgiving with her boyfriend, Claudia Larson faces spending the holiday with her family.',\n",
       "  'id': 70},\n",
       " {'title': 'Postman, The (Postino, Il)',\n",
       "  'plot': 'Simple Italian postman learns to love poetry while delivering mail to a famous poet; he uses this to woo local beauty Beatrice.',\n",
       "  'id': 71},\n",
       " {'title': 'Confessional, The (Confessionnal, Le)',\n",
       "  'plot': 'The year is 1952, in Quebec City. Rachel, 16, unmarried, and pregnant, works in the church. Filled with shame, she unburdens her guilt to a young priest, under the confidentiality of the ...',\n",
       "  'id': 72},\n",
       " {'title': 'Indian in the Cupboard, The',\n",
       "  'plot': 'On his ninth birthday a boy receives many presents. Two of them first seem to be less important: an old cupboard from his brother and a little Indian figure made of plastic from his best ...',\n",
       "  'id': 73},\n",
       " {'title': 'Eye for an Eye',\n",
       "  'plot': 'When the courts fail to keep behind bars the man who raped and murdered her daughter, a woman seeks her own form of justice.',\n",
       "  'id': 74},\n",
       " {'title': \"Mr. Holland's Opus\",\n",
       "  'plot': 'A frustrated composer finds fulfillment as a high school music teacher.',\n",
       "  'id': 75},\n",
       " {'title': \"Don't Be a Menace to South Central While Drinking Your Juice in the Hood\",\n",
       "  'plot': \"Don't Be a Menace to South Central While Drinking your Juice in the Hood is a parody of several U.S. films about being in the 'Hood', for instance Boyz n the Hood, South Central, ...\",\n",
       "  'id': 76},\n",
       " {'title': 'Two if by Sea',\n",
       "  'plot': \"Frank O'Brien, a petty thief, and his 7-year-long girlfriend Roz want to put an end to their unsteady lifestyle and just do that _last_ job, which involves stealing a valuable painting. ...\",\n",
       "  'id': 77},\n",
       " {'title': 'Bio-Dome',\n",
       "  'plot': 'Moronic best friends get themselves locked inside the Bio-Dome, a science experiment, along with a group of environmental scientists for one year.',\n",
       "  'id': 78},\n",
       " {'title': 'Lawnmower Man 2: Beyond Cyberspace',\n",
       "  'plot': 'Jobe is resuscitated by Jonathan Walker. He wants Jobe to create a special computer chip that would connect all the computers in the world into one network, which Walker would control and ...',\n",
       "  'id': 79},\n",
       " {'title': 'French Twist (Gazon maudit)',\n",
       "  'plot': \"After learning of her husband's infidelities, a housewife invites an itinerant lesbian to move in with them. None of their lives will ever be the same again.\",\n",
       "  'id': 80},\n",
       " {'title': 'Friday',\n",
       "  'plot': \"Two homies, Smokey and Craig, smoke a dope dealer's weed and try to figure a way to get the $200 they owe to the dealer by ten p.m. that same night. In that time, they smoke more weed, get jacked, and they get shot at in a drive-by.\",\n",
       "  'id': 81},\n",
       " {'title': 'From Dusk Till Dawn',\n",
       "  'plot': 'Two criminals and their hostages unknowingly seek temporary refuge in an establishment populated by vampires, with chaotic results.',\n",
       "  'id': 82},\n",
       " {'title': 'Fair Game',\n",
       "  'plot': 'Max Kirkpatrick is a cop who protects Kate McQuean, a civil law attorney, from a renegade KGB team out to terminate her.',\n",
       "  'id': 83},\n",
       " {'title': 'Kicking and Screaming',\n",
       "  'plot': 'Following graduation, a handful of college students do nothing and talk about it wittily.',\n",
       "  'id': 84},\n",
       " {'title': 'Misérables, Les',\n",
       "  'plot': \"Henri Fortin is poor and iliterate former boxer. Ziman is rich Jewish lawyer from Paris. During WWII they meet when Fortin agrees to drive Ziman's family to Switzerland. Intrigued by Victor...\",\n",
       "  'id': 85},\n",
       " {'title': 'Bed of Roses',\n",
       "  'plot': 'Romantic drama about a young career girl who is swept off her feet by a shy florist, who fell in love with her after one glimpse through a shadowy window.',\n",
       "  'id': 86},\n",
       " {'title': 'Screamers',\n",
       "  'plot': '(SIRIUS 6B, Year 2078) On a distant mining planet ravaged by a decade of war, scientists have created the perfect weapon: a blade-wielding, self-replicating race of killing devices known as...',\n",
       "  'id': 87},\n",
       " {'title': 'Nico Icon',\n",
       "  'plot': 'A look into the many lives of Christa Päffgen, otherwise known as Nico; from cutie German mädchen to the first of the supermodels, to glamorous diva of the Velvet Underground, to cult item,...',\n",
       "  'id': 88},\n",
       " {'title': 'Crossing Guard, The',\n",
       "  'plot': 'Freddie Gale is a seedy jeweler who has sworn to kill the drunk driver who killed his little girl.',\n",
       "  'id': 89},\n",
       " {'title': 'Juror, The',\n",
       "  'plot': 'When Annie Laird is selected as a juror in a big Mafia trial, she is forced by someone known as The Teacher to persuade the other jurors to vote not guilty. He threatens to kill her son...',\n",
       "  'id': 90},\n",
       " {'title': 'White Balloon, The (Badkonake sefid)',\n",
       "  'plot': \"Several people try to take advantage of a little girl's innocence to hustle money her mom gave to her to buy a goldfish with.\",\n",
       "  'id': 91},\n",
       " {'title': \"Things to Do in Denver When You're Dead\",\n",
       "  'plot': 'Five different criminals face imminent death after botching a job quite badly.',\n",
       "  'id': 92},\n",
       " {'title': \"Antonia's Line (Antonia)\",\n",
       "  'plot': 'A Dutch matron establishes and, for several generations, oversees a close-knit, matriarchal community where feminism and liberalism thrive.',\n",
       "  'id': 93},\n",
       " {'title': 'Once Upon a Time... When We Were Colored',\n",
       "  'plot': 'A narrator tells the story of his childhood years in a tightly knit Afro-American community in the deep south under racial segregation.',\n",
       "  'id': 94},\n",
       " {'title': 'Last Summer in the Hamptons',\n",
       "  'plot': 'Filmed entirely on location in East Hampton, Long Island, Last Summer in the Hamptons concerns a large theatrical family spending the last weekend of their summer together at the ...',\n",
       "  'id': 95},\n",
       " {'title': 'Angels and Insects',\n",
       "  'plot': 'In the 1800s a naturalist marries into a family of British country gentry.',\n",
       "  'id': 96},\n",
       " {'title': 'White Squall',\n",
       "  'plot': 'Teenage boys discover discipline and camaraderie on an ill-fated sailing voyage.',\n",
       "  'id': 97},\n",
       " {'title': 'Dunston Checks In',\n",
       "  'plot': 'Young boy befriends larcenous orangutan in luxury hotel.',\n",
       "  'id': 98},\n",
       " {'title': 'Black Sheep',\n",
       "  'plot': \"A gubernatorial candidate hires a wormy special assistant whose only job is to make sure the candidate's well-meaning but incompetent brother doesn't ruin the election.\",\n",
       "  'id': 99},\n",
       " {'title': 'Nick of Time',\n",
       "  'plot': 'An unimpressive, every-day man is forced into a situation where he is told to kill a politician to save his kidnapped daughter.',\n",
       "  'id': 100},\n",
       " {'title': 'Mary Reilly',\n",
       "  'plot': 'A housemaid falls in love with Dr. Jekyll and his darkly mysterious counterpart, Mr. Hyde.',\n",
       "  'id': 101},\n",
       " {'title': 'Vampire in Brooklyn',\n",
       "  'plot': 'Maximillian is the only survivor from a race of vampires on a Caribbean Island, and as a vampire, he must find a mate to keep the line from ending. He knows that a child had been born to a ...',\n",
       "  'id': 102},\n",
       " {'title': 'Beautiful Girls',\n",
       "  'plot': 'A piano player at a crossroads in his life returns home to his friends and their own problems with life and love.',\n",
       "  'id': 103},\n",
       " {'title': 'Broken Arrow',\n",
       "  'plot': \"Terrorists steal nuclear warheads from the U.S. military but don't count on a pilot and park ranger spoiling their plans.\",\n",
       "  'id': 104},\n",
       " {'title': 'In the Bleak Midwinter',\n",
       "  'plot': \"Out of work actor Joe volunteers to help try and save his sister's local church for the community by putting on a Christmas production of Hamlet, somewhat against the advice of his agent ...\",\n",
       "  'id': 105},\n",
       " {'title': 'Hate (Haine, La)',\n",
       "  'plot': '24 hours in the lives of three young men in the French suburbs the day after a violent riot.',\n",
       "  'id': 106},\n",
       " {'title': 'Shopping',\n",
       "  'plot': \"You've run out of options, no school, no job. Steal a car, smash a shop with a heavy car and reap the proceeds!. This movie is about underground England. The causes, the benefits, and the result of a life of 'crash and carry'.\",\n",
       "  'id': 107},\n",
       " {'title': 'Heidi Fleiss: Hollywood Madam',\n",
       "  'plot': 'A documentary crew from the BBC arrives in L.A. intent on interviewing Heidi Fleiss, a year after her arrest for running a brothel but before her trial. Several months elapse before the ...',\n",
       "  'id': 108},\n",
       " {'title': 'City Hall',\n",
       "  'plot': 'The accidental shooting of a boy in New York leads to an investigation by the Deputy Mayor, and unexpectedly far-reaching consequences.',\n",
       "  'id': 109},\n",
       " {'title': 'Bottle Rocket',\n",
       "  'plot': 'Focusing on a trio of friends and their elaborate plan to pull off a simple robbery and go on the run.',\n",
       "  'id': 110},\n",
       " {'title': 'Mr. Wrong',\n",
       "  'plot': 'A single and lonely woman finds the seemingly perfect man to date, but soon regrets it when his deranged and possessive other personality emerges and worst still, she cannot convince anyone else of his Jekyll/Hyde true nature.',\n",
       "  'id': 111},\n",
       " {'title': 'Unforgettable',\n",
       "  'plot': \"Unsuccessfully framed for his wife's murder, Dr. David Krane attempts to find the real culprit by utilizing a new drug that allows him to experience the memories of other people first-hand....\",\n",
       "  'id': 112},\n",
       " {'title': 'Happy Gilmore',\n",
       "  'plot': \"A rejected hockey player puts his skills to the golf course to save his grandmother's house.\",\n",
       "  'id': 113},\n",
       " {'title': 'Bridges of Madison County, The',\n",
       "  'plot': 'Photographer Robert Kincaid wanders into the life of housewife Francesca Johnson, for four days in the 1960s.',\n",
       "  'id': 114},\n",
       " {'title': 'Muppet Treasure Island',\n",
       "  'plot': \"The Muppets' twist on the classic tale.\",\n",
       "  'id': 115},\n",
       " {'title': 'Catwalk',\n",
       "  'plot': \"A camera follows model Christy Turlington through the spring fashion shows in Milan, Paris, and New York one year in the early 1990s, probably 1992. She and others dash from one designer's ...\",\n",
       "  'id': 116}]"
      ]
     },
     "execution_count": 32,
     "metadata": {},
     "output_type": "execute_result"
    }
   ],
   "source": [
    "result"
   ]
  },
  {
   "cell_type": "code",
   "execution_count": null,
   "id": "62b3ef4f",
   "metadata": {},
   "outputs": [
    {
     "data": {
      "text/plain": [
       "100"
      ]
     },
     "execution_count": 31,
     "metadata": {},
     "output_type": "execute_result"
    }
   ],
   "source": [
    "len(result)"
   ]
  },
  {
   "cell_type": "code",
   "execution_count": 35,
   "id": "e80d1fbe",
   "metadata": {},
   "outputs": [],
   "source": [
    "for i in result:\n",
    "  if len(i['plot']) < 1:\n",
    "    print(i['plot'])"
   ]
  },
  {
   "cell_type": "code",
   "execution_count": 36,
   "id": "9b3f3c3e",
   "metadata": {},
   "outputs": [
    {
     "name": "stdout",
     "output_type": "stream",
     "text": [
      "1\n",
      "A cowboy doll is profoundly threatened and jealous when a new spaceman figure supplants him as top toy in a boy's room.\n",
      "============================\n"
     ]
    },
    {
     "name": "stderr",
     "output_type": "stream",
     "text": [
      "Received notification from DBMS server: {severity: WARNING} {code: Neo.ClientNotification.Statement.FeatureDeprecationWarning} {category: DEPRECATION} {title: This feature is deprecated and will be removed in future versions.} {description: The query used a deprecated function: `id`.} {position: line: 1, column: 83, offset: 82} for query: 'MATCH (m:Movie) WHERE m.plot IS NOT NULL RETURN m.title AS title, m.plot AS plot, ID(m) AS id LIMIT 100'\n"
     ]
    },
    {
     "name": "stdout",
     "output_type": "stream",
     "text": [
      "Updated movie \"Toy Story\" with embedding.\n",
      "2\n",
      "When two kids find and play a magical board game, they release a man trapped for decades in it and a host of dangers that can only be stopped by finishing the game.\n",
      "============================\n"
     ]
    },
    {
     "name": "stderr",
     "output_type": "stream",
     "text": [
      "Received notification from DBMS server: {severity: WARNING} {code: Neo.ClientNotification.Statement.FeatureDeprecationWarning} {category: DEPRECATION} {title: This feature is deprecated and will be removed in future versions.} {description: The query used a deprecated function: `id`.} {position: line: 1, column: 23, offset: 22} for query: 'MATCH (m:Movie) WHERE ID(m) = $id SET m.plotEmbedding = $embedding'\n"
     ]
    },
    {
     "name": "stdout",
     "output_type": "stream",
     "text": [
      "Updated movie \"Jumanji\" with embedding.\n",
      "3\n",
      "John and Max resolve to save their beloved bait shop from turning into an Italian restaurant, just as its new female owner catches Max's attention.\n",
      "============================\n"
     ]
    },
    {
     "name": "stderr",
     "output_type": "stream",
     "text": [
      "Received notification from DBMS server: {severity: WARNING} {code: Neo.ClientNotification.Statement.FeatureDeprecationWarning} {category: DEPRECATION} {title: This feature is deprecated and will be removed in future versions.} {description: The query used a deprecated function: `id`.} {position: line: 1, column: 23, offset: 22} for query: 'MATCH (m:Movie) WHERE ID(m) = $id SET m.plotEmbedding = $embedding'\n"
     ]
    },
    {
     "name": "stdout",
     "output_type": "stream",
     "text": [
      "Updated movie \"Grumpier Old Men\" with embedding.\n",
      "4\n",
      "Based on Terry McMillan's novel, this film follows four very different African-American women and their relationships with the male gender.\n",
      "============================\n"
     ]
    },
    {
     "name": "stderr",
     "output_type": "stream",
     "text": [
      "Received notification from DBMS server: {severity: WARNING} {code: Neo.ClientNotification.Statement.FeatureDeprecationWarning} {category: DEPRECATION} {title: This feature is deprecated and will be removed in future versions.} {description: The query used a deprecated function: `id`.} {position: line: 1, column: 23, offset: 22} for query: 'MATCH (m:Movie) WHERE ID(m) = $id SET m.plotEmbedding = $embedding'\n"
     ]
    },
    {
     "name": "stdout",
     "output_type": "stream",
     "text": [
      "Updated movie \"Waiting to Exhale\" with embedding.\n",
      "5\n",
      "In this sequel, George Banks deals not only with the pregnancy of his daughter, but also with the unexpected pregnancy of his wife.\n",
      "============================\n"
     ]
    },
    {
     "name": "stderr",
     "output_type": "stream",
     "text": [
      "Received notification from DBMS server: {severity: WARNING} {code: Neo.ClientNotification.Statement.FeatureDeprecationWarning} {category: DEPRECATION} {title: This feature is deprecated and will be removed in future versions.} {description: The query used a deprecated function: `id`.} {position: line: 1, column: 23, offset: 22} for query: 'MATCH (m:Movie) WHERE ID(m) = $id SET m.plotEmbedding = $embedding'\n"
     ]
    },
    {
     "name": "stdout",
     "output_type": "stream",
     "text": [
      "Updated movie \"Father of the Bride Part II\" with embedding.\n",
      "6\n",
      "A group of professional bank robbers start to feel the heat from police when they unknowingly leave a clue at their latest heist.\n",
      "============================\n"
     ]
    },
    {
     "name": "stderr",
     "output_type": "stream",
     "text": [
      "Received notification from DBMS server: {severity: WARNING} {code: Neo.ClientNotification.Statement.FeatureDeprecationWarning} {category: DEPRECATION} {title: This feature is deprecated and will be removed in future versions.} {description: The query used a deprecated function: `id`.} {position: line: 1, column: 23, offset: 22} for query: 'MATCH (m:Movie) WHERE ID(m) = $id SET m.plotEmbedding = $embedding'\n"
     ]
    },
    {
     "name": "stdout",
     "output_type": "stream",
     "text": [
      "Updated movie \"Heat\" with embedding.\n",
      "7\n",
      "An ugly duckling having undergone a remarkable change, still harbors feelings for her crush: a carefree playboy, but not before his business-focused brother has something to say about it.\n",
      "============================\n"
     ]
    },
    {
     "name": "stderr",
     "output_type": "stream",
     "text": [
      "Received notification from DBMS server: {severity: WARNING} {code: Neo.ClientNotification.Statement.FeatureDeprecationWarning} {category: DEPRECATION} {title: This feature is deprecated and will be removed in future versions.} {description: The query used a deprecated function: `id`.} {position: line: 1, column: 23, offset: 22} for query: 'MATCH (m:Movie) WHERE ID(m) = $id SET m.plotEmbedding = $embedding'\n"
     ]
    },
    {
     "name": "stdout",
     "output_type": "stream",
     "text": [
      "Updated movie \"Sabrina\" with embedding.\n",
      "8\n",
      "Tom and Huck witness Injun Joe's killing of Doc Robinson one night at the graveyard. When an innocent man is accused of killing the Doc, Tom steps up as a witness, not respecting the promise made to Huck to lay low.\n",
      "============================\n"
     ]
    },
    {
     "name": "stderr",
     "output_type": "stream",
     "text": [
      "Received notification from DBMS server: {severity: WARNING} {code: Neo.ClientNotification.Statement.FeatureDeprecationWarning} {category: DEPRECATION} {title: This feature is deprecated and will be removed in future versions.} {description: The query used a deprecated function: `id`.} {position: line: 1, column: 23, offset: 22} for query: 'MATCH (m:Movie) WHERE ID(m) = $id SET m.plotEmbedding = $embedding'\n"
     ]
    },
    {
     "name": "stdout",
     "output_type": "stream",
     "text": [
      "Updated movie \"Tom and Huck\" with embedding.\n",
      "9\n",
      "A former fireman takes on a group of terrorists holding the Vice President and others hostage during the seventh game of the NHL Stanley Cup finals.\n",
      "============================\n"
     ]
    },
    {
     "name": "stderr",
     "output_type": "stream",
     "text": [
      "Received notification from DBMS server: {severity: WARNING} {code: Neo.ClientNotification.Statement.FeatureDeprecationWarning} {category: DEPRECATION} {title: This feature is deprecated and will be removed in future versions.} {description: The query used a deprecated function: `id`.} {position: line: 1, column: 23, offset: 22} for query: 'MATCH (m:Movie) WHERE ID(m) = $id SET m.plotEmbedding = $embedding'\n"
     ]
    },
    {
     "name": "stdout",
     "output_type": "stream",
     "text": [
      "Updated movie \"Sudden Death\" with embedding.\n",
      "10\n",
      "James Bond teams up with the lone survivor of a destroyed Russian research center to stop the hijacking of a nuclear space weapon by a fellow agent formerly believed to be dead.\n",
      "============================\n"
     ]
    },
    {
     "name": "stderr",
     "output_type": "stream",
     "text": [
      "Received notification from DBMS server: {severity: WARNING} {code: Neo.ClientNotification.Statement.FeatureDeprecationWarning} {category: DEPRECATION} {title: This feature is deprecated and will be removed in future versions.} {description: The query used a deprecated function: `id`.} {position: line: 1, column: 23, offset: 22} for query: 'MATCH (m:Movie) WHERE ID(m) = $id SET m.plotEmbedding = $embedding'\n"
     ]
    },
    {
     "name": "stdout",
     "output_type": "stream",
     "text": [
      "Updated movie \"GoldenEye\" with embedding.\n",
      "11\n",
      "Comedy-drama about a widowed U.S. president and a lobbyist who fall in love. It's all above-board, but politics is perception and sparks fly anyway.\n",
      "============================\n"
     ]
    },
    {
     "name": "stderr",
     "output_type": "stream",
     "text": [
      "Received notification from DBMS server: {severity: WARNING} {code: Neo.ClientNotification.Statement.FeatureDeprecationWarning} {category: DEPRECATION} {title: This feature is deprecated and will be removed in future versions.} {description: The query used a deprecated function: `id`.} {position: line: 1, column: 23, offset: 22} for query: 'MATCH (m:Movie) WHERE ID(m) = $id SET m.plotEmbedding = $embedding'\n"
     ]
    },
    {
     "name": "stdout",
     "output_type": "stream",
     "text": [
      "Updated movie \"American President, The\" with embedding.\n",
      "12\n",
      "Mel Brooks' parody of the classic vampire story and its famous film adaptations.\n",
      "============================\n"
     ]
    },
    {
     "name": "stderr",
     "output_type": "stream",
     "text": [
      "Received notification from DBMS server: {severity: WARNING} {code: Neo.ClientNotification.Statement.FeatureDeprecationWarning} {category: DEPRECATION} {title: This feature is deprecated and will be removed in future versions.} {description: The query used a deprecated function: `id`.} {position: line: 1, column: 23, offset: 22} for query: 'MATCH (m:Movie) WHERE ID(m) = $id SET m.plotEmbedding = $embedding'\n"
     ]
    },
    {
     "name": "stdout",
     "output_type": "stream",
     "text": [
      "Updated movie \"Dracula: Dead and Loving It\" with embedding.\n",
      "13\n",
      "An outcast half-wolf risks his life to prevent a deadly epidemic from ravaging Nome, Alaska.\n",
      "============================\n"
     ]
    },
    {
     "name": "stderr",
     "output_type": "stream",
     "text": [
      "Received notification from DBMS server: {severity: WARNING} {code: Neo.ClientNotification.Statement.FeatureDeprecationWarning} {category: DEPRECATION} {title: This feature is deprecated and will be removed in future versions.} {description: The query used a deprecated function: `id`.} {position: line: 1, column: 23, offset: 22} for query: 'MATCH (m:Movie) WHERE ID(m) = $id SET m.plotEmbedding = $embedding'\n"
     ]
    },
    {
     "name": "stdout",
     "output_type": "stream",
     "text": [
      "Updated movie \"Balto\" with embedding.\n",
      "14\n",
      "A biographical story of former U.S. president Richard Milhous Nixon, from his days as a young boy to his eventual presidency which ended in shame.\n",
      "============================\n"
     ]
    },
    {
     "name": "stderr",
     "output_type": "stream",
     "text": [
      "Received notification from DBMS server: {severity: WARNING} {code: Neo.ClientNotification.Statement.FeatureDeprecationWarning} {category: DEPRECATION} {title: This feature is deprecated and will be removed in future versions.} {description: The query used a deprecated function: `id`.} {position: line: 1, column: 23, offset: 22} for query: 'MATCH (m:Movie) WHERE ID(m) = $id SET m.plotEmbedding = $embedding'\n"
     ]
    },
    {
     "name": "stdout",
     "output_type": "stream",
     "text": [
      "Updated movie \"Nixon\" with embedding.\n",
      "15\n",
      "A female pirate and her companion race against their rivals to find a hidden island that contains a fabulous treasure.\n",
      "============================\n"
     ]
    },
    {
     "name": "stderr",
     "output_type": "stream",
     "text": [
      "Received notification from DBMS server: {severity: WARNING} {code: Neo.ClientNotification.Statement.FeatureDeprecationWarning} {category: DEPRECATION} {title: This feature is deprecated and will be removed in future versions.} {description: The query used a deprecated function: `id`.} {position: line: 1, column: 23, offset: 22} for query: 'MATCH (m:Movie) WHERE ID(m) = $id SET m.plotEmbedding = $embedding'\n"
     ]
    },
    {
     "name": "stdout",
     "output_type": "stream",
     "text": [
      "Updated movie \"Cutthroat Island\" with embedding.\n",
      "16\n",
      "Greed, deception, money, power, and murder occur between two mobster best friends and a trophy wife over a gambling empire.\n",
      "============================\n"
     ]
    },
    {
     "name": "stderr",
     "output_type": "stream",
     "text": [
      "Received notification from DBMS server: {severity: WARNING} {code: Neo.ClientNotification.Statement.FeatureDeprecationWarning} {category: DEPRECATION} {title: This feature is deprecated and will be removed in future versions.} {description: The query used a deprecated function: `id`.} {position: line: 1, column: 23, offset: 22} for query: 'MATCH (m:Movie) WHERE ID(m) = $id SET m.plotEmbedding = $embedding'\n"
     ]
    },
    {
     "name": "stdout",
     "output_type": "stream",
     "text": [
      "Updated movie \"Casino\" with embedding.\n",
      "17\n",
      "Rich Mr. Dashwood dies, leaving his second wife and her three daughters poor by the rules of inheritance. The two eldest daughters are the titular opposites.\n",
      "============================\n"
     ]
    },
    {
     "name": "stderr",
     "output_type": "stream",
     "text": [
      "Received notification from DBMS server: {severity: WARNING} {code: Neo.ClientNotification.Statement.FeatureDeprecationWarning} {category: DEPRECATION} {title: This feature is deprecated and will be removed in future versions.} {description: The query used a deprecated function: `id`.} {position: line: 1, column: 23, offset: 22} for query: 'MATCH (m:Movie) WHERE ID(m) = $id SET m.plotEmbedding = $embedding'\n"
     ]
    },
    {
     "name": "stdout",
     "output_type": "stream",
     "text": [
      "Updated movie \"Sense and Sensibility\" with embedding.\n",
      "18\n",
      "Four interlocking tales that take place in a fading hotel on New Year's Eve.\n",
      "============================\n"
     ]
    },
    {
     "name": "stderr",
     "output_type": "stream",
     "text": [
      "Received notification from DBMS server: {severity: WARNING} {code: Neo.ClientNotification.Statement.FeatureDeprecationWarning} {category: DEPRECATION} {title: This feature is deprecated and will be removed in future versions.} {description: The query used a deprecated function: `id`.} {position: line: 1, column: 23, offset: 22} for query: 'MATCH (m:Movie) WHERE ID(m) = $id SET m.plotEmbedding = $embedding'\n"
     ]
    },
    {
     "name": "stdout",
     "output_type": "stream",
     "text": [
      "Updated movie \"Four Rooms\" with embedding.\n",
      "19\n",
      "Ace Ventura, Pet Detective, returns from a spiritual quest to investigate the disappearance of a rare white bat, the sacred animal of a tribe in Africa.\n",
      "============================\n"
     ]
    },
    {
     "name": "stderr",
     "output_type": "stream",
     "text": [
      "Received notification from DBMS server: {severity: WARNING} {code: Neo.ClientNotification.Statement.FeatureDeprecationWarning} {category: DEPRECATION} {title: This feature is deprecated and will be removed in future versions.} {description: The query used a deprecated function: `id`.} {position: line: 1, column: 23, offset: 22} for query: 'MATCH (m:Movie) WHERE ID(m) = $id SET m.plotEmbedding = $embedding'\n"
     ]
    },
    {
     "name": "stdout",
     "output_type": "stream",
     "text": [
      "Updated movie \"Ace Ventura: When Nature Calls\" with embedding.\n",
      "20\n",
      "A vengeful New York transit cop decides to steal a trainload of subway fares; his foster brother, a fellow cop, tries to protect him.\n",
      "============================\n"
     ]
    },
    {
     "name": "stderr",
     "output_type": "stream",
     "text": [
      "Received notification from DBMS server: {severity: WARNING} {code: Neo.ClientNotification.Statement.FeatureDeprecationWarning} {category: DEPRECATION} {title: This feature is deprecated and will be removed in future versions.} {description: The query used a deprecated function: `id`.} {position: line: 1, column: 23, offset: 22} for query: 'MATCH (m:Movie) WHERE ID(m) = $id SET m.plotEmbedding = $embedding'\n"
     ]
    },
    {
     "name": "stdout",
     "output_type": "stream",
     "text": [
      "Updated movie \"Money Train\" with embedding.\n",
      "21\n",
      "A mobster travels to Hollywood to collect a debt and discovers that the movie business is much the same as his current job.\n",
      "============================\n"
     ]
    },
    {
     "name": "stderr",
     "output_type": "stream",
     "text": [
      "Received notification from DBMS server: {severity: WARNING} {code: Neo.ClientNotification.Statement.FeatureDeprecationWarning} {category: DEPRECATION} {title: This feature is deprecated and will be removed in future versions.} {description: The query used a deprecated function: `id`.} {position: line: 1, column: 23, offset: 22} for query: 'MATCH (m:Movie) WHERE ID(m) = $id SET m.plotEmbedding = $embedding'\n"
     ]
    },
    {
     "name": "stdout",
     "output_type": "stream",
     "text": [
      "Updated movie \"Get Shorty\" with embedding.\n",
      "22\n",
      "An agoraphobic psychologist and a female detective must work together to take down a serial killer who copies serial killers from the past.\n",
      "============================\n"
     ]
    },
    {
     "name": "stderr",
     "output_type": "stream",
     "text": [
      "Received notification from DBMS server: {severity: WARNING} {code: Neo.ClientNotification.Statement.FeatureDeprecationWarning} {category: DEPRECATION} {title: This feature is deprecated and will be removed in future versions.} {description: The query used a deprecated function: `id`.} {position: line: 1, column: 23, offset: 22} for query: 'MATCH (m:Movie) WHERE ID(m) = $id SET m.plotEmbedding = $embedding'\n"
     ]
    },
    {
     "name": "stdout",
     "output_type": "stream",
     "text": [
      "Updated movie \"Copycat\" with embedding.\n",
      "23\n",
      "Professional hit-man Robert Rath wants to fulfill a few more contracts before retiring but unscrupulous ambitious newcomer hit-man Miguel Bain keeps killing Rath's targets.\n",
      "============================\n"
     ]
    },
    {
     "name": "stderr",
     "output_type": "stream",
     "text": [
      "Received notification from DBMS server: {severity: WARNING} {code: Neo.ClientNotification.Statement.FeatureDeprecationWarning} {category: DEPRECATION} {title: This feature is deprecated and will be removed in future versions.} {description: The query used a deprecated function: `id`.} {position: line: 1, column: 23, offset: 22} for query: 'MATCH (m:Movie) WHERE ID(m) = $id SET m.plotEmbedding = $embedding'\n"
     ]
    },
    {
     "name": "stdout",
     "output_type": "stream",
     "text": [
      "Updated movie \"Assassins\" with embedding.\n",
      "24\n",
      "A young bald albino boy with unique powers shakes up the rural community he lives in.\n",
      "============================\n"
     ]
    },
    {
     "name": "stderr",
     "output_type": "stream",
     "text": [
      "Received notification from DBMS server: {severity: WARNING} {code: Neo.ClientNotification.Statement.FeatureDeprecationWarning} {category: DEPRECATION} {title: This feature is deprecated and will be removed in future versions.} {description: The query used a deprecated function: `id`.} {position: line: 1, column: 23, offset: 22} for query: 'MATCH (m:Movie) WHERE ID(m) = $id SET m.plotEmbedding = $embedding'\n"
     ]
    },
    {
     "name": "stdout",
     "output_type": "stream",
     "text": [
      "Updated movie \"Powder\" with embedding.\n",
      "25\n",
      "Ben Sanderson, an alcoholic Hollywood screenwriter who lost everything because of his drinking, arrives in Las Vegas to drink himself to death. There, he meets and forms an uneasy friendship and non-interference pact with prostitute Sera.\n",
      "============================\n"
     ]
    },
    {
     "name": "stderr",
     "output_type": "stream",
     "text": [
      "Received notification from DBMS server: {severity: WARNING} {code: Neo.ClientNotification.Statement.FeatureDeprecationWarning} {category: DEPRECATION} {title: This feature is deprecated and will be removed in future versions.} {description: The query used a deprecated function: `id`.} {position: line: 1, column: 23, offset: 22} for query: 'MATCH (m:Movie) WHERE ID(m) = $id SET m.plotEmbedding = $embedding'\n"
     ]
    },
    {
     "name": "stdout",
     "output_type": "stream",
     "text": [
      "Updated movie \"Leaving Las Vegas\" with embedding.\n",
      "26\n",
      "The evil Iago pretends to be friend of Othello in order to manipulate him to serve his own end in the film version of this Shakespeare classic.\n",
      "============================\n"
     ]
    },
    {
     "name": "stderr",
     "output_type": "stream",
     "text": [
      "Received notification from DBMS server: {severity: WARNING} {code: Neo.ClientNotification.Statement.FeatureDeprecationWarning} {category: DEPRECATION} {title: This feature is deprecated and will be removed in future versions.} {description: The query used a deprecated function: `id`.} {position: line: 1, column: 23, offset: 22} for query: 'MATCH (m:Movie) WHERE ID(m) = $id SET m.plotEmbedding = $embedding'\n"
     ]
    },
    {
     "name": "stdout",
     "output_type": "stream",
     "text": [
      "Updated movie \"Othello\" with embedding.\n",
      "27\n",
      "Four 12-year-old girls grow up together during an eventful small-town summer in 1970.\n",
      "============================\n"
     ]
    },
    {
     "name": "stderr",
     "output_type": "stream",
     "text": [
      "Received notification from DBMS server: {severity: WARNING} {code: Neo.ClientNotification.Statement.FeatureDeprecationWarning} {category: DEPRECATION} {title: This feature is deprecated and will be removed in future versions.} {description: The query used a deprecated function: `id`.} {position: line: 1, column: 23, offset: 22} for query: 'MATCH (m:Movie) WHERE ID(m) = $id SET m.plotEmbedding = $embedding'\n"
     ]
    },
    {
     "name": "stdout",
     "output_type": "stream",
     "text": [
      "Updated movie \"Now and Then\" with embedding.\n",
      "28\n",
      "Eight years earlier, Anne Elliot, the daughter of a financially troubled aristocratic family, was persuaded to break off her engagement to Frederick Wentworth, a young seaman, who, though ...\n",
      "============================\n"
     ]
    },
    {
     "name": "stderr",
     "output_type": "stream",
     "text": [
      "Received notification from DBMS server: {severity: WARNING} {code: Neo.ClientNotification.Statement.FeatureDeprecationWarning} {category: DEPRECATION} {title: This feature is deprecated and will be removed in future versions.} {description: The query used a deprecated function: `id`.} {position: line: 1, column: 23, offset: 22} for query: 'MATCH (m:Movie) WHERE ID(m) = $id SET m.plotEmbedding = $embedding'\n"
     ]
    },
    {
     "name": "stdout",
     "output_type": "stream",
     "text": [
      "Updated movie \"Persuasion\" with embedding.\n",
      "29\n",
      "A scientist in a surrealist society kidnaps children to steal their dreams, hoping that they slow his aging process.\n",
      "============================\n"
     ]
    },
    {
     "name": "stderr",
     "output_type": "stream",
     "text": [
      "Received notification from DBMS server: {severity: WARNING} {code: Neo.ClientNotification.Statement.FeatureDeprecationWarning} {category: DEPRECATION} {title: This feature is deprecated and will be removed in future versions.} {description: The query used a deprecated function: `id`.} {position: line: 1, column: 23, offset: 22} for query: 'MATCH (m:Movie) WHERE ID(m) = $id SET m.plotEmbedding = $embedding'\n"
     ]
    },
    {
     "name": "stdout",
     "output_type": "stream",
     "text": [
      "Updated movie \"City of Lost Children, The (Cité des enfants perdus, La)\" with embedding.\n",
      "30\n",
      "A provincial boy related to a Shanghai crime family is recruited by his uncle into cosmopolitan Shanghai in the 1930s to be a servant to a ganglord's mistress.\n",
      "============================\n"
     ]
    },
    {
     "name": "stderr",
     "output_type": "stream",
     "text": [
      "Received notification from DBMS server: {severity: WARNING} {code: Neo.ClientNotification.Statement.FeatureDeprecationWarning} {category: DEPRECATION} {title: This feature is deprecated and will be removed in future versions.} {description: The query used a deprecated function: `id`.} {position: line: 1, column: 23, offset: 22} for query: 'MATCH (m:Movie) WHERE ID(m) = $id SET m.plotEmbedding = $embedding'\n"
     ]
    },
    {
     "name": "stdout",
     "output_type": "stream",
     "text": [
      "Updated movie \"Shanghai Triad (Yao a yao yao dao waipo qiao)\" with embedding.\n",
      "31\n",
      "An ex-Marine turned teacher struggles to connect with her students in an inner city school.\n",
      "============================\n"
     ]
    },
    {
     "name": "stderr",
     "output_type": "stream",
     "text": [
      "Received notification from DBMS server: {severity: WARNING} {code: Neo.ClientNotification.Statement.FeatureDeprecationWarning} {category: DEPRECATION} {title: This feature is deprecated and will be removed in future versions.} {description: The query used a deprecated function: `id`.} {position: line: 1, column: 23, offset: 22} for query: 'MATCH (m:Movie) WHERE ID(m) = $id SET m.plotEmbedding = $embedding'\n"
     ]
    },
    {
     "name": "stdout",
     "output_type": "stream",
     "text": [
      "Updated movie \"Dangerous Minds\" with embedding.\n",
      "32\n",
      "In a future world devastated by disease, a convict is sent back in time to gather information about the man-made virus that wiped out most of the human population on the planet.\n",
      "============================\n"
     ]
    },
    {
     "name": "stderr",
     "output_type": "stream",
     "text": [
      "Received notification from DBMS server: {severity: WARNING} {code: Neo.ClientNotification.Statement.FeatureDeprecationWarning} {category: DEPRECATION} {title: This feature is deprecated and will be removed in future versions.} {description: The query used a deprecated function: `id`.} {position: line: 1, column: 23, offset: 22} for query: 'MATCH (m:Movie) WHERE ID(m) = $id SET m.plotEmbedding = $embedding'\n"
     ]
    },
    {
     "name": "stdout",
     "output_type": "stream",
     "text": [
      "Updated movie \"Twelve Monkeys (a.k.a. 12 Monkeys)\" with embedding.\n",
      "33\n",
      "Babe, a pig raised by sheepdogs, learns to herd sheep with a little help from Farmer Hoggett.\n",
      "============================\n"
     ]
    },
    {
     "name": "stderr",
     "output_type": "stream",
     "text": [
      "Received notification from DBMS server: {severity: WARNING} {code: Neo.ClientNotification.Statement.FeatureDeprecationWarning} {category: DEPRECATION} {title: This feature is deprecated and will be removed in future versions.} {description: The query used a deprecated function: `id`.} {position: line: 1, column: 23, offset: 22} for query: 'MATCH (m:Movie) WHERE ID(m) = $id SET m.plotEmbedding = $embedding'\n"
     ]
    },
    {
     "name": "stdout",
     "output_type": "stream",
     "text": [
      "Updated movie \"Babe\" with embedding.\n",
      "34\n",
      "The platonic relationship between artist Dora Carrington and writer Lytton Strachey in the early 20th century.\n",
      "============================\n"
     ]
    },
    {
     "name": "stderr",
     "output_type": "stream",
     "text": [
      "Received notification from DBMS server: {severity: WARNING} {code: Neo.ClientNotification.Statement.FeatureDeprecationWarning} {category: DEPRECATION} {title: This feature is deprecated and will be removed in future versions.} {description: The query used a deprecated function: `id`.} {position: line: 1, column: 23, offset: 22} for query: 'MATCH (m:Movie) WHERE ID(m) = $id SET m.plotEmbedding = $embedding'\n"
     ]
    },
    {
     "name": "stdout",
     "output_type": "stream",
     "text": [
      "Updated movie \"Carrington\" with embedding.\n",
      "35\n",
      "A nun, while comforting a convicted killer on death row, empathizes with both the killer and his victim's families.\n",
      "============================\n"
     ]
    },
    {
     "name": "stderr",
     "output_type": "stream",
     "text": [
      "Received notification from DBMS server: {severity: WARNING} {code: Neo.ClientNotification.Statement.FeatureDeprecationWarning} {category: DEPRECATION} {title: This feature is deprecated and will be removed in future versions.} {description: The query used a deprecated function: `id`.} {position: line: 1, column: 23, offset: 22} for query: 'MATCH (m:Movie) WHERE ID(m) = $id SET m.plotEmbedding = $embedding'\n"
     ]
    },
    {
     "name": "stdout",
     "output_type": "stream",
     "text": [
      "Updated movie \"Dead Man Walking\" with embedding.\n",
      "36\n",
      "A young Russian boy, Thomas Minton, travels to New York as a passenger on a Russian freighter. Close to Ellis Island he gets off and thus starts his journey to America the same way as all ...\n",
      "============================\n"
     ]
    },
    {
     "name": "stderr",
     "output_type": "stream",
     "text": [
      "Received notification from DBMS server: {severity: WARNING} {code: Neo.ClientNotification.Statement.FeatureDeprecationWarning} {category: DEPRECATION} {title: This feature is deprecated and will be removed in future versions.} {description: The query used a deprecated function: `id`.} {position: line: 1, column: 23, offset: 22} for query: 'MATCH (m:Movie) WHERE ID(m) = $id SET m.plotEmbedding = $embedding'\n"
     ]
    },
    {
     "name": "stdout",
     "output_type": "stream",
     "text": [
      "Updated movie \"Across the Sea of Time\" with embedding.\n",
      "37\n",
      "Alyssa (a rich girl) and Amanda (an orphan) are two little girls who are identical, but complete strangers, that accidentally meet one day. In an attempt to stop Alyssa's father from ...\n",
      "============================\n"
     ]
    },
    {
     "name": "stderr",
     "output_type": "stream",
     "text": [
      "Received notification from DBMS server: {severity: WARNING} {code: Neo.ClientNotification.Statement.FeatureDeprecationWarning} {category: DEPRECATION} {title: This feature is deprecated and will be removed in future versions.} {description: The query used a deprecated function: `id`.} {position: line: 1, column: 23, offset: 22} for query: 'MATCH (m:Movie) WHERE ID(m) = $id SET m.plotEmbedding = $embedding'\n"
     ]
    },
    {
     "name": "stdout",
     "output_type": "stream",
     "text": [
      "Updated movie \"It Takes Two\" with embedding.\n",
      "38\n",
      "A rich high school student tries to boost a new pupil's popularity, but reckons without affairs of the heart getting in the way.\n",
      "============================\n"
     ]
    },
    {
     "name": "stderr",
     "output_type": "stream",
     "text": [
      "Received notification from DBMS server: {severity: WARNING} {code: Neo.ClientNotification.Statement.FeatureDeprecationWarning} {category: DEPRECATION} {title: This feature is deprecated and will be removed in future versions.} {description: The query used a deprecated function: `id`.} {position: line: 1, column: 23, offset: 22} for query: 'MATCH (m:Movie) WHERE ID(m) = $id SET m.plotEmbedding = $embedding'\n"
     ]
    },
    {
     "name": "stdout",
     "output_type": "stream",
     "text": [
      "Updated movie \"Clueless\" with embedding.\n",
      "39\n",
      "A South-African preacher goes to search for his wayward son who has committed a crime in the big city.\n",
      "============================\n"
     ]
    },
    {
     "name": "stderr",
     "output_type": "stream",
     "text": [
      "Received notification from DBMS server: {severity: WARNING} {code: Neo.ClientNotification.Statement.FeatureDeprecationWarning} {category: DEPRECATION} {title: This feature is deprecated and will be removed in future versions.} {description: The query used a deprecated function: `id`.} {position: line: 1, column: 23, offset: 22} for query: 'MATCH (m:Movie) WHERE ID(m) = $id SET m.plotEmbedding = $embedding'\n"
     ]
    },
    {
     "name": "stdout",
     "output_type": "stream",
     "text": [
      "Updated movie \"Cry, the Beloved Country\" with embedding.\n",
      "40\n",
      "The classic Shakespearean play about a murderously scheming king staged in an alternative fascist England setting.\n",
      "============================\n"
     ]
    },
    {
     "name": "stderr",
     "output_type": "stream",
     "text": [
      "Received notification from DBMS server: {severity: WARNING} {code: Neo.ClientNotification.Statement.FeatureDeprecationWarning} {category: DEPRECATION} {title: This feature is deprecated and will be removed in future versions.} {description: The query used a deprecated function: `id`.} {position: line: 1, column: 23, offset: 22} for query: 'MATCH (m:Movie) WHERE ID(m) = $id SET m.plotEmbedding = $embedding'\n"
     ]
    },
    {
     "name": "stdout",
     "output_type": "stream",
     "text": [
      "Updated movie \"Richard III\" with embedding.\n",
      "41\n",
      "A Vietnam vet adjusts to life after the war while trying to support his family, but the chance of a better life may involve crime and bloodshed.\n",
      "============================\n"
     ]
    },
    {
     "name": "stderr",
     "output_type": "stream",
     "text": [
      "Received notification from DBMS server: {severity: WARNING} {code: Neo.ClientNotification.Statement.FeatureDeprecationWarning} {category: DEPRECATION} {title: This feature is deprecated and will be removed in future versions.} {description: The query used a deprecated function: `id`.} {position: line: 1, column: 23, offset: 22} for query: 'MATCH (m:Movie) WHERE ID(m) = $id SET m.plotEmbedding = $embedding'\n"
     ]
    },
    {
     "name": "stdout",
     "output_type": "stream",
     "text": [
      "Updated movie \"Dead Presidents\" with embedding.\n",
      "42\n",
      "The exiled royal physician to King Charles II devotes himself to helping Londoners suffering from the plague, and in the process falls in love with an equally poor woman.\n",
      "============================\n"
     ]
    },
    {
     "name": "stderr",
     "output_type": "stream",
     "text": [
      "Received notification from DBMS server: {severity: WARNING} {code: Neo.ClientNotification.Statement.FeatureDeprecationWarning} {category: DEPRECATION} {title: This feature is deprecated and will be removed in future versions.} {description: The query used a deprecated function: `id`.} {position: line: 1, column: 23, offset: 22} for query: 'MATCH (m:Movie) WHERE ID(m) = $id SET m.plotEmbedding = $embedding'\n"
     ]
    },
    {
     "name": "stdout",
     "output_type": "stream",
     "text": [
      "Updated movie \"Restoration\" with embedding.\n",
      "43\n",
      "Three unknowing martial artists are summoned to a mysterious island to compete in a tournament whose outcome will decide the fate of the world.\n",
      "============================\n"
     ]
    },
    {
     "name": "stderr",
     "output_type": "stream",
     "text": [
      "Received notification from DBMS server: {severity: WARNING} {code: Neo.ClientNotification.Statement.FeatureDeprecationWarning} {category: DEPRECATION} {title: This feature is deprecated and will be removed in future versions.} {description: The query used a deprecated function: `id`.} {position: line: 1, column: 23, offset: 22} for query: 'MATCH (m:Movie) WHERE ID(m) = $id SET m.plotEmbedding = $embedding'\n"
     ]
    },
    {
     "name": "stdout",
     "output_type": "stream",
     "text": [
      "Updated movie \"Mortal Kombat\" with embedding.\n",
      "44\n",
      "Suzanne Stone is an aspiring TV personality who will do anything to be in the spotlight, including enlisting three teenagers to kill her husband.\n",
      "============================\n"
     ]
    },
    {
     "name": "stderr",
     "output_type": "stream",
     "text": [
      "Received notification from DBMS server: {severity: WARNING} {code: Neo.ClientNotification.Statement.FeatureDeprecationWarning} {category: DEPRECATION} {title: This feature is deprecated and will be removed in future versions.} {description: The query used a deprecated function: `id`.} {position: line: 1, column: 23, offset: 22} for query: 'MATCH (m:Movie) WHERE ID(m) = $id SET m.plotEmbedding = $embedding'\n"
     ]
    },
    {
     "name": "stdout",
     "output_type": "stream",
     "text": [
      "Updated movie \"To Die For\" with embedding.\n",
      "45\n",
      "Bride-to-be Finn Dodd hears tales of romance and sorrow from her elders as they construct a quilt.\n",
      "============================\n"
     ]
    },
    {
     "name": "stderr",
     "output_type": "stream",
     "text": [
      "Received notification from DBMS server: {severity: WARNING} {code: Neo.ClientNotification.Statement.FeatureDeprecationWarning} {category: DEPRECATION} {title: This feature is deprecated and will be removed in future versions.} {description: The query used a deprecated function: `id`.} {position: line: 1, column: 23, offset: 22} for query: 'MATCH (m:Movie) WHERE ID(m) = $id SET m.plotEmbedding = $embedding'\n"
     ]
    },
    {
     "name": "stdout",
     "output_type": "stream",
     "text": [
      "Updated movie \"How to Make an American Quilt\" with embedding.\n",
      "46\n",
      "Two detectives, a rookie and a veteran, hunt a serial killer who uses the seven deadly sins as his modus operandi.\n",
      "============================\n"
     ]
    },
    {
     "name": "stderr",
     "output_type": "stream",
     "text": [
      "Received notification from DBMS server: {severity: WARNING} {code: Neo.ClientNotification.Statement.FeatureDeprecationWarning} {category: DEPRECATION} {title: This feature is deprecated and will be removed in future versions.} {description: The query used a deprecated function: `id`.} {position: line: 1, column: 23, offset: 22} for query: 'MATCH (m:Movie) WHERE ID(m) = $id SET m.plotEmbedding = $embedding'\n"
     ]
    },
    {
     "name": "stdout",
     "output_type": "stream",
     "text": [
      "Updated movie \"Seven (a.k.a. Se7en)\" with embedding.\n",
      "47\n",
      "An English soldier and the daughter of an Algonquin chief share a romance when English colonists invade seventeenth-century Virginia.\n",
      "============================\n"
     ]
    },
    {
     "name": "stderr",
     "output_type": "stream",
     "text": [
      "Received notification from DBMS server: {severity: WARNING} {code: Neo.ClientNotification.Statement.FeatureDeprecationWarning} {category: DEPRECATION} {title: This feature is deprecated and will be removed in future versions.} {description: The query used a deprecated function: `id`.} {position: line: 1, column: 23, offset: 22} for query: 'MATCH (m:Movie) WHERE ID(m) = $id SET m.plotEmbedding = $embedding'\n"
     ]
    },
    {
     "name": "stdout",
     "output_type": "stream",
     "text": [
      "Updated movie \"Pocahontas\" with embedding.\n",
      "48\n",
      "An uptight and conservative woman, working on tenure as a literacy professor at a large urban university, finds herself strangely attracted to a free-spirited, liberal woman who works at a local carnival that comes to town.\n",
      "============================\n"
     ]
    },
    {
     "name": "stderr",
     "output_type": "stream",
     "text": [
      "Received notification from DBMS server: {severity: WARNING} {code: Neo.ClientNotification.Statement.FeatureDeprecationWarning} {category: DEPRECATION} {title: This feature is deprecated and will be removed in future versions.} {description: The query used a deprecated function: `id`.} {position: line: 1, column: 23, offset: 22} for query: 'MATCH (m:Movie) WHERE ID(m) = $id SET m.plotEmbedding = $embedding'\n"
     ]
    },
    {
     "name": "stdout",
     "output_type": "stream",
     "text": [
      "Updated movie \"When Night Is Falling\" with embedding.\n",
      "49\n",
      "A sole survivor tells of the twisty events leading up to a horrific gun battle on a boat, which begin when five criminals meet at a seemingly random police lineup.\n",
      "============================\n"
     ]
    },
    {
     "name": "stderr",
     "output_type": "stream",
     "text": [
      "Received notification from DBMS server: {severity: WARNING} {code: Neo.ClientNotification.Statement.FeatureDeprecationWarning} {category: DEPRECATION} {title: This feature is deprecated and will be removed in future versions.} {description: The query used a deprecated function: `id`.} {position: line: 1, column: 23, offset: 22} for query: 'MATCH (m:Movie) WHERE ID(m) = $id SET m.plotEmbedding = $embedding'\n"
     ]
    },
    {
     "name": "stdout",
     "output_type": "stream",
     "text": [
      "Updated movie \"Usual Suspects, The\" with embedding.\n",
      "50\n",
      "When he discovers his adopted son is a genius, a New York sportswriter seeks out the boy's birth mother: a prostitute.\n",
      "============================\n"
     ]
    },
    {
     "name": "stderr",
     "output_type": "stream",
     "text": [
      "Received notification from DBMS server: {severity: WARNING} {code: Neo.ClientNotification.Statement.FeatureDeprecationWarning} {category: DEPRECATION} {title: This feature is deprecated and will be removed in future versions.} {description: The query used a deprecated function: `id`.} {position: line: 1, column: 23, offset: 22} for query: 'MATCH (m:Movie) WHERE ID(m) = $id SET m.plotEmbedding = $embedding'\n"
     ]
    },
    {
     "name": "stdout",
     "output_type": "stream",
     "text": [
      "Updated movie \"Mighty Aphrodite\" with embedding.\n",
      "51\n",
      "Two Italian racketeers come to Albania just after the fall of the communists to set up a fictive firm and pocket the grants. They need a stooge. They choose an old one in a jail : Spiro. ...\n",
      "============================\n"
     ]
    },
    {
     "name": "stderr",
     "output_type": "stream",
     "text": [
      "Received notification from DBMS server: {severity: WARNING} {code: Neo.ClientNotification.Statement.FeatureDeprecationWarning} {category: DEPRECATION} {title: This feature is deprecated and will be removed in future versions.} {description: The query used a deprecated function: `id`.} {position: line: 1, column: 23, offset: 22} for query: 'MATCH (m:Movie) WHERE ID(m) = $id SET m.plotEmbedding = $embedding'\n"
     ]
    },
    {
     "name": "stdout",
     "output_type": "stream",
     "text": [
      "Updated movie \"Lamerica\" with embedding.\n",
      "52\n",
      "Another Disney underdog sports team of misfit kids (soccer this time) learns to play a new sport and become champions, while building self-esteem, making friends and solving a variety of ...\n",
      "============================\n"
     ]
    },
    {
     "name": "stderr",
     "output_type": "stream",
     "text": [
      "Received notification from DBMS server: {severity: WARNING} {code: Neo.ClientNotification.Statement.FeatureDeprecationWarning} {category: DEPRECATION} {title: This feature is deprecated and will be removed in future versions.} {description: The query used a deprecated function: `id`.} {position: line: 1, column: 23, offset: 22} for query: 'MATCH (m:Movie) WHERE ID(m) = $id SET m.plotEmbedding = $embedding'\n"
     ]
    },
    {
     "name": "stdout",
     "output_type": "stream",
     "text": [
      "Updated movie \"Big Green, The\" with embedding.\n",
      "53\n",
      "Sadie is desperately looking up to her older sister Georgia who is a famous C&W artist. Sadie wants to be a famous artist like her sister, but is always doing everything wrong. Her ...\n",
      "============================\n"
     ]
    },
    {
     "name": "stderr",
     "output_type": "stream",
     "text": [
      "Received notification from DBMS server: {severity: WARNING} {code: Neo.ClientNotification.Statement.FeatureDeprecationWarning} {category: DEPRECATION} {title: This feature is deprecated and will be removed in future versions.} {description: The query used a deprecated function: `id`.} {position: line: 1, column: 23, offset: 22} for query: 'MATCH (m:Movie) WHERE ID(m) = $id SET m.plotEmbedding = $embedding'\n"
     ]
    },
    {
     "name": "stdout",
     "output_type": "stream",
     "text": [
      "Updated movie \"Georgia\" with embedding.\n",
      "54\n",
      "After losing her job, making out with her soon-to-be former boss and finding out that her daughter plans to spend Thanksgiving with her boyfriend, Claudia Larson faces spending the holiday with her family.\n",
      "============================\n"
     ]
    },
    {
     "name": "stderr",
     "output_type": "stream",
     "text": [
      "Received notification from DBMS server: {severity: WARNING} {code: Neo.ClientNotification.Statement.FeatureDeprecationWarning} {category: DEPRECATION} {title: This feature is deprecated and will be removed in future versions.} {description: The query used a deprecated function: `id`.} {position: line: 1, column: 23, offset: 22} for query: 'MATCH (m:Movie) WHERE ID(m) = $id SET m.plotEmbedding = $embedding'\n"
     ]
    },
    {
     "name": "stdout",
     "output_type": "stream",
     "text": [
      "Updated movie \"Home for the Holidays\" with embedding.\n",
      "55\n",
      "Simple Italian postman learns to love poetry while delivering mail to a famous poet; he uses this to woo local beauty Beatrice.\n",
      "============================\n"
     ]
    },
    {
     "name": "stderr",
     "output_type": "stream",
     "text": [
      "Received notification from DBMS server: {severity: WARNING} {code: Neo.ClientNotification.Statement.FeatureDeprecationWarning} {category: DEPRECATION} {title: This feature is deprecated and will be removed in future versions.} {description: The query used a deprecated function: `id`.} {position: line: 1, column: 23, offset: 22} for query: 'MATCH (m:Movie) WHERE ID(m) = $id SET m.plotEmbedding = $embedding'\n"
     ]
    },
    {
     "name": "stdout",
     "output_type": "stream",
     "text": [
      "Updated movie \"Postman, The (Postino, Il)\" with embedding.\n",
      "56\n",
      "The year is 1952, in Quebec City. Rachel, 16, unmarried, and pregnant, works in the church. Filled with shame, she unburdens her guilt to a young priest, under the confidentiality of the ...\n",
      "============================\n"
     ]
    },
    {
     "name": "stderr",
     "output_type": "stream",
     "text": [
      "Received notification from DBMS server: {severity: WARNING} {code: Neo.ClientNotification.Statement.FeatureDeprecationWarning} {category: DEPRECATION} {title: This feature is deprecated and will be removed in future versions.} {description: The query used a deprecated function: `id`.} {position: line: 1, column: 23, offset: 22} for query: 'MATCH (m:Movie) WHERE ID(m) = $id SET m.plotEmbedding = $embedding'\n"
     ]
    },
    {
     "name": "stdout",
     "output_type": "stream",
     "text": [
      "Updated movie \"Confessional, The (Confessionnal, Le)\" with embedding.\n",
      "57\n",
      "On his ninth birthday a boy receives many presents. Two of them first seem to be less important: an old cupboard from his brother and a little Indian figure made of plastic from his best ...\n",
      "============================\n"
     ]
    },
    {
     "name": "stderr",
     "output_type": "stream",
     "text": [
      "Received notification from DBMS server: {severity: WARNING} {code: Neo.ClientNotification.Statement.FeatureDeprecationWarning} {category: DEPRECATION} {title: This feature is deprecated and will be removed in future versions.} {description: The query used a deprecated function: `id`.} {position: line: 1, column: 23, offset: 22} for query: 'MATCH (m:Movie) WHERE ID(m) = $id SET m.plotEmbedding = $embedding'\n"
     ]
    },
    {
     "name": "stdout",
     "output_type": "stream",
     "text": [
      "Updated movie \"Indian in the Cupboard, The\" with embedding.\n",
      "58\n",
      "When the courts fail to keep behind bars the man who raped and murdered her daughter, a woman seeks her own form of justice.\n",
      "============================\n"
     ]
    },
    {
     "name": "stderr",
     "output_type": "stream",
     "text": [
      "Received notification from DBMS server: {severity: WARNING} {code: Neo.ClientNotification.Statement.FeatureDeprecationWarning} {category: DEPRECATION} {title: This feature is deprecated and will be removed in future versions.} {description: The query used a deprecated function: `id`.} {position: line: 1, column: 23, offset: 22} for query: 'MATCH (m:Movie) WHERE ID(m) = $id SET m.plotEmbedding = $embedding'\n"
     ]
    },
    {
     "name": "stdout",
     "output_type": "stream",
     "text": [
      "Updated movie \"Eye for an Eye\" with embedding.\n",
      "59\n",
      "A frustrated composer finds fulfillment as a high school music teacher.\n",
      "============================\n"
     ]
    },
    {
     "name": "stderr",
     "output_type": "stream",
     "text": [
      "Received notification from DBMS server: {severity: WARNING} {code: Neo.ClientNotification.Statement.FeatureDeprecationWarning} {category: DEPRECATION} {title: This feature is deprecated and will be removed in future versions.} {description: The query used a deprecated function: `id`.} {position: line: 1, column: 23, offset: 22} for query: 'MATCH (m:Movie) WHERE ID(m) = $id SET m.plotEmbedding = $embedding'\n"
     ]
    },
    {
     "name": "stdout",
     "output_type": "stream",
     "text": [
      "Updated movie \"Mr. Holland's Opus\" with embedding.\n",
      "60\n",
      "Don't Be a Menace to South Central While Drinking your Juice in the Hood is a parody of several U.S. films about being in the 'Hood', for instance Boyz n the Hood, South Central, ...\n",
      "============================\n"
     ]
    },
    {
     "name": "stderr",
     "output_type": "stream",
     "text": [
      "Received notification from DBMS server: {severity: WARNING} {code: Neo.ClientNotification.Statement.FeatureDeprecationWarning} {category: DEPRECATION} {title: This feature is deprecated and will be removed in future versions.} {description: The query used a deprecated function: `id`.} {position: line: 1, column: 23, offset: 22} for query: 'MATCH (m:Movie) WHERE ID(m) = $id SET m.plotEmbedding = $embedding'\n"
     ]
    },
    {
     "name": "stdout",
     "output_type": "stream",
     "text": [
      "Updated movie \"Don't Be a Menace to South Central While Drinking Your Juice in the Hood\" with embedding.\n",
      "61\n",
      "Frank O'Brien, a petty thief, and his 7-year-long girlfriend Roz want to put an end to their unsteady lifestyle and just do that _last_ job, which involves stealing a valuable painting. ...\n",
      "============================\n"
     ]
    },
    {
     "name": "stderr",
     "output_type": "stream",
     "text": [
      "Received notification from DBMS server: {severity: WARNING} {code: Neo.ClientNotification.Statement.FeatureDeprecationWarning} {category: DEPRECATION} {title: This feature is deprecated and will be removed in future versions.} {description: The query used a deprecated function: `id`.} {position: line: 1, column: 23, offset: 22} for query: 'MATCH (m:Movie) WHERE ID(m) = $id SET m.plotEmbedding = $embedding'\n"
     ]
    },
    {
     "name": "stdout",
     "output_type": "stream",
     "text": [
      "Updated movie \"Two if by Sea\" with embedding.\n",
      "62\n",
      "Moronic best friends get themselves locked inside the Bio-Dome, a science experiment, along with a group of environmental scientists for one year.\n",
      "============================\n"
     ]
    },
    {
     "name": "stderr",
     "output_type": "stream",
     "text": [
      "Received notification from DBMS server: {severity: WARNING} {code: Neo.ClientNotification.Statement.FeatureDeprecationWarning} {category: DEPRECATION} {title: This feature is deprecated and will be removed in future versions.} {description: The query used a deprecated function: `id`.} {position: line: 1, column: 23, offset: 22} for query: 'MATCH (m:Movie) WHERE ID(m) = $id SET m.plotEmbedding = $embedding'\n"
     ]
    },
    {
     "name": "stdout",
     "output_type": "stream",
     "text": [
      "Updated movie \"Bio-Dome\" with embedding.\n",
      "63\n",
      "Jobe is resuscitated by Jonathan Walker. He wants Jobe to create a special computer chip that would connect all the computers in the world into one network, which Walker would control and ...\n",
      "============================\n"
     ]
    },
    {
     "name": "stderr",
     "output_type": "stream",
     "text": [
      "Received notification from DBMS server: {severity: WARNING} {code: Neo.ClientNotification.Statement.FeatureDeprecationWarning} {category: DEPRECATION} {title: This feature is deprecated and will be removed in future versions.} {description: The query used a deprecated function: `id`.} {position: line: 1, column: 23, offset: 22} for query: 'MATCH (m:Movie) WHERE ID(m) = $id SET m.plotEmbedding = $embedding'\n"
     ]
    },
    {
     "name": "stdout",
     "output_type": "stream",
     "text": [
      "Updated movie \"Lawnmower Man 2: Beyond Cyberspace\" with embedding.\n",
      "64\n",
      "After learning of her husband's infidelities, a housewife invites an itinerant lesbian to move in with them. None of their lives will ever be the same again.\n",
      "============================\n"
     ]
    },
    {
     "name": "stderr",
     "output_type": "stream",
     "text": [
      "Received notification from DBMS server: {severity: WARNING} {code: Neo.ClientNotification.Statement.FeatureDeprecationWarning} {category: DEPRECATION} {title: This feature is deprecated and will be removed in future versions.} {description: The query used a deprecated function: `id`.} {position: line: 1, column: 23, offset: 22} for query: 'MATCH (m:Movie) WHERE ID(m) = $id SET m.plotEmbedding = $embedding'\n"
     ]
    },
    {
     "name": "stdout",
     "output_type": "stream",
     "text": [
      "Updated movie \"French Twist (Gazon maudit)\" with embedding.\n",
      "65\n",
      "Two homies, Smokey and Craig, smoke a dope dealer's weed and try to figure a way to get the $200 they owe to the dealer by ten p.m. that same night. In that time, they smoke more weed, get jacked, and they get shot at in a drive-by.\n",
      "============================\n"
     ]
    },
    {
     "name": "stderr",
     "output_type": "stream",
     "text": [
      "Received notification from DBMS server: {severity: WARNING} {code: Neo.ClientNotification.Statement.FeatureDeprecationWarning} {category: DEPRECATION} {title: This feature is deprecated and will be removed in future versions.} {description: The query used a deprecated function: `id`.} {position: line: 1, column: 23, offset: 22} for query: 'MATCH (m:Movie) WHERE ID(m) = $id SET m.plotEmbedding = $embedding'\n"
     ]
    },
    {
     "name": "stdout",
     "output_type": "stream",
     "text": [
      "Updated movie \"Friday\" with embedding.\n",
      "66\n",
      "Two criminals and their hostages unknowingly seek temporary refuge in an establishment populated by vampires, with chaotic results.\n",
      "============================\n"
     ]
    },
    {
     "name": "stderr",
     "output_type": "stream",
     "text": [
      "Received notification from DBMS server: {severity: WARNING} {code: Neo.ClientNotification.Statement.FeatureDeprecationWarning} {category: DEPRECATION} {title: This feature is deprecated and will be removed in future versions.} {description: The query used a deprecated function: `id`.} {position: line: 1, column: 23, offset: 22} for query: 'MATCH (m:Movie) WHERE ID(m) = $id SET m.plotEmbedding = $embedding'\n"
     ]
    },
    {
     "name": "stdout",
     "output_type": "stream",
     "text": [
      "Updated movie \"From Dusk Till Dawn\" with embedding.\n",
      "67\n",
      "Max Kirkpatrick is a cop who protects Kate McQuean, a civil law attorney, from a renegade KGB team out to terminate her.\n",
      "============================\n"
     ]
    },
    {
     "name": "stderr",
     "output_type": "stream",
     "text": [
      "Received notification from DBMS server: {severity: WARNING} {code: Neo.ClientNotification.Statement.FeatureDeprecationWarning} {category: DEPRECATION} {title: This feature is deprecated and will be removed in future versions.} {description: The query used a deprecated function: `id`.} {position: line: 1, column: 23, offset: 22} for query: 'MATCH (m:Movie) WHERE ID(m) = $id SET m.plotEmbedding = $embedding'\n"
     ]
    },
    {
     "name": "stdout",
     "output_type": "stream",
     "text": [
      "Updated movie \"Fair Game\" with embedding.\n",
      "68\n",
      "Following graduation, a handful of college students do nothing and talk about it wittily.\n",
      "============================\n"
     ]
    },
    {
     "name": "stderr",
     "output_type": "stream",
     "text": [
      "Received notification from DBMS server: {severity: WARNING} {code: Neo.ClientNotification.Statement.FeatureDeprecationWarning} {category: DEPRECATION} {title: This feature is deprecated and will be removed in future versions.} {description: The query used a deprecated function: `id`.} {position: line: 1, column: 23, offset: 22} for query: 'MATCH (m:Movie) WHERE ID(m) = $id SET m.plotEmbedding = $embedding'\n"
     ]
    },
    {
     "name": "stdout",
     "output_type": "stream",
     "text": [
      "Updated movie \"Kicking and Screaming\" with embedding.\n",
      "69\n",
      "Henri Fortin is poor and iliterate former boxer. Ziman is rich Jewish lawyer from Paris. During WWII they meet when Fortin agrees to drive Ziman's family to Switzerland. Intrigued by Victor...\n",
      "============================\n"
     ]
    },
    {
     "name": "stderr",
     "output_type": "stream",
     "text": [
      "Received notification from DBMS server: {severity: WARNING} {code: Neo.ClientNotification.Statement.FeatureDeprecationWarning} {category: DEPRECATION} {title: This feature is deprecated and will be removed in future versions.} {description: The query used a deprecated function: `id`.} {position: line: 1, column: 23, offset: 22} for query: 'MATCH (m:Movie) WHERE ID(m) = $id SET m.plotEmbedding = $embedding'\n"
     ]
    },
    {
     "name": "stdout",
     "output_type": "stream",
     "text": [
      "Updated movie \"Misérables, Les\" with embedding.\n",
      "70\n",
      "Romantic drama about a young career girl who is swept off her feet by a shy florist, who fell in love with her after one glimpse through a shadowy window.\n",
      "============================\n"
     ]
    },
    {
     "name": "stderr",
     "output_type": "stream",
     "text": [
      "Received notification from DBMS server: {severity: WARNING} {code: Neo.ClientNotification.Statement.FeatureDeprecationWarning} {category: DEPRECATION} {title: This feature is deprecated and will be removed in future versions.} {description: The query used a deprecated function: `id`.} {position: line: 1, column: 23, offset: 22} for query: 'MATCH (m:Movie) WHERE ID(m) = $id SET m.plotEmbedding = $embedding'\n"
     ]
    },
    {
     "name": "stdout",
     "output_type": "stream",
     "text": [
      "Updated movie \"Bed of Roses\" with embedding.\n",
      "71\n",
      "(SIRIUS 6B, Year 2078) On a distant mining planet ravaged by a decade of war, scientists have created the perfect weapon: a blade-wielding, self-replicating race of killing devices known as...\n",
      "============================\n"
     ]
    },
    {
     "name": "stderr",
     "output_type": "stream",
     "text": [
      "Received notification from DBMS server: {severity: WARNING} {code: Neo.ClientNotification.Statement.FeatureDeprecationWarning} {category: DEPRECATION} {title: This feature is deprecated and will be removed in future versions.} {description: The query used a deprecated function: `id`.} {position: line: 1, column: 23, offset: 22} for query: 'MATCH (m:Movie) WHERE ID(m) = $id SET m.plotEmbedding = $embedding'\n"
     ]
    },
    {
     "name": "stdout",
     "output_type": "stream",
     "text": [
      "Updated movie \"Screamers\" with embedding.\n",
      "72\n",
      "A look into the many lives of Christa Päffgen, otherwise known as Nico; from cutie German mädchen to the first of the supermodels, to glamorous diva of the Velvet Underground, to cult item,...\n",
      "============================\n"
     ]
    },
    {
     "name": "stderr",
     "output_type": "stream",
     "text": [
      "Received notification from DBMS server: {severity: WARNING} {code: Neo.ClientNotification.Statement.FeatureDeprecationWarning} {category: DEPRECATION} {title: This feature is deprecated and will be removed in future versions.} {description: The query used a deprecated function: `id`.} {position: line: 1, column: 23, offset: 22} for query: 'MATCH (m:Movie) WHERE ID(m) = $id SET m.plotEmbedding = $embedding'\n"
     ]
    },
    {
     "name": "stdout",
     "output_type": "stream",
     "text": [
      "Updated movie \"Nico Icon\" with embedding.\n",
      "73\n",
      "Freddie Gale is a seedy jeweler who has sworn to kill the drunk driver who killed his little girl.\n",
      "============================\n"
     ]
    },
    {
     "name": "stderr",
     "output_type": "stream",
     "text": [
      "Received notification from DBMS server: {severity: WARNING} {code: Neo.ClientNotification.Statement.FeatureDeprecationWarning} {category: DEPRECATION} {title: This feature is deprecated and will be removed in future versions.} {description: The query used a deprecated function: `id`.} {position: line: 1, column: 23, offset: 22} for query: 'MATCH (m:Movie) WHERE ID(m) = $id SET m.plotEmbedding = $embedding'\n"
     ]
    },
    {
     "name": "stdout",
     "output_type": "stream",
     "text": [
      "Updated movie \"Crossing Guard, The\" with embedding.\n",
      "74\n",
      "When Annie Laird is selected as a juror in a big Mafia trial, she is forced by someone known as The Teacher to persuade the other jurors to vote not guilty. He threatens to kill her son...\n",
      "============================\n"
     ]
    },
    {
     "name": "stderr",
     "output_type": "stream",
     "text": [
      "Received notification from DBMS server: {severity: WARNING} {code: Neo.ClientNotification.Statement.FeatureDeprecationWarning} {category: DEPRECATION} {title: This feature is deprecated and will be removed in future versions.} {description: The query used a deprecated function: `id`.} {position: line: 1, column: 23, offset: 22} for query: 'MATCH (m:Movie) WHERE ID(m) = $id SET m.plotEmbedding = $embedding'\n"
     ]
    },
    {
     "name": "stdout",
     "output_type": "stream",
     "text": [
      "Updated movie \"Juror, The\" with embedding.\n",
      "75\n",
      "Several people try to take advantage of a little girl's innocence to hustle money her mom gave to her to buy a goldfish with.\n",
      "============================\n"
     ]
    },
    {
     "name": "stderr",
     "output_type": "stream",
     "text": [
      "Received notification from DBMS server: {severity: WARNING} {code: Neo.ClientNotification.Statement.FeatureDeprecationWarning} {category: DEPRECATION} {title: This feature is deprecated and will be removed in future versions.} {description: The query used a deprecated function: `id`.} {position: line: 1, column: 23, offset: 22} for query: 'MATCH (m:Movie) WHERE ID(m) = $id SET m.plotEmbedding = $embedding'\n"
     ]
    },
    {
     "name": "stdout",
     "output_type": "stream",
     "text": [
      "Updated movie \"White Balloon, The (Badkonake sefid)\" with embedding.\n",
      "76\n",
      "Five different criminals face imminent death after botching a job quite badly.\n",
      "============================\n"
     ]
    },
    {
     "name": "stderr",
     "output_type": "stream",
     "text": [
      "Received notification from DBMS server: {severity: WARNING} {code: Neo.ClientNotification.Statement.FeatureDeprecationWarning} {category: DEPRECATION} {title: This feature is deprecated and will be removed in future versions.} {description: The query used a deprecated function: `id`.} {position: line: 1, column: 23, offset: 22} for query: 'MATCH (m:Movie) WHERE ID(m) = $id SET m.plotEmbedding = $embedding'\n"
     ]
    },
    {
     "name": "stdout",
     "output_type": "stream",
     "text": [
      "Updated movie \"Things to Do in Denver When You're Dead\" with embedding.\n",
      "77\n",
      "A Dutch matron establishes and, for several generations, oversees a close-knit, matriarchal community where feminism and liberalism thrive.\n",
      "============================\n"
     ]
    },
    {
     "name": "stderr",
     "output_type": "stream",
     "text": [
      "Received notification from DBMS server: {severity: WARNING} {code: Neo.ClientNotification.Statement.FeatureDeprecationWarning} {category: DEPRECATION} {title: This feature is deprecated and will be removed in future versions.} {description: The query used a deprecated function: `id`.} {position: line: 1, column: 23, offset: 22} for query: 'MATCH (m:Movie) WHERE ID(m) = $id SET m.plotEmbedding = $embedding'\n"
     ]
    },
    {
     "name": "stdout",
     "output_type": "stream",
     "text": [
      "Updated movie \"Antonia's Line (Antonia)\" with embedding.\n",
      "78\n",
      "A narrator tells the story of his childhood years in a tightly knit Afro-American community in the deep south under racial segregation.\n",
      "============================\n"
     ]
    },
    {
     "name": "stderr",
     "output_type": "stream",
     "text": [
      "Received notification from DBMS server: {severity: WARNING} {code: Neo.ClientNotification.Statement.FeatureDeprecationWarning} {category: DEPRECATION} {title: This feature is deprecated and will be removed in future versions.} {description: The query used a deprecated function: `id`.} {position: line: 1, column: 23, offset: 22} for query: 'MATCH (m:Movie) WHERE ID(m) = $id SET m.plotEmbedding = $embedding'\n"
     ]
    },
    {
     "name": "stdout",
     "output_type": "stream",
     "text": [
      "Updated movie \"Once Upon a Time... When We Were Colored\" with embedding.\n",
      "79\n",
      "Filmed entirely on location in East Hampton, Long Island, Last Summer in the Hamptons concerns a large theatrical family spending the last weekend of their summer together at the ...\n",
      "============================\n"
     ]
    },
    {
     "name": "stderr",
     "output_type": "stream",
     "text": [
      "Received notification from DBMS server: {severity: WARNING} {code: Neo.ClientNotification.Statement.FeatureDeprecationWarning} {category: DEPRECATION} {title: This feature is deprecated and will be removed in future versions.} {description: The query used a deprecated function: `id`.} {position: line: 1, column: 23, offset: 22} for query: 'MATCH (m:Movie) WHERE ID(m) = $id SET m.plotEmbedding = $embedding'\n"
     ]
    },
    {
     "name": "stdout",
     "output_type": "stream",
     "text": [
      "Updated movie \"Last Summer in the Hamptons\" with embedding.\n",
      "80\n",
      "In the 1800s a naturalist marries into a family of British country gentry.\n",
      "============================\n"
     ]
    },
    {
     "name": "stderr",
     "output_type": "stream",
     "text": [
      "Received notification from DBMS server: {severity: WARNING} {code: Neo.ClientNotification.Statement.FeatureDeprecationWarning} {category: DEPRECATION} {title: This feature is deprecated and will be removed in future versions.} {description: The query used a deprecated function: `id`.} {position: line: 1, column: 23, offset: 22} for query: 'MATCH (m:Movie) WHERE ID(m) = $id SET m.plotEmbedding = $embedding'\n"
     ]
    },
    {
     "name": "stdout",
     "output_type": "stream",
     "text": [
      "Updated movie \"Angels and Insects\" with embedding.\n",
      "81\n",
      "Teenage boys discover discipline and camaraderie on an ill-fated sailing voyage.\n",
      "============================\n"
     ]
    },
    {
     "name": "stderr",
     "output_type": "stream",
     "text": [
      "Received notification from DBMS server: {severity: WARNING} {code: Neo.ClientNotification.Statement.FeatureDeprecationWarning} {category: DEPRECATION} {title: This feature is deprecated and will be removed in future versions.} {description: The query used a deprecated function: `id`.} {position: line: 1, column: 23, offset: 22} for query: 'MATCH (m:Movie) WHERE ID(m) = $id SET m.plotEmbedding = $embedding'\n"
     ]
    },
    {
     "name": "stdout",
     "output_type": "stream",
     "text": [
      "Updated movie \"White Squall\" with embedding.\n",
      "82\n",
      "Young boy befriends larcenous orangutan in luxury hotel.\n",
      "============================\n"
     ]
    },
    {
     "name": "stderr",
     "output_type": "stream",
     "text": [
      "Received notification from DBMS server: {severity: WARNING} {code: Neo.ClientNotification.Statement.FeatureDeprecationWarning} {category: DEPRECATION} {title: This feature is deprecated and will be removed in future versions.} {description: The query used a deprecated function: `id`.} {position: line: 1, column: 23, offset: 22} for query: 'MATCH (m:Movie) WHERE ID(m) = $id SET m.plotEmbedding = $embedding'\n"
     ]
    },
    {
     "name": "stdout",
     "output_type": "stream",
     "text": [
      "Updated movie \"Dunston Checks In\" with embedding.\n",
      "83\n",
      "A gubernatorial candidate hires a wormy special assistant whose only job is to make sure the candidate's well-meaning but incompetent brother doesn't ruin the election.\n",
      "============================\n"
     ]
    },
    {
     "name": "stderr",
     "output_type": "stream",
     "text": [
      "Received notification from DBMS server: {severity: WARNING} {code: Neo.ClientNotification.Statement.FeatureDeprecationWarning} {category: DEPRECATION} {title: This feature is deprecated and will be removed in future versions.} {description: The query used a deprecated function: `id`.} {position: line: 1, column: 23, offset: 22} for query: 'MATCH (m:Movie) WHERE ID(m) = $id SET m.plotEmbedding = $embedding'\n"
     ]
    },
    {
     "name": "stdout",
     "output_type": "stream",
     "text": [
      "Updated movie \"Black Sheep\" with embedding.\n",
      "84\n",
      "An unimpressive, every-day man is forced into a situation where he is told to kill a politician to save his kidnapped daughter.\n",
      "============================\n"
     ]
    },
    {
     "name": "stderr",
     "output_type": "stream",
     "text": [
      "Received notification from DBMS server: {severity: WARNING} {code: Neo.ClientNotification.Statement.FeatureDeprecationWarning} {category: DEPRECATION} {title: This feature is deprecated and will be removed in future versions.} {description: The query used a deprecated function: `id`.} {position: line: 1, column: 23, offset: 22} for query: 'MATCH (m:Movie) WHERE ID(m) = $id SET m.plotEmbedding = $embedding'\n"
     ]
    },
    {
     "name": "stdout",
     "output_type": "stream",
     "text": [
      "Updated movie \"Nick of Time\" with embedding.\n",
      "85\n",
      "A housemaid falls in love with Dr. Jekyll and his darkly mysterious counterpart, Mr. Hyde.\n",
      "============================\n"
     ]
    },
    {
     "name": "stderr",
     "output_type": "stream",
     "text": [
      "Received notification from DBMS server: {severity: WARNING} {code: Neo.ClientNotification.Statement.FeatureDeprecationWarning} {category: DEPRECATION} {title: This feature is deprecated and will be removed in future versions.} {description: The query used a deprecated function: `id`.} {position: line: 1, column: 23, offset: 22} for query: 'MATCH (m:Movie) WHERE ID(m) = $id SET m.plotEmbedding = $embedding'\n"
     ]
    },
    {
     "name": "stdout",
     "output_type": "stream",
     "text": [
      "Updated movie \"Mary Reilly\" with embedding.\n",
      "86\n",
      "Maximillian is the only survivor from a race of vampires on a Caribbean Island, and as a vampire, he must find a mate to keep the line from ending. He knows that a child had been born to a ...\n",
      "============================\n"
     ]
    },
    {
     "name": "stderr",
     "output_type": "stream",
     "text": [
      "Received notification from DBMS server: {severity: WARNING} {code: Neo.ClientNotification.Statement.FeatureDeprecationWarning} {category: DEPRECATION} {title: This feature is deprecated and will be removed in future versions.} {description: The query used a deprecated function: `id`.} {position: line: 1, column: 23, offset: 22} for query: 'MATCH (m:Movie) WHERE ID(m) = $id SET m.plotEmbedding = $embedding'\n"
     ]
    },
    {
     "name": "stdout",
     "output_type": "stream",
     "text": [
      "Updated movie \"Vampire in Brooklyn\" with embedding.\n",
      "87\n",
      "A piano player at a crossroads in his life returns home to his friends and their own problems with life and love.\n",
      "============================\n"
     ]
    },
    {
     "name": "stderr",
     "output_type": "stream",
     "text": [
      "Received notification from DBMS server: {severity: WARNING} {code: Neo.ClientNotification.Statement.FeatureDeprecationWarning} {category: DEPRECATION} {title: This feature is deprecated and will be removed in future versions.} {description: The query used a deprecated function: `id`.} {position: line: 1, column: 23, offset: 22} for query: 'MATCH (m:Movie) WHERE ID(m) = $id SET m.plotEmbedding = $embedding'\n"
     ]
    },
    {
     "name": "stdout",
     "output_type": "stream",
     "text": [
      "Updated movie \"Beautiful Girls\" with embedding.\n",
      "88\n",
      "Terrorists steal nuclear warheads from the U.S. military but don't count on a pilot and park ranger spoiling their plans.\n",
      "============================\n"
     ]
    },
    {
     "name": "stderr",
     "output_type": "stream",
     "text": [
      "Received notification from DBMS server: {severity: WARNING} {code: Neo.ClientNotification.Statement.FeatureDeprecationWarning} {category: DEPRECATION} {title: This feature is deprecated and will be removed in future versions.} {description: The query used a deprecated function: `id`.} {position: line: 1, column: 23, offset: 22} for query: 'MATCH (m:Movie) WHERE ID(m) = $id SET m.plotEmbedding = $embedding'\n"
     ]
    },
    {
     "name": "stdout",
     "output_type": "stream",
     "text": [
      "Updated movie \"Broken Arrow\" with embedding.\n",
      "89\n",
      "Out of work actor Joe volunteers to help try and save his sister's local church for the community by putting on a Christmas production of Hamlet, somewhat against the advice of his agent ...\n",
      "============================\n"
     ]
    },
    {
     "name": "stderr",
     "output_type": "stream",
     "text": [
      "Received notification from DBMS server: {severity: WARNING} {code: Neo.ClientNotification.Statement.FeatureDeprecationWarning} {category: DEPRECATION} {title: This feature is deprecated and will be removed in future versions.} {description: The query used a deprecated function: `id`.} {position: line: 1, column: 23, offset: 22} for query: 'MATCH (m:Movie) WHERE ID(m) = $id SET m.plotEmbedding = $embedding'\n"
     ]
    },
    {
     "name": "stdout",
     "output_type": "stream",
     "text": [
      "Updated movie \"In the Bleak Midwinter\" with embedding.\n",
      "90\n",
      "24 hours in the lives of three young men in the French suburbs the day after a violent riot.\n",
      "============================\n"
     ]
    },
    {
     "name": "stderr",
     "output_type": "stream",
     "text": [
      "Received notification from DBMS server: {severity: WARNING} {code: Neo.ClientNotification.Statement.FeatureDeprecationWarning} {category: DEPRECATION} {title: This feature is deprecated and will be removed in future versions.} {description: The query used a deprecated function: `id`.} {position: line: 1, column: 23, offset: 22} for query: 'MATCH (m:Movie) WHERE ID(m) = $id SET m.plotEmbedding = $embedding'\n"
     ]
    },
    {
     "name": "stdout",
     "output_type": "stream",
     "text": [
      "Updated movie \"Hate (Haine, La)\" with embedding.\n",
      "91\n",
      "You've run out of options, no school, no job. Steal a car, smash a shop with a heavy car and reap the proceeds!. This movie is about underground England. The causes, the benefits, and the result of a life of 'crash and carry'.\n",
      "============================\n"
     ]
    },
    {
     "name": "stderr",
     "output_type": "stream",
     "text": [
      "Received notification from DBMS server: {severity: WARNING} {code: Neo.ClientNotification.Statement.FeatureDeprecationWarning} {category: DEPRECATION} {title: This feature is deprecated and will be removed in future versions.} {description: The query used a deprecated function: `id`.} {position: line: 1, column: 23, offset: 22} for query: 'MATCH (m:Movie) WHERE ID(m) = $id SET m.plotEmbedding = $embedding'\n"
     ]
    },
    {
     "name": "stdout",
     "output_type": "stream",
     "text": [
      "Updated movie \"Shopping\" with embedding.\n",
      "92\n",
      "A documentary crew from the BBC arrives in L.A. intent on interviewing Heidi Fleiss, a year after her arrest for running a brothel but before her trial. Several months elapse before the ...\n",
      "============================\n"
     ]
    },
    {
     "name": "stderr",
     "output_type": "stream",
     "text": [
      "Received notification from DBMS server: {severity: WARNING} {code: Neo.ClientNotification.Statement.FeatureDeprecationWarning} {category: DEPRECATION} {title: This feature is deprecated and will be removed in future versions.} {description: The query used a deprecated function: `id`.} {position: line: 1, column: 23, offset: 22} for query: 'MATCH (m:Movie) WHERE ID(m) = $id SET m.plotEmbedding = $embedding'\n"
     ]
    },
    {
     "name": "stdout",
     "output_type": "stream",
     "text": [
      "Updated movie \"Heidi Fleiss: Hollywood Madam\" with embedding.\n",
      "93\n",
      "The accidental shooting of a boy in New York leads to an investigation by the Deputy Mayor, and unexpectedly far-reaching consequences.\n",
      "============================\n"
     ]
    },
    {
     "name": "stderr",
     "output_type": "stream",
     "text": [
      "Received notification from DBMS server: {severity: WARNING} {code: Neo.ClientNotification.Statement.FeatureDeprecationWarning} {category: DEPRECATION} {title: This feature is deprecated and will be removed in future versions.} {description: The query used a deprecated function: `id`.} {position: line: 1, column: 23, offset: 22} for query: 'MATCH (m:Movie) WHERE ID(m) = $id SET m.plotEmbedding = $embedding'\n"
     ]
    },
    {
     "name": "stdout",
     "output_type": "stream",
     "text": [
      "Updated movie \"City Hall\" with embedding.\n",
      "94\n",
      "Focusing on a trio of friends and their elaborate plan to pull off a simple robbery and go on the run.\n",
      "============================\n"
     ]
    },
    {
     "name": "stderr",
     "output_type": "stream",
     "text": [
      "Received notification from DBMS server: {severity: WARNING} {code: Neo.ClientNotification.Statement.FeatureDeprecationWarning} {category: DEPRECATION} {title: This feature is deprecated and will be removed in future versions.} {description: The query used a deprecated function: `id`.} {position: line: 1, column: 23, offset: 22} for query: 'MATCH (m:Movie) WHERE ID(m) = $id SET m.plotEmbedding = $embedding'\n"
     ]
    },
    {
     "name": "stdout",
     "output_type": "stream",
     "text": [
      "Updated movie \"Bottle Rocket\" with embedding.\n",
      "95\n",
      "A single and lonely woman finds the seemingly perfect man to date, but soon regrets it when his deranged and possessive other personality emerges and worst still, she cannot convince anyone else of his Jekyll/Hyde true nature.\n",
      "============================\n"
     ]
    },
    {
     "name": "stderr",
     "output_type": "stream",
     "text": [
      "Received notification from DBMS server: {severity: WARNING} {code: Neo.ClientNotification.Statement.FeatureDeprecationWarning} {category: DEPRECATION} {title: This feature is deprecated and will be removed in future versions.} {description: The query used a deprecated function: `id`.} {position: line: 1, column: 23, offset: 22} for query: 'MATCH (m:Movie) WHERE ID(m) = $id SET m.plotEmbedding = $embedding'\n"
     ]
    },
    {
     "name": "stdout",
     "output_type": "stream",
     "text": [
      "Updated movie \"Mr. Wrong\" with embedding.\n",
      "96\n",
      "Unsuccessfully framed for his wife's murder, Dr. David Krane attempts to find the real culprit by utilizing a new drug that allows him to experience the memories of other people first-hand....\n",
      "============================\n"
     ]
    },
    {
     "name": "stderr",
     "output_type": "stream",
     "text": [
      "Received notification from DBMS server: {severity: WARNING} {code: Neo.ClientNotification.Statement.FeatureDeprecationWarning} {category: DEPRECATION} {title: This feature is deprecated and will be removed in future versions.} {description: The query used a deprecated function: `id`.} {position: line: 1, column: 23, offset: 22} for query: 'MATCH (m:Movie) WHERE ID(m) = $id SET m.plotEmbedding = $embedding'\n"
     ]
    },
    {
     "name": "stdout",
     "output_type": "stream",
     "text": [
      "Updated movie \"Unforgettable\" with embedding.\n",
      "97\n",
      "A rejected hockey player puts his skills to the golf course to save his grandmother's house.\n",
      "============================\n"
     ]
    },
    {
     "name": "stderr",
     "output_type": "stream",
     "text": [
      "Received notification from DBMS server: {severity: WARNING} {code: Neo.ClientNotification.Statement.FeatureDeprecationWarning} {category: DEPRECATION} {title: This feature is deprecated and will be removed in future versions.} {description: The query used a deprecated function: `id`.} {position: line: 1, column: 23, offset: 22} for query: 'MATCH (m:Movie) WHERE ID(m) = $id SET m.plotEmbedding = $embedding'\n"
     ]
    },
    {
     "name": "stdout",
     "output_type": "stream",
     "text": [
      "Updated movie \"Happy Gilmore\" with embedding.\n",
      "98\n",
      "Photographer Robert Kincaid wanders into the life of housewife Francesca Johnson, for four days in the 1960s.\n",
      "============================\n"
     ]
    },
    {
     "name": "stderr",
     "output_type": "stream",
     "text": [
      "Received notification from DBMS server: {severity: WARNING} {code: Neo.ClientNotification.Statement.FeatureDeprecationWarning} {category: DEPRECATION} {title: This feature is deprecated and will be removed in future versions.} {description: The query used a deprecated function: `id`.} {position: line: 1, column: 23, offset: 22} for query: 'MATCH (m:Movie) WHERE ID(m) = $id SET m.plotEmbedding = $embedding'\n"
     ]
    },
    {
     "name": "stdout",
     "output_type": "stream",
     "text": [
      "Updated movie \"Bridges of Madison County, The\" with embedding.\n",
      "99\n",
      "The Muppets' twist on the classic tale.\n",
      "============================\n"
     ]
    },
    {
     "name": "stderr",
     "output_type": "stream",
     "text": [
      "Received notification from DBMS server: {severity: WARNING} {code: Neo.ClientNotification.Statement.FeatureDeprecationWarning} {category: DEPRECATION} {title: This feature is deprecated and will be removed in future versions.} {description: The query used a deprecated function: `id`.} {position: line: 1, column: 23, offset: 22} for query: 'MATCH (m:Movie) WHERE ID(m) = $id SET m.plotEmbedding = $embedding'\n"
     ]
    },
    {
     "name": "stdout",
     "output_type": "stream",
     "text": [
      "Updated movie \"Muppet Treasure Island\" with embedding.\n",
      "100\n",
      "A camera follows model Christy Turlington through the spring fashion shows in Milan, Paris, and New York one year in the early 1990s, probably 1992. She and others dash from one designer's ...\n",
      "============================\n"
     ]
    },
    {
     "name": "stderr",
     "output_type": "stream",
     "text": [
      "Received notification from DBMS server: {severity: WARNING} {code: Neo.ClientNotification.Statement.FeatureDeprecationWarning} {category: DEPRECATION} {title: This feature is deprecated and will be removed in future versions.} {description: The query used a deprecated function: `id`.} {position: line: 1, column: 23, offset: 22} for query: 'MATCH (m:Movie) WHERE ID(m) = $id SET m.plotEmbedding = $embedding'\n",
      "Received notification from DBMS server: {severity: WARNING} {code: Neo.ClientNotification.Statement.FeatureDeprecationWarning} {category: DEPRECATION} {title: This feature is deprecated and will be removed in future versions.} {description: The query used a deprecated function: `id`.} {position: line: 1, column: 23, offset: 22} for query: 'MATCH (m:Movie) WHERE ID(m) = $id SET m.plotEmbedding = $embedding'\n"
     ]
    },
    {
     "name": "stdout",
     "output_type": "stream",
     "text": [
      "Updated movie \"Catwalk\" with embedding.\n"
     ]
    }
   ],
   "source": [
    "import time\n",
    "\n",
    "def add_embedding_to_movie(tx):\n",
    "  '''모든 Movie 노드의 plot을 임베딩하고, 그 값을 embedding 속성에 추가'''\n",
    "  result = tx.run('MATCH (m:Movie) WHERE m.plot IS NOT NULL RETURN m.title AS title, m.plot AS plot, ID(m) AS id LIMIT 100')\n",
    "  cnt = 0\n",
    "  for record in result:\n",
    "    cnt += 1\n",
    "    print(cnt)\n",
    "    title = record['title']\n",
    "    plot = record['plot']\n",
    "    node_id = record['id']\n",
    "    print(plot)\n",
    "    print('============================')\n",
    "    embedding = generate_embedding(plot)\n",
    "    time.sleep(5)\n",
    "\n",
    "    tx.run('MATCH (m:Movie) WHERE ID(m) = $id SET m.plotEmbedding = $embedding', id=node_id, embedding=embedding)\n",
    "    print(f'Updated movie \"{title}\" with embedding.')\n",
    "\n",
    "with driver.session() as session:\n",
    "  session.execute_write(add_embedding_to_movie)"
   ]
  },
  {
   "cell_type": "code",
   "execution_count": null,
   "id": "4e28b482",
   "metadata": {},
   "outputs": [],
   "source": []
  }
 ],
 "metadata": {
  "kernelspec": {
   "display_name": "Python 3",
   "language": "python",
   "name": "python3"
  },
  "language_info": {
   "codemirror_mode": {
    "name": "ipython",
    "version": 3
   },
   "file_extension": ".py",
   "mimetype": "text/x-python",
   "name": "python",
   "nbconvert_exporter": "python",
   "pygments_lexer": "ipython3",
   "version": "3.11.2"
  }
 },
 "nbformat": 4,
 "nbformat_minor": 5
}
